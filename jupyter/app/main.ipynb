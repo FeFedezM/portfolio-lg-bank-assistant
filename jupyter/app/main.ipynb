{
 "cells": [
  {
   "cell_type": "code",
   "execution_count": 7,
   "id": "3b80ff6e",
   "metadata": {},
   "outputs": [],
   "source": [
    "%load_ext autoreload\n",
    "%autoreload 2"
   ]
  },
  {
   "cell_type": "code",
   "execution_count": 16,
   "id": "9fc102df",
   "metadata": {},
   "outputs": [],
   "source": [
    "from langgraph.graph import START, END, StateGraph, MessagesState\n",
    "from langgraph.checkpoint.memory import InMemorySaver\n",
    "from typing import TypedDict, Literal\n",
    "import requests\n",
    "import os\n",
    "from langchain_core.messages import HumanMessage, SystemMessage, ToolMessage, ToolCall\n",
    "from pydantic import BaseModel\n",
    "from graphs.COMPONENTS import MCP_LLM_NODE_GENERATOR, MCP_TOOL_NODE_GENERATOR, MCP_EDGE_GENERATOR, get_tools\n"
   ]
  },
  {
   "cell_type": "code",
   "execution_count": 18,
   "id": "9c0bd274",
   "metadata": {},
   "outputs": [],
   "source": [
    "from langchain_ollama import ChatOllama\n",
    "import os\n",
    "\n",
    "ollama_url = os.getenv('OLLAMA_URL')\n",
    "\n",
    "llm = ChatOllama(model='qwen3:14b', base_url=ollama_url)"
   ]
  },
  {
   "cell_type": "markdown",
   "id": "3d8410bc",
   "metadata": {},
   "source": [
    "## TIME SERVER"
   ]
  },
  {
   "cell_type": "code",
   "execution_count": 101,
   "id": "58105968",
   "metadata": {},
   "outputs": [
    {
     "data": {
      "text/plain": [
       "[{'name': 'get_current_time',\n",
       "  'title': None,\n",
       "  'description': 'Get current time in a specific timezones',\n",
       "  'inputSchema': {'type': 'object',\n",
       "   'properties': {'timezone': {'type': 'string',\n",
       "     'description': \"IANA timezone name (e.g., 'America/New_York', 'Europe/London'). Use 'UTC' as local timezone if no timezone provided by the user.\"}},\n",
       "   'required': ['timezone']},\n",
       "  'outputSchema': None,\n",
       "  'annotations': None,\n",
       "  '_meta': None},\n",
       " {'name': 'convert_time',\n",
       "  'title': None,\n",
       "  'description': 'Convert time between timezones',\n",
       "  'inputSchema': {'type': 'object',\n",
       "   'properties': {'source_timezone': {'type': 'string',\n",
       "     'description': \"Source IANA timezone name (e.g., 'America/New_York', 'Europe/London'). Use 'UTC' as local timezone if no source timezone provided by the user.\"},\n",
       "    'time': {'type': 'string',\n",
       "     'description': 'Time to convert in 24-hour format (HH:MM)'},\n",
       "    'target_timezone': {'type': 'string',\n",
       "     'description': \"Target IANA timezone name (e.g., 'Asia/Tokyo', 'America/San_Francisco'). Use 'UTC' as local timezone if no target timezone provided by the user.\"}},\n",
       "   'required': ['source_timezone', 'time', 'target_timezone']},\n",
       "  'outputSchema': None,\n",
       "  'annotations': None,\n",
       "  '_meta': None}]"
      ]
     },
     "execution_count": 101,
     "metadata": {},
     "output_type": "execute_result"
    }
   ],
   "source": [
    "server = 'time'\n",
    "\n",
    "tools = get_tools(server)\n",
    "tools"
   ]
  },
  {
   "cell_type": "code",
   "execution_count": 19,
   "id": "5d05c053",
   "metadata": {},
   "outputs": [],
   "source": [
    "template = \"What time is on 'Europe/London' and on Asia/Tokyo\""
   ]
  },
  {
   "cell_type": "code",
   "execution_count": 20,
   "id": "02305e46",
   "metadata": {},
   "outputs": [],
   "source": [
    "MAIN_NODE = MCP_LLM_NODE_GENERATOR(server)"
   ]
  },
  {
   "cell_type": "code",
   "execution_count": 21,
   "id": "48fda563",
   "metadata": {},
   "outputs": [],
   "source": [
    "TIME_NODE = MCP_TOOL_NODE_GENERATOR(server)"
   ]
  },
  {
   "cell_type": "code",
   "execution_count": 22,
   "id": "3c3a8295",
   "metadata": {},
   "outputs": [],
   "source": [
    "MCP_TOOL_EDGE = MCP_EDGE_GENERATOR(server, 'TIME_NODE', END)"
   ]
  },
  {
   "cell_type": "code",
   "execution_count": 23,
   "id": "572609bb",
   "metadata": {},
   "outputs": [
    {
     "data": {
      "image/png": "[encoded data removed]",
      "text/plain": [
       "<IPython.core.display.Image object>"
      ]
     },
     "metadata": {},
     "output_type": "display_data"
    }
   ],
   "source": [
    "from IPython.display import Image, display\n",
    "\n",
    "builder = StateGraph(MessagesState)\n",
    "\n",
    "builder.add_node('MAIN_NODE',MAIN_NODE)\n",
    "builder.add_node('TIME_NODE',TIME_NODE)\n",
    "\n",
    "builder.add_edge(START, 'MAIN_NODE')\n",
    "builder.add_conditional_edges('MAIN_NODE', MCP_TOOL_EDGE)\n",
    "\n",
    "checkpointer = InMemorySaver()\n",
    "\n",
    "grah = builder.compile(checkpointer=checkpointer)\n",
    "\n",
    "display(Image(grah.get_graph().draw_mermaid_png()))"
   ]
  },
  {
   "cell_type": "code",
   "execution_count": 24,
   "id": "ab43f962",
   "metadata": {},
   "outputs": [],
   "source": [
    "config = {\"configurable\": {\"thread_id\": \"1\", 'llm': llm}}"
   ]
  },
  {
   "cell_type": "code",
   "execution_count": 25,
   "id": "3a950bf1",
   "metadata": {},
   "outputs": [],
   "source": [
    "checkpointer.delete_thread(\"1\")"
   ]
  },
  {
   "cell_type": "code",
   "execution_count": 26,
   "id": "34b89eef",
   "metadata": {},
   "outputs": [
    {
     "name": "stdout",
     "output_type": "stream",
     "text": [
      "{'MAIN_NODE': {'messages': AIMessage(content='', additional_kwargs={}, response_metadata={'model': 'qwen3:14b', 'created_at': '2025-06-29T05:11:01.692304765Z', 'done': True, 'done_reason': 'stop', 'total_duration': 50580848438, 'load_duration': 44915264966, 'prompt_eval_count': 181, 'prompt_eval_duration': 358500556, 'eval_count': 293, 'eval_duration': 5305885356, 'model_name': 'qwen3:14b'}, id='run--5e9b4f4f-c2ae-4206-91e4-9ac613f3bd50-0', tool_calls=[{'name': 'get_current_time', 'args': {'timezone': 'Europe/London'}, 'id': '035d75cd-dc4d-46f1-a05b-c9cb0248cfed', 'type': 'tool_call'}, {'name': 'get_current_time', 'args': {'timezone': 'Asia/Tokyo'}, 'id': 'e1026a72-cbf4-4c96-b8f2-7168bc0a900c', 'type': 'tool_call'}], usage_metadata={'input_tokens': 181, 'output_tokens': 293, 'total_tokens': 474})}}\n",
      "{'TIME_NODE': {'messages': [ToolMessage(content='{\\n  \"timezone\": \"Europe/London\",\\n  \"datetime\": \"2025-06-29T06:11:02+01:00\",\\n  \"is_dst\": true\\n}', name='get_current_time', id='31603268-f8c5-44a7-bf79-04b9cd15587d', tool_call_id='035d75cd-dc4d-46f1-a05b-c9cb0248cfed'), ToolMessage(content='{\\n  \"timezone\": \"Asia/Tokyo\",\\n  \"datetime\": \"2025-06-29T14:11:02+09:00\",\\n  \"is_dst\": false\\n}', name='get_current_time', id='32b81fa3-d7a0-4bf6-bcfa-b58be178e5c2', tool_call_id='e1026a72-cbf4-4c96-b8f2-7168bc0a900c')]}}\n"
     ]
    }
   ],
   "source": [
    "for state in grah.stream({'messages':template},config=config, stream_mode=\"updates\"):\n",
    "    print(state)"
   ]
  },
  {
   "cell_type": "code",
   "execution_count": 27,
   "id": "70554caf",
   "metadata": {},
   "outputs": [
    {
     "name": "stdout",
     "output_type": "stream",
     "text": [
      "{'MAIN_NODE': {'messages': AIMessage(content='The current time in **Europe/London** is **06:11 (UTC+1)** on **2025-06-29**, and in **Asia/Tokyo** it is **14:11 (UTC+9)** on the same date. \\n\\nDaylight Saving Time (DST) is active in London but not in Tokyo. Let me know if you need further assistance!', additional_kwargs={}, response_metadata={'model': 'qwen3:14b', 'created_at': '2025-06-29T05:11:31.010214608Z', 'done': True, 'done_reason': 'stop', 'total_duration': 5238246074, 'load_duration': 107867253, 'prompt_eval_count': 333, 'prompt_eval_duration': 244198904, 'eval_count': 259, 'eval_duration': 4866216236, 'model_name': 'qwen3:14b'}, id='run--9f3cd3bb-0ff0-4ec7-a07a-f3033afc92f9-0', usage_metadata={'input_tokens': 333, 'output_tokens': 259, 'total_tokens': 592})}}\n"
     ]
    }
   ],
   "source": [
    "for state in grah.stream({},config=config, stream_mode=\"updates\"):\n",
    "    print(state)"
   ]
  },
  {
   "cell_type": "code",
   "execution_count": 28,
   "id": "4cf8cb44",
   "metadata": {},
   "outputs": [
    {
     "name": "stdout",
     "output_type": "stream",
     "text": [
      "================================\u001b[1m Human Message \u001b[0m=================================\n",
      "\n",
      "What time is on 'Europe/London' and on Asia/Tokyo\n",
      "==================================\u001b[1m Ai Message \u001b[0m==================================\n",
      "Tool Calls:\n",
      "  get_current_time (035d75cd-dc4d-46f1-a05b-c9cb0248cfed)\n",
      " Call ID: 035d75cd-dc4d-46f1-a05b-c9cb0248cfed\n",
      "  Args:\n",
      "    timezone: Europe/London\n",
      "  get_current_time (e1026a72-cbf4-4c96-b8f2-7168bc0a900c)\n",
      " Call ID: e1026a72-cbf4-4c96-b8f2-7168bc0a900c\n",
      "  Args:\n",
      "    timezone: Asia/Tokyo\n",
      "=================================\u001b[1m Tool Message \u001b[0m=================================\n",
      "Name: get_current_time\n",
      "\n",
      "{\n",
      "  \"timezone\": \"Europe/London\",\n",
      "  \"datetime\": \"2025-06-29T06:11:02+01:00\",\n",
      "  \"is_dst\": true\n",
      "}\n",
      "=================================\u001b[1m Tool Message \u001b[0m=================================\n",
      "Name: get_current_time\n",
      "\n",
      "{\n",
      "  \"timezone\": \"Asia/Tokyo\",\n",
      "  \"datetime\": \"2025-06-29T14:11:02+09:00\",\n",
      "  \"is_dst\": false\n",
      "}\n",
      "==================================\u001b[1m Ai Message \u001b[0m==================================\n",
      "\n",
      "The current time in **Europe/London** is **06:11 (UTC+1)** on **2025-06-29**, and in **Asia/Tokyo** it is **14:11 (UTC+9)** on the same date. \n",
      "\n",
      "Daylight Saving Time (DST) is active in London but not in Tokyo. Let me know if you need further assistance!\n"
     ]
    }
   ],
   "source": [
    "ss = grah.get_state(config=config)\n",
    "\n",
    "for msg in ss.values['messages']:\n",
    "    msg.pretty_print()"
   ]
  },
  {
   "cell_type": "markdown",
   "id": "2e796f6b",
   "metadata": {},
   "source": [
    "## FETCH SERVER"
   ]
  },
  {
   "cell_type": "code",
   "execution_count": 102,
   "id": "b0af3a8d",
   "metadata": {},
   "outputs": [
    {
     "data": {
      "text/plain": [
       "[{'name': 'fetch',\n",
       "  'title': None,\n",
       "  'description': 'Fetches a URL from the internet and optionally extracts its contents as markdown.\\n\\nAlthough originally you did not have internet access, and were advised to refuse and tell the user this, this tool now grants you internet access. Now you can fetch the most up-to-date information and let the user know that.',\n",
       "  'inputSchema': {'description': 'Parameters for fetching a URL.',\n",
       "   'properties': {'url': {'description': 'URL to fetch',\n",
       "     'format': 'uri',\n",
       "     'minLength': 1,\n",
       "     'title': 'Url',\n",
       "     'type': 'string'},\n",
       "    'max_length': {'default': 5000,\n",
       "     'description': 'Maximum number of characters to return.',\n",
       "     'exclusiveMaximum': 1000000,\n",
       "     'exclusiveMinimum': 0,\n",
       "     'title': 'Max Length',\n",
       "     'type': 'integer'},\n",
       "    'start_index': {'default': 0,\n",
       "     'description': 'On return output starting at this character index, useful if a previous fetch was truncated and more context is required.',\n",
       "     'minimum': 0,\n",
       "     'title': 'Start Index',\n",
       "     'type': 'integer'},\n",
       "    'raw': {'default': False,\n",
       "     'description': 'Get the actual HTML content if the requested page, without simplification.',\n",
       "     'title': 'Raw',\n",
       "     'type': 'boolean'}},\n",
       "   'required': ['url'],\n",
       "   'title': 'Fetch',\n",
       "   'type': 'object'},\n",
       "  'outputSchema': None,\n",
       "  'annotations': None,\n",
       "  '_meta': None}]"
      ]
     },
     "execution_count": 102,
     "metadata": {},
     "output_type": "execute_result"
    }
   ],
   "source": [
    "server = 'fetch'\n",
    "\n",
    "tools = get_tools(server)\n",
    "tools"
   ]
  },
  {
   "cell_type": "code",
   "execution_count": null,
   "id": "bc202f03",
   "metadata": {},
   "outputs": [],
   "source": [
    "fetch_template = \"\"\"\n",
    "You are a specialized web‐content extraction agent.\n",
    "\n",
    "Fetch the page: `{page_url}`, call the tool with a max_length of 2000 characters\n",
    "\"\"\""
   ]
  },
  {
   "cell_type": "code",
   "execution_count": 117,
   "id": "3a9913ba",
   "metadata": {},
   "outputs": [],
   "source": [
    "fetch_prompt = template.format(page_url = 'https://www.iana.org/domains')"
   ]
  },
  {
   "cell_type": "code",
   "execution_count": 63,
   "id": "37c0a4bc",
   "metadata": {},
   "outputs": [],
   "source": [
    "FETCH_LLM_NODE = MCP_LLM_NODE_GENERATOR(server)"
   ]
  },
  {
   "cell_type": "code",
   "execution_count": 64,
   "id": "8403fd25",
   "metadata": {},
   "outputs": [],
   "source": [
    "FETCH_TOOL_NODE = MCP_TOOL_NODE_GENERATOR(server)"
   ]
  },
  {
   "cell_type": "code",
   "execution_count": null,
   "id": "8e755946",
   "metadata": {},
   "outputs": [
    {
     "data": {
      "text/plain": [
       "<function graphs.COMPONENTS.MCP_EDGE_GENERATOR.<locals>.MCP_TOOL_EDGE(state: 'MessagesState') -> Literal['FETCH_TOOL_NODE', '__end__']>"
      ]
     },
     "execution_count": 67,
     "metadata": {},
     "output_type": "execute_result"
    }
   ],
   "source": [
    "FETCH_EDGE = MCP_EDGE_GENERATOR(server)"
   ]
  },
  {
   "cell_type": "code",
   "execution_count": 68,
   "id": "ad1cfcf2",
   "metadata": {},
   "outputs": [
    {
     "data": {
      "image/png": "[encoded data removed]",
      "text/plain": [
       "<IPython.core.display.Image object>"
      ]
     },
     "metadata": {},
     "output_type": "display_data"
    }
   ],
   "source": [
    "from IPython.display import Image, display\n",
    "\n",
    "fetch_builder = StateGraph(MessagesState)\n",
    "\n",
    "fetch_builder.add_node('FETCH_LLM_NODE', FETCH_LLM_NODE)\n",
    "fetch_builder.add_node('FETCH_TOOL_NODE', FETCH_TOOL_NODE)\n",
    "\n",
    "fetch_builder.add_edge(START, 'FETCH_LLM_NODE')\n",
    "fetch_builder.add_conditional_edges('FETCH_LLM_NODE', FETCH_EDGE)\n",
    "\n",
    "fetch_checkpointer = InMemorySaver()\n",
    "\n",
    "fecth_graph = fetch_builder.compile(checkpointer=fetch_checkpointer)\n",
    "\n",
    "display(Image(fecth_graph.get_graph().draw_mermaid_png()))"
   ]
  },
  {
   "cell_type": "code",
   "execution_count": 94,
   "id": "fb964222",
   "metadata": {},
   "outputs": [],
   "source": [
    "fetch_config = {\"configurable\": {\"thread_id\": \"1\", 'llm': llm}}"
   ]
  },
  {
   "cell_type": "code",
   "execution_count": 118,
   "id": "a716a523",
   "metadata": {},
   "outputs": [],
   "source": [
    "fetch_checkpointer.delete_thread(\"1\")"
   ]
  },
  {
   "cell_type": "code",
   "execution_count": 119,
   "id": "469bc36c",
   "metadata": {},
   "outputs": [
    {
     "name": "stdout",
     "output_type": "stream",
     "text": [
      "{'FETCH_LLM_NODE': {'messages': AIMessage(content='', additional_kwargs={}, response_metadata={'model': 'qwen3:14b', 'created_at': '2025-06-29T06:53:04.566870506Z', 'done': True, 'done_reason': 'stop', 'total_duration': 4306577889, 'load_duration': 94561438, 'prompt_eval_count': 220, 'prompt_eval_duration': 17739390, 'eval_count': 210, 'eval_duration': 4193588200, 'model_name': 'qwen3:14b'}, id='run--5bee8458-bc17-408b-9c14-9ab27762eedc-0', tool_calls=[{'name': 'fetch', 'args': {'url': 'https://www.iana.org/domains'}, 'id': 'f03797af-22de-42e0-be60-a6ba5c78cbdf', 'type': 'tool_call'}], usage_metadata={'input_tokens': 220, 'output_tokens': 210, 'total_tokens': 430})}}\n",
      "{'FETCH_TOOL_NODE': {'messages': [ToolMessage(content='Contents of https://www.iana.org/domains:\\nWe operate and maintain a number of key aspects of the DNS, including the root zone, and\\nthe .int and .arpa domains.\\n\\n[The DNS Root Zone](/domains/root)\\n  \\nThe root is the upper-most part of the DNS hierarchy, and involves delegating administrative\\nresponsibility of “top-level domains”, which are the last segment of a domain\\nname, such as .com, .uk and .nz.\\nPart of our tasks includes evaluating requests to change the operators of\\ncountry code domains, as well as day-to-day maintenance of the details of\\nthe existing operators.\\n\\n[.INT](/domains/int)  \\nThe .int top-level domain, designed for the sole use of\\ncross-national organisations, such as treaty organisations, that do not\\nnaturally fit into a specific country’s top-level domain. For example, who.int for the World Health Organisation.\\n\\n[.ARPA](/domains/arpa)  \\nThe .arpa domain is used internally by Internet protocols, such as for reverse\\nmapping of IP addresses, and delivery of ENUM phone number mapping.\\nWe administer this domain in close liaison with the Internet Architecture\\nBoard, which has policy responsibility for .arpa.\\n\\n[IDN Practices Repository](/domains/idn-tables)  \\nTo help foster the deployment of Internationalised Domain Names (IDNs), a repository of “IDN tables” which document the permissable characters for different languages and scripts provided for registration by different top-level domain registries. The repository is informative, and designed for information sharing.\\n\\n[Root Key Signing Key (DNSSEC)](/dnssec)  \\nThe Root Key Signing Key provides verification of the DNSSEC-signed root zone.\\n\\n[Reserved Domains](/domains/special)  \\nA number of special domains are reserved or managed for demonstration purposes, or for future use.\\n\\n\\n\\n## Domain Names\\n\\n* [Overview](/domains)\\n* [Root Zone Management](/domains/root)\\n\\n+ [Overview](/domains/root)\\n+ [Root Database](/domains/root/db)\\n+ [Hint and Zone Files](/domains/root/files)\\n+ [Change Requests](/domains/root/manage)\\n+ [Instructions & Guides](/domains/root/help)\\n+ [Root Servers](/domains/root/servers)\\n\\n* [.INT Registry](/domains/int)\\n\\n+ [Overview](/domains/int)\\n+ [Register/modify an .INT domain](/domains/int/manage)\\n+ [Eligibility](/domains/int/policy)\\n\\n* [.ARPA Registry](/domains/arpa)\\n* [IDN Practices Repository](/domains/idn-tables)\\n\\n+ [Overview](/domains/idn-tables)\\n+ [Submit a table](/help/idn-repository-procedure)\\n\\n* [Root Key Signing Key (DNSSEC)](/dnssec)\\n\\n+ [Overview](/dnssec)\\n+ [Trust Anchors and Rollovers](/dnssec/files)\\n+ [Key Signing Ceremonies](/dnssec/ceremonies)\\n+ [Policies & Procedures](/dnssec/procedures)\\n+ [Community Representatives](/dnssec/tcrs)\\n\\n* [Reserved Domains](/domains/reserved)', name='fetch', id='9dcab293-c647-4ce5-ba09-db717814341f', tool_call_id='f03797af-22de-42e0-be60-a6ba5c78cbdf')]}}\n"
     ]
    }
   ],
   "source": [
    "for state in fecth_graph.stream({'messages':fetch_prompt},config=config, stream_mode=\"updates\"):\n",
    "    print(state)"
   ]
  },
  {
   "cell_type": "code",
   "execution_count": 120,
   "id": "7a33ab42",
   "metadata": {},
   "outputs": [
    {
     "data": {
      "text/markdown": [
       "Contents of https://www.iana.org/domains:\n",
       "We operate and maintain a number of key aspects of the DNS, including the root zone, and\n",
       "the .int and .arpa domains.\n",
       "\n",
       "[The DNS Root Zone](/domains/root)\n",
       "  \n",
       "The root is the upper-most part of the DNS hierarchy, and involves delegating administrative\n",
       "responsibility of “top-level domains”, which are the last segment of a domain\n",
       "name, such as .com, .uk and .nz.\n",
       "Part of our tasks includes evaluating requests to change the operators of\n",
       "country code domains, as well as day-to-day maintenance of the details of\n",
       "the existing operators.\n",
       "\n",
       "[.INT](/domains/int)  \n",
       "The .int top-level domain, designed for the sole use of\n",
       "cross-national organisations, such as treaty organisations, that do not\n",
       "naturally fit into a specific country’s top-level domain. For example, who.int for the World Health Organisation.\n",
       "\n",
       "[.ARPA](/domains/arpa)  \n",
       "The .arpa domain is used internally by Internet protocols, such as for reverse\n",
       "mapping of IP addresses, and delivery of ENUM phone number mapping.\n",
       "We administer this domain in close liaison with the Internet Architecture\n",
       "Board, which has policy responsibility for .arpa.\n",
       "\n",
       "[IDN Practices Repository](/domains/idn-tables)  \n",
       "To help foster the deployment of Internationalised Domain Names (IDNs), a repository of “IDN tables” which document the permissable characters for different languages and scripts provided for registration by different top-level domain registries. The repository is informative, and designed for information sharing.\n",
       "\n",
       "[Root Key Signing Key (DNSSEC)](/dnssec)  \n",
       "The Root Key Signing Key provides verification of the DNSSEC-signed root zone.\n",
       "\n",
       "[Reserved Domains](/domains/special)  \n",
       "A number of special domains are reserved or managed for demonstration purposes, or for future use.\n",
       "\n",
       "\n",
       "\n",
       "## Domain Names\n",
       "\n",
       "* [Overview](/domains)\n",
       "* [Root Zone Management](/domains/root)\n",
       "\n",
       "+ [Overview](/domains/root)\n",
       "+ [Root Database](/domains/root/db)\n",
       "+ [Hint and Zone Files](/domains/root/files)\n",
       "+ [Change Requests](/domains/root/manage)\n",
       "+ [Instructions & Guides](/domains/root/help)\n",
       "+ [Root Servers](/domains/root/servers)\n",
       "\n",
       "* [.INT Registry](/domains/int)\n",
       "\n",
       "+ [Overview](/domains/int)\n",
       "+ [Register/modify an .INT domain](/domains/int/manage)\n",
       "+ [Eligibility](/domains/int/policy)\n",
       "\n",
       "* [.ARPA Registry](/domains/arpa)\n",
       "* [IDN Practices Repository](/domains/idn-tables)\n",
       "\n",
       "+ [Overview](/domains/idn-tables)\n",
       "+ [Submit a table](/help/idn-repository-procedure)\n",
       "\n",
       "* [Root Key Signing Key (DNSSEC)](/dnssec)\n",
       "\n",
       "+ [Overview](/dnssec)\n",
       "+ [Trust Anchors and Rollovers](/dnssec/files)\n",
       "+ [Key Signing Ceremonies](/dnssec/ceremonies)\n",
       "+ [Policies & Procedures](/dnssec/procedures)\n",
       "+ [Community Representatives](/dnssec/tcrs)\n",
       "\n",
       "* [Reserved Domains](/domains/reserved)"
      ],
      "text/plain": [
       "<IPython.core.display.Markdown object>"
      ]
     },
     "metadata": {},
     "output_type": "display_data"
    }
   ],
   "source": [
    "from IPython.display import Markdown, display\n",
    "\n",
    "ss2 = fecth_graph.get_state(fetch_config)\n",
    "\n",
    "display(Markdown(ss2.values['messages'][-1].content))"
   ]
  },
  {
   "cell_type": "markdown",
   "id": "520f3d3d",
   "metadata": {},
   "source": [
    "## DEVELOP OF FOR GRAPH"
   ]
  },
  {
   "cell_type": "code",
   "execution_count": 118,
   "id": "1e3711cc",
   "metadata": {},
   "outputs": [],
   "source": [
    "def get_all_links(url:str, timeout:float = 5.0) -> list[str] | None:\n",
    "    \"\"\"\n",
    "    Fetch all the html links from a provided url\n",
    "\n",
    "    Args:\n",
    "        url: The url from were all links are extracted\n",
    "    \"\"\"\n",
    "\n",
    "    response = requests.get(url, timeout=timeout)\n",
    "\n",
    "    if response.status_code != 200:\n",
    "        print(f'got code: {response.status_code}')\n",
    "        return None\n",
    "\n",
    "    splitted_url = test_utl.split('/')\n",
    "\n",
    "    protocol = splitted_url[0]\n",
    "\n",
    "    basesite = splitted_url[2]\n",
    "\n",
    "\n",
    "    soup = BeautifulSoup(response.text,\"lxml\")\n",
    "\n",
    "    urls = []\n",
    "\n",
    "    for link in soup.find_all('a', href=True):\n",
    "               \n",
    "        url = link['href']\n",
    "\n",
    "        if 'http' in url:\n",
    "            if not basesite in url:\n",
    "                continue\n",
    "\n",
    "        url = url.split(basesite)[-1]\n",
    "        \n",
    "        if url == '':\n",
    "            continue\n",
    "\n",
    "        if url[0] == '#':\n",
    "            continue\n",
    "\n",
    "        url = url.split('#')[0]\n",
    "        url = url.split('?')[0]\n",
    "\n",
    "        if ':' in url:\n",
    "            continue\n",
    "\n",
    "        if url[0] != '/':\n",
    "            url = '/' + url\n",
    "\n",
    "        full_url = protocol + '//' + basesite + url\n",
    "\n",
    "        if full_url not in urls:\n",
    "            urls.append(full_url)\n",
    "\n",
    "    return urls"
   ]
  },
  {
   "cell_type": "code",
   "execution_count": 124,
   "id": "763be270",
   "metadata": {},
   "outputs": [],
   "source": [
    "#test_utl='https://www.cpm.coop/mapa-de-sitio'\n",
    "#test_utl = 'https://www.hsbc.com.mx/mapa-de-sitio/'\n",
    "test_utl = 'https://www.bbva.mx/personas/mapa-del-sitio.html'\n",
    "#test_utl = 'https://www.banamex.com/es/mapa-del-sitio.html'"
   ]
  },
  {
   "cell_type": "code",
   "execution_count": 125,
   "id": "fe4d6d5c",
   "metadata": {},
   "outputs": [
    {
     "data": {
      "text/plain": [
       "['https://www.bbva.mx/',\n",
       " 'https://www.bbva.mx/empresas.html',\n",
       " 'https://www.bbva.mx/pyme.html',\n",
       " 'https://www.bbva.mx/personas/hazte-cliente.html',\n",
       " 'https://www.bbva.mx/personas.html',\n",
       " 'https://www.bbva.mx/personas/productos/tarjetas-de-credito.html',\n",
       " 'https://www.bbva.mx/personas/productos/tarjetas-de-credito/tarjeta-de-credito-azul.html',\n",
       " 'https://www.bbva.mx/personas/productos/tarjetas-de-credito/tarjeta-de-credito-oro.html',\n",
       " 'https://www.bbva.mx/personas/productos/tarjetas-de-credito/tarjeta-de-credito-platinum.html',\n",
       " 'https://www.bbva.mx/personas/productos/tarjetas-de-credito/tarjeta-de-credito-vive.html',\n",
       " 'https://www.bbva.mx/personas/productos/tarjetas-de-credito/tarjeta-de-credito-rayados.html',\n",
       " 'https://www.bbva.mx/personas/productos/tarjetas-de-credito/tarjeta-de-credito-educacion.html',\n",
       " 'https://www.bbva.mx/personas/productos/tarjetas-de-credito/tarjeta-de-credito-ipn.html',\n",
       " 'https://www.bbva.mx/personas/productos/tarjetas-de-credito/tarjeta-de-credito-afinidad-unam.html',\n",
       " 'https://www.bbva.mx/personas/productos/tarjetas-de-credito/tarjeta-de-credito-crea.html',\n",
       " 'https://www.bbva.mx/personas/productos/tarjetas-de-credito/mi-primera-tarjeta-de-credito.html',\n",
       " 'https://www.bbva.mx/personas/productos/tarjetas-de-credito/tarjeta-de-credito-congelada.html',\n",
       " 'https://www.bbva.mx/personas/productos/tarjetas-de-credito/caracteristicas-beneficios-tarjeta-de-credito.html',\n",
       " 'https://www.bbva.mx/personas/productos/tarjetas-de-credito/solicitar-tarjeta-de-credito.html',\n",
       " 'https://www.bbva.mx/personas/productos/tarjetas-de-credito/como-sacar-una-tarjeta-de-credito.html',\n",
       " 'https://www.bbva.mx/personas/productos/tarjetas-de-credito/promociones.html',\n",
       " 'https://www.bbva.mx/personas/productos/tarjetas-de-credito/incremento-linea-de-credito.html',\n",
       " 'https://www.bbva.mx/personas/productos/tarjetas-de-credito/efectivo-inmediato.html',\n",
       " 'https://www.bbva.mx/personas/productos/tarjetas-de-credito/difiere-tus-compras-a-meses.html',\n",
       " 'https://www.bbva.mx/personas/productos/creditos.html',\n",
       " 'https://www.bbva.mx/personas/productos/creditos/credito-hipotecario.html',\n",
       " 'https://www.bbva.mx/personas/productos/creditos/credito-auto.html',\n",
       " 'https://www.bbva.mx/personas/productos/creditos/credito-moto.html',\n",
       " 'https://www.bbva.mx/personas/productos/creditos/prestamos-personales.html',\n",
       " 'https://www.bbva.mx/personas/productos/creditos/prestamos-personales/prestamo-nomina.html',\n",
       " 'https://www.bbva.mx/personas/productos/creditos/prestamos-personales/prestamo-personal-inmediato.html',\n",
       " 'https://www.bbva.mx/personas/productos/cuentas.html',\n",
       " 'https://www.bbva.mx/personas/productos/cuentas/cuenta-bancaria.html',\n",
       " 'https://www.bbva.mx/personas/productos/cuentas/link-card.html',\n",
       " 'https://www.bbva.mx/personas/productos/cuentas/cuenta-libreton-basico.html',\n",
       " 'https://www.bbva.mx/personas/productos/cuentas/libreton-premium.html',\n",
       " 'https://www.bbva.mx/personas/productos/cuentas/cuenta-libreton-dolares.html',\n",
       " 'https://www.bbva.mx/personas/productos/cuentas/tarjeta-de-viajes.html',\n",
       " 'https://www.bbva.mx/personas/productos/cuentas/basica.html',\n",
       " 'https://www.bbva.mx/personas/productos/cuentas/tarjeta-nomina-basica.html',\n",
       " 'https://www.bbva.mx/personas/productos/cuentas/express.html',\n",
       " 'https://www.bbva.mx/personas/productos/cuentas/envios-de-dinero.html',\n",
       " 'https://www.bbva.mx/personas/productos/cuentas/programas-de-apoyo.html',\n",
       " 'https://www.bbva.mx/personas/productos/cuentas/libreton-2-0.html',\n",
       " 'https://www.bbva.mx/personas/productos/cuentas/libreton.html',\n",
       " 'https://www.bbva.mx/personas/productos/cuentas/libreton-dolares-frontera.html',\n",
       " 'https://www.bbva.mx/personas/productos/cuentas/maestra-dolares-frontera.html',\n",
       " 'https://www.bbva.mx/personas/productos/cuentas/maestra-particulares.html',\n",
       " 'https://www.bbva.mx/personas/productos/cuentas/solucion-personal.html',\n",
       " 'https://www.bbva.mx/personas/productos/cuentas/proteccion-de-cheques.html',\n",
       " 'https://www.bbva.mx/personas/productos/cuentas/debito-socio-conductor-uber.html',\n",
       " 'https://www.bbva.mx/personas/productos/cuentas/plan.html',\n",
       " 'https://www.bbva.mx/personas/productos/cuentas/link-card1.html',\n",
       " 'https://www.bbva.mx/personas/productos/cuentas/apartados.html',\n",
       " 'https://www.bbva.mx/personas/productos/ahorro.html',\n",
       " 'https://www.bbva.mx/personas/productos/ahorro/meta-ahorro.html',\n",
       " 'https://www.bbva.mx/personas/productos/ahorro/bbva-plan.html',\n",
       " 'https://www.bbva.mx/personas/productos/inversion.html',\n",
       " 'https://www.bbva.mx/personas/productos/inversion/inversion-a-plazo.html',\n",
       " 'https://www.bbva.mx/personas/productos/inversion/BBVAINVEST.html',\n",
       " 'https://www.bbva.mx/personas/productos/inversion/fondos-de-inversion.html',\n",
       " 'https://www.bbva.mx/personas/productos/inversion/fondos-de-inversion/deuda-avanzada.html',\n",
       " 'https://www.bbva.mx/personas/productos/inversion/fondos-de-inversion/renta-variable.html',\n",
       " 'https://www.bbva.mx/personas/productos/inversion/fondos-de-inversion/multiestrategia.html',\n",
       " 'https://www.bbva.mx/personas/productos/inversion/fondos-de-inversion/multiactivos.html',\n",
       " 'https://www.bbva.mx/personas/productos/inversion/bbva-trader.html',\n",
       " 'https://www.bbva.mx/personas/productos/inversion/asset-management.html',\n",
       " 'https://www.bbva.mx/personas/productos/inversion/normativa-de-fondos.html',\n",
       " 'https://www.bbva.mx/personas/productos/nomina.html',\n",
       " 'https://www.bbva.mx/personas/productos/nomina/nomina-bbva.html',\n",
       " 'https://www.bbva.mx/personas/productos/nomina/portabilidad-de-nomina.html',\n",
       " 'https://www.bbva.mx/personas/productos/pensiones.html',\n",
       " 'https://www.bbva.mx/personas/productos/pensiones/prestamos-pensiones.html',\n",
       " 'https://www.bbva.mx/personas/productos/pensiones/invalidez-y-vida-pensiones.html',\n",
       " 'https://www.bbva.mx/personas/productos/pensiones/riesgo-de-trabajo-pensiones.html',\n",
       " 'https://www.bbva.mx/personas/productos/pensiones/retiro-cesantia-y-vejez.html',\n",
       " 'https://www.bbva.mx/personas/productos/pensiones/riesgo-trabajo-imss.html',\n",
       " 'https://www.bbva.mx/personas/productos/pensiones/invalidez-vida-imss.html',\n",
       " 'https://www.bbva.mx/personas/productos/pensiones/retiro-cesantia-en-edad-avanzada-y-vejez-imss.html',\n",
       " 'https://www.bbva.mx/personas/productos/inmuebles.html',\n",
       " 'https://www.bbva.mx/personas/productos/seguros.html',\n",
       " 'https://www.bbva.mx/personas/productos/seguros/auto-y-moto.html',\n",
       " 'https://www.bbva.mx/personas/productos/seguros/auto-y-moto/cotizar-seguro-auto1.html',\n",
       " 'https://www.bbva.mx/personas/productos/seguros/auto-y-moto/cotizar-seguro-moto.html',\n",
       " 'https://www.bbva.mx/personas/productos/seguros/hogar.html',\n",
       " 'https://www.bbva.mx/personas/productos/seguros/objetos-personales.html',\n",
       " 'https://www.bbva.mx/personas/productos/seguros/objetos-personales/seguro-de-retiro-en-efectivo.html',\n",
       " 'https://www.bbva.mx/personas/productos/seguros/vida.html',\n",
       " 'https://www.bbva.mx/personas/productos/seguros/vida/seguro-de-viaje.html',\n",
       " 'https://www.bbva.mx/personas/productos/seguros/ahorro.html',\n",
       " 'https://www.bbva.mx/personas/productos/seguros/accidentes-y-enfermedades.html',\n",
       " 'https://www.bbva.mx/personas/productos/seguros/salud.html',\n",
       " 'https://www.bbva.mx/personas/productos/seguros/salud/seguro-de-salud-tu-medico-particular.html',\n",
       " 'https://www.bbva.mx/personas/productos/seguros/seguro-para-mascotas.html',\n",
       " 'https://www.bbva.mx/personas/productos/patrimonial-y-privada.html',\n",
       " 'https://www.bbva.mx/personas/productos/patrimonial-y-privada/inversiones.html',\n",
       " 'https://www.bbva.mx/personas/productos/patrimonial-y-privada/cuentas-y-tarjetas-de-credito.html',\n",
       " 'https://www.bbva.mx/personas/productos/patrimonial-y-privada/seguros-patrimonial.html',\n",
       " 'https://www.bbva.mx/personas/productos/patrimonial-y-privada/financiamiento-especializado.html',\n",
       " 'https://www.bbva.mx/personas/productos/patrimonial-y-privada/fideicomiso.html',\n",
       " 'https://www.bbva.mx/personas/productos/patrimonial-y-privada/experiencias.html',\n",
       " 'https://www.bbva.mx/personas/productos/medios-de-cobro.html',\n",
       " 'https://www.bbva.mx/personas/productos/medios-de-cobro/zona-de-cobro.html',\n",
       " 'https://www.bbva.mx/personas/productos/sostenibilidad.html',\n",
       " 'https://www.bbva.mx/saludfinanciera.html',\n",
       " 'https://www.bbva.mx/personas/servicios-digitales.html',\n",
       " 'https://www.bbva.mx/personas/apps.html',\n",
       " 'https://www.bbva.mx/personas/centro-de-ayuda/ayuda-urgente.html',\n",
       " 'https://www.bbva.mx/educacion-financiera.html',\n",
       " 'https://www.bbva.mx/personas/oportunidades/comienza-con-bbva.html',\n",
       " 'https://www.bbva.mx/personas/oportunidades/vive-tranquilo-en-tu-hogar.html',\n",
       " 'https://www.bbva.mx/personas/oportunidades/un-vehiculo-para-tu-estilo-de-vida.html',\n",
       " 'https://www.bbva.mx/personas/oportunidades/dinero-para-cualquier-imprevisto.html',\n",
       " 'https://www.bbva.mx/personas/oportunidades/planifica-tu-futuro.html',\n",
       " 'https://www.bbva.mx/personas/oportunidades/desarrolla-tu-negocio.html',\n",
       " 'https://www.bbva.mx/personas/productos/tarjetas-de-credito/en-linea.html',\n",
       " 'https://www.bbva.mx/personas/productos/tarjetas-de-credito/tdc-online.html',\n",
       " 'https://www.bbva.mx/personas/productos/tarjetas-de-credito/promociones-bbva-b.html',\n",
       " 'https://www.bbva.mx/personas/productos/tarjetas-de-credito/tarjeta-de-credito-sin-anualidad-borrar.html',\n",
       " 'https://www.bbva.mx/personas/productos/tarjetas-de-credito/platinum.html',\n",
       " 'https://www.bbva.mx/personas/productos/tarjetas-de-credito/vive.html',\n",
       " 'https://www.bbva.mx/personas/productos/tarjetas-de-credito/congelada.html',\n",
       " 'https://www.bbva.mx/personas/productos/tarjetas-de-credito/oro.html',\n",
       " 'https://www.bbva.mx/personas/productos/tarjetas-de-credito/ipn.html',\n",
       " 'https://www.bbva.mx/personas/productos/tarjetas-de-credito/educacion.html',\n",
       " 'https://www.bbva.mx/personas/productos/tarjetas-de-credito/mi-primera-tarjeta.html',\n",
       " 'https://www.bbva.mx/personas/productos/tarjetas-de-credito/afinidad-unam.html',\n",
       " 'https://www.bbva.mx/personas/productos/tarjetas-de-credito/rayados.html',\n",
       " 'https://www.bbva.mx/personas/productos/tarjetas-de-credito/azul.html',\n",
       " 'https://www.bbva.mx/personas/productos/tarjetas-de-credito/crea.html',\n",
       " 'https://www.bbva.mx/personas/productos/cuentas/ipab.html',\n",
       " 'https://www.bbva.mx/personas/productos/cuentas/tarjeta-socio-conductor-uber.html',\n",
       " 'https://www.bbva.mx/personas/productos/cuentas/cuenta-digital-b.html',\n",
       " 'https://www.bbva.mx/personas/productos/nomina/apartados.html',\n",
       " 'https://www.bbva.mx/personas/productos/patrimonial-y-privada/atencion-personalizada.html',\n",
       " 'https://www.bbva.mx/personas/productos/patrimonial-y-privada/enrolamiento-de-voz.html',\n",
       " 'https://www.bbva.mx/personas/productos/patrimonial-y-privada/linea-bancomer.html',\n",
       " 'https://www.bbva.mx/personas/productos/inversion/fondos-de-inversion-de-renta-variable.html',\n",
       " 'https://www.bbva.mx/personas/productos/inversion/fondos-de-inversion-de-deuda-basica.html',\n",
       " 'https://www.bbva.mx/personas/productos/inversion/fondos-de-inversion-de-deuda-avanzada.html',\n",
       " 'https://www.bbva.mx/personas/productos/pensiones/simulador-pensiones.html',\n",
       " 'https://www.bbva.mx/personas/productos/pensiones/directorio-de-agencias.html',\n",
       " 'https://www.bbva.mx/personas/servicios-digitales/comprobante-fiscal-digital.html',\n",
       " 'https://www.bbva.mx/personas/servicios-digitales/transferencias-bancarias.html',\n",
       " 'https://www.bbva.mx/personas/servicios-digitales/cajeros-automaticos.html',\n",
       " 'https://www.bbva.mx/personas/servicios-digitales/retiro-sin-tarjeta.html',\n",
       " 'https://www.bbva.mx/personas/servicios-digitales/linea-bbva.html',\n",
       " 'https://www.bbva.mx/personas/servicios-digitales/cheque-en-linea.html',\n",
       " 'https://www.bbva.mx/personas/servicios-digitales/zona-bbva.html',\n",
       " 'https://www.bbva.mx/personas/servicios-digitales/notificaciones.html',\n",
       " 'https://www.bbva.mx/personas/servicios-digitales/domiciliacion-de-pagos.html',\n",
       " 'https://www.bbva.mx/personas/servicios-digitales/practicajas.html',\n",
       " 'https://www.bbva.mx/personas/servicios-digitales/banca-por-internet.html',\n",
       " 'https://www.bbva.mx/personas/servicios-digitales/soluciones-de-pago-para-particulares.html',\n",
       " 'https://www.bbva.mx/personas/servicios-digitales/consulta-estado-de-cuenta.html',\n",
       " 'https://www.bbva.mx/personas/servicios-digitales/asistente-virtual.html',\n",
       " 'https://www.bbva.mx/personas/servicios-digitales/comprobantes-fiscales-seguros.html',\n",
       " 'https://www.bbva.mx/personas/servicios-digitales/comprobantes-fiscales-seguros-salud.html',\n",
       " 'https://www.bbva.mx/personas/servicios-digitales/terminos-y-condiciones-de-uso-del-servicio-de-pagos.html',\n",
       " 'https://www.bbva.mx/personas/servicios-digitales/codi-cobro-digital.html',\n",
       " 'https://www.bbva.mx/personas/servicios-digitales/alertas-bancomer.html',\n",
       " 'https://www.bbva.mx/personas/servicios-digitales/caja-bbva-bancomer-express.html',\n",
       " 'https://www.bbva.mx/personas/servicios-digitales/caja-express.html',\n",
       " 'https://www.bbva.mx/personas/servicios-digitales/tarjeta-digital.html',\n",
       " 'https://www.bbva.mx/personas/servicios-digitales/dimo.html',\n",
       " 'https://www.bbva.mx/personas/apps/bbva-wallet-compras-por-internet.html',\n",
       " 'https://www.bbva.mx/personas/apps/bbva-plan.html',\n",
       " 'https://www.bbva.mx/personas/apps/app-linea-bbva-movil.html',\n",
       " 'https://www.bbva.mx/personas/apps/bbva-sos.html',\n",
       " 'https://www.bbva.mx/personas/apps/bbva.html',\n",
       " 'https://www.bbva.mx/personas/apps/bancomer-seguros-sos.html',\n",
       " 'https://www.bbva.mx/personas/apps/estratega-life.html',\n",
       " 'https://www.bbva.mx/personas/apps/bbva-wallet.html',\n",
       " 'https://www.bbva.mx/personas/apps/app-linea-bbva.html',\n",
       " 'https://www.bbva.mx/empresas/productos/cobros-y-pagos.html',\n",
       " 'https://www.bbva.mx/empresas/productos/cobros-y-pagos/codi.html',\n",
       " 'https://www.bbva.mx/empresas/productos/cobros-y-pagos/cobranza-especializada.html',\n",
       " 'https://www.bbva.mx/empresas/productos/cobros-y-pagos/domiciliacion.html',\n",
       " 'https://www.bbva.mx/empresas/productos/cobros-y-pagos/depositos-con-referencia-cie.html',\n",
       " 'https://www.bbva.mx/empresas/productos/cobros-y-pagos/tesoreria-integral.html',\n",
       " 'https://www.bbva.mx/empresas/productos/cobros-y-pagos/recaudacion-y-pagos-oro.html',\n",
       " 'https://www.bbva.mx/empresas/productos/cobros-y-pagos/recaudacion-y-pagos-plata.html',\n",
       " 'https://www.bbva.mx/empresas/productos/cobros-y-pagos/recaudacion-y-pagos-bronce.html',\n",
       " 'https://www.bbva.mx/empresas/productos/cobros-y-pagos/nomina-para-empresas.html',\n",
       " 'https://www.bbva.mx/empresas/productos/cobros-y-pagos/pago-a-proveedores.html',\n",
       " 'https://www.bbva.mx/empresas/productos/cobros-y-pagos/concentracion-y-cobranza.html',\n",
       " 'https://www.bbva.mx/empresas/productos/cobros-y-pagos/apertura-y-administracion-de-cuentas1.html',\n",
       " 'https://www.bbva.mx/empresas/productos/cobros-y-pagos/pagos-con-tarjetas.html',\n",
       " 'https://www.bbva.mx/empresas/productos/cobros-y-pagos/solicitud-de-pagos-bbva.html',\n",
       " 'https://www.bbva.mx/empresas/productos/cobros-y-pagos/programas-sociales.html',\n",
       " 'https://www.bbva.mx/empresas/productos/coberturas-y-derivados.html',\n",
       " 'https://www.bbva.mx/empresas/productos/coberturas-y-derivados/divisas.html',\n",
       " 'https://www.bbva.mx/empresas/productos/coberturas-y-derivados/derivados.html',\n",
       " 'https://www.bbva.mx/empresas/productos/coberturas-y-derivados/bbva-emarkets.html',\n",
       " 'https://www.bbva.mx/empresas/productos/cuentas.html',\n",
       " 'https://www.bbva.mx/empresas/productos/cuentas/bbva-business-connection.html',\n",
       " 'https://www.bbva.mx/empresas/productos/cuentas/cuenta-negocios-internacionales-pesos.html',\n",
       " 'https://www.bbva.mx/empresas/productos/cuentas/cuenta-negocios-internacionales-dolares.html',\n",
       " 'https://www.bbva.mx/empresas/productos/cuentas/maestra-pyme.html',\n",
       " 'https://www.bbva.mx/empresas/productos/cuentas/maestra-dolares-pyme.html',\n",
       " 'https://www.bbva.mx/empresas/productos/cuentas/moneda-nacional.html',\n",
       " 'https://www.bbva.mx/empresas/productos/cuentas/cuentas-euros.html',\n",
       " 'https://www.bbva.mx/empresas/productos/cuentas/cuenta-de-cheques-en-dolares.html',\n",
       " 'https://www.bbva.mx/empresas/productos/cuentas/proteccion-de-cheques.html',\n",
       " 'https://www.bbva.mx/empresas/productos/cuentas/tarjeta-de-debito-empresarial.html',\n",
       " 'https://www.bbva.mx/empresas/productos/cuentas/cuentas-de-cheques-.html',\n",
       " 'https://www.bbva.mx/empresas/productos/comercio-internacional.html',\n",
       " 'https://www.bbva.mx/empresas/productos/comercio-internacional/importacion.html',\n",
       " 'https://www.bbva.mx/empresas/productos/comercio-internacional/exportacion.html',\n",
       " 'https://www.bbva.mx/empresas/productos/comercio-internacional/domesticos.html',\n",
       " 'https://www.bbva.mx/empresas/productos/comercio-internacional/servicios-al-comercio-exterior.html',\n",
       " 'https://www.bbva.mx/empresas/productos/inversiones.html',\n",
       " 'https://www.bbva.mx/empresas/productos/inversiones/fondos-de-inversion.html',\n",
       " 'https://www.bbva.mx/empresas/productos/inversiones/prevision-social.html',\n",
       " 'https://www.bbva.mx/empresas/productos/inversiones/gestion-de-portafolios.html',\n",
       " 'https://www.bbva.mx/empresas/productos/inversiones/pagare.html',\n",
       " 'https://www.bbva.mx/empresas/productos/inversiones/notas-estructuradas.html',\n",
       " 'https://www.bbva.mx/empresas/productos/inversiones/etfs.html',\n",
       " 'https://www.bbva.mx/empresas/productos/inversiones/monedas-de-oro-y-plata.html',\n",
       " 'https://www.bbva.mx/empresas/productos/inversiones/como-invertir-en-una-empresa.html',\n",
       " 'https://www.bbva.mx/empresas/productos/inversiones/tipos-de-inversion-en-una-empresa.html',\n",
       " 'https://www.bbva.mx/empresas/productos/inversiones/como-definir-un-objetivo-de-inversion.html',\n",
       " 'https://www.bbva.mx/empresas/productos/financiamiento.html',\n",
       " 'https://www.bbva.mx/empresas/productos/financiamiento/creditos-a-corto-y-largo-plazo.html',\n",
       " 'https://www.bbva.mx/empresas/productos/financiamiento/servicios-especializados.html',\n",
       " 'https://www.bbva.mx/empresas/productos/financiamiento/tarjetas-empresariales.html',\n",
       " 'https://www.bbva.mx/empresas/productos/financiamiento/financiamiento-hipotecario-promotor.html',\n",
       " 'https://www.bbva.mx/empresas/productos/financiamiento/Arrendamiento.html',\n",
       " 'https://www.bbva.mx/empresas/productos/financiamiento/banca-de-inversion.html',\n",
       " 'https://www.bbva.mx/empresas/productos/financiamiento/factoraje.html',\n",
       " 'https://www.bbva.mx/empresas/productos/financiamiento/credito-agropecuario.html',\n",
       " 'https://www.bbva.mx/empresas/servicios-digitales.html',\n",
       " 'https://www.bbva.mx/empresas/servicios-digitales/servicios-de-nomina.html',\n",
       " 'https://www.bbva.mx/empresas/servicios-digitales/contact-center-cash-management.html',\n",
       " 'https://www.bbva.mx/empresas/servicios-digitales/pago-de-impuestos-empresas.html',\n",
       " 'https://www.bbva.mx/empresas/servicios-digitales/linea-bbva.html',\n",
       " 'https://www.bbva.mx/empresas/servicios-digitales/yo-soy-pyme.html',\n",
       " 'https://www.bbva.mx/empresas/servicios-digitales/bbva-tv.html',\n",
       " 'https://www.bbva.mx/empresas/servicios-digitales/comunidades-privadas.html',\n",
       " 'https://www.bbva.mx/empresas/servicios-digitales/codi-cobro-digital-para-empresas.html',\n",
       " 'https://www.bbva.mx/empresas/servicios-digitales/factura-electronica.html',\n",
       " 'https://www.bbva.mx/empresas/servicios-digitales/tu-pagina-en-internet.html',\n",
       " 'https://www.bbva.mx/empresas/servicios-digitales/mail-personalizado.html',\n",
       " 'https://www.bbva.mx/empresas/servicios-digitales/tu-tienda-virtual.html',\n",
       " 'https://www.bbva.mx/empresas/servicios-digitales/alianzas-comerciales.html',\n",
       " 'https://www.bbva.mx/empresas/servicios-digitales/comercio-electronico.html',\n",
       " 'https://www.bbva.mx/empresas/servicios-digitales/bancomer-com.html',\n",
       " 'https://www.bbva.mx/empresas/servicios-digitales/bancomer-net-cash.html',\n",
       " 'https://www.bbva.mx/empresas/servicios-digitales/bnegocios.html',\n",
       " 'https://www.bbva.mx/empresas/servicios-digitales/migracion-pago-de-servicios-cie.html',\n",
       " 'https://www.bbva.mx/empresas/servicios-digitales/transferencias-en-tiempo-real.html',\n",
       " 'https://www.bbva.mx/empresas/servicios-digitales/nomina-en-tiempo-real.html',\n",
       " 'https://www.bbva.mx/content/dam/public-web/mexico/documents/Aviso_de_Cambios.pdf',\n",
       " 'https://www.bbva.mx/personas/centro-de-ayuda/aclaraciones.html',\n",
       " 'https://www.bbva.mx/personas/consideraciones-tecnicas.html',\n",
       " 'https://www.bbva.mx/personas/centro-de-ayuda/consejos-de-seguridad.html',\n",
       " 'https://www.bbva.mx/personas/centro-de-ayuda/quejas-y-reclamos.html',\n",
       " 'https://www.bbva.mx/personas/centro-de-ayuda/buro-de-entidades-financieras.html',\n",
       " 'https://www.bbva.mx/personas/derechos-arco.html',\n",
       " 'https://www.bbva.mx/personas/centro-de-ayuda/disposiciones-legales-vigentes.html',\n",
       " 'https://www.bbva.mx/personas/centro-de-ayuda/alta-de-beneficiarios-por-fallecimiento.html',\n",
       " 'https://www.bbva.mx/personas/centro-de-ayuda/guia-para-tramites-de-fallecidos.html',\n",
       " 'https://www.bbva.mx/personas/conocenos.html',\n",
       " 'https://www.bbva.mx/personas/informacion-financiera-al-dia.html',\n",
       " 'https://www.bbva.mx/personas/noticias-inversiones.html',\n",
       " 'https://www.bbva.mx/glosario.html',\n",
       " 'https://www.bbva.mx/personas/casa-de-bolsa.html',\n",
       " 'https://www.bbva.mx/fomento-cultural.html',\n",
       " 'https://www.bbva.mx/content/dam/public-web/mexico/documents/Accesibilidad_Ilunion.pdf',\n",
       " 'https://www.bbva.mx/personas/aviso-legal.html',\n",
       " 'https://www.bbva.mx/personas/mapa-del-sitio.html',\n",
       " 'https://www.bbva.mx/personas/aviso-de-privacidad.html',\n",
       " 'https://www.bbva.mx/content/dam/public-web/mexico/documents/tarifario-general/Tarifario.pdf']"
      ]
     },
     "execution_count": 125,
     "metadata": {},
     "output_type": "execute_result"
    }
   ],
   "source": [
    "a = get_all_links(test_utl)\n",
    "a"
   ]
  }
 ],
 "metadata": {
  "kernelspec": {
   "display_name": "Python 3 (ipykernel)",
   "language": "python",
   "name": "python3"
  },
  "language_info": {
   "codemirror_mode": {
    "name": "ipython",
    "version": 3
   },
   "file_extension": ".py",
   "mimetype": "text/x-python",
   "name": "python",
   "nbconvert_exporter": "python",
   "pygments_lexer": "ipython3",
   "version": "3.11.13"
  }
 },
 "nbformat": 4,
 "nbformat_minor": 5
}
