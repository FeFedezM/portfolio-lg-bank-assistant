{
 "cells": [
  {
   "cell_type": "code",
   "execution_count": 1,
   "id": "3b80ff6e",
   "metadata": {},
   "outputs": [],
   "source": [
    "%load_ext autoreload\n",
    "%autoreload 2"
   ]
  },
  {
   "cell_type": "code",
   "execution_count": 23,
   "id": "9fc102df",
   "metadata": {},
   "outputs": [],
   "source": [
    "from langgraph.graph import START, END, StateGraph\n",
    "from typing import TypedDict\n",
    "from bs4 import BeautifulSoup\n",
    "import requests"
   ]
  },
  {
   "cell_type": "code",
   "execution_count": 7,
   "id": "231095fc",
   "metadata": {},
   "outputs": [],
   "source": [
    "class input_state(TypedDict):\n",
    "\n",
    "    sitemap: str"
   ]
  },
  {
   "cell_type": "code",
   "execution_count": 22,
   "id": "5d5965c9",
   "metadata": {},
   "outputs": [],
   "source": [
    "def node_1(state: input_state):\n",
    "    print('hi')"
   ]
  },
  {
   "cell_type": "code",
   "execution_count": 23,
   "id": "6593cdce",
   "metadata": {},
   "outputs": [],
   "source": [
    "def node_2(state: input_state):\n",
    "    print('bye')"
   ]
  },
  {
   "cell_type": "code",
   "execution_count": 24,
   "id": "572609bb",
   "metadata": {},
   "outputs": [],
   "source": [
    "builder = StateGraph(input_state)\n",
    "\n",
    "builder.add_node(node_1)\n",
    "builder.add_node(node_2)\n",
    "\n",
    "builder.add_edge(START, 'node_1')\n",
    "builder.add_edge('node_1', 'node_2')\n",
    "builder.add_edge('node_2', END)\n",
    "\n",
    "grah = builder.compile()"
   ]
  },
  {
   "cell_type": "code",
   "execution_count": 25,
   "id": "34b89eef",
   "metadata": {},
   "outputs": [
    {
     "name": "stdout",
     "output_type": "stream",
     "text": [
      "hi\n",
      "bye\n"
     ]
    },
    {
     "data": {
      "text/plain": [
       "{'sitemap': 'hi'}"
      ]
     },
     "execution_count": 25,
     "metadata": {},
     "output_type": "execute_result"
    }
   ],
   "source": [
    "grah.invoke(input={'sitemap': 'hi'})"
   ]
  },
  {
   "cell_type": "code",
   "execution_count": 118,
   "id": "1e3711cc",
   "metadata": {},
   "outputs": [],
   "source": [
    "def get_all_links(url:str, timeout:float = 5.0) -> list[str] | None:\n",
    "    \"\"\"\n",
    "    Fetch all the html links from a provided url\n",
    "\n",
    "    Args:\n",
    "        url: The url from were all links are extracted\n",
    "    \"\"\"\n",
    "\n",
    "    response = requests.get(url, timeout=timeout)\n",
    "\n",
    "    if response.status_code != 200:\n",
    "        print(f'got code: {response.status_code}')\n",
    "        return None\n",
    "\n",
    "    splitted_url = test_utl.split('/')\n",
    "\n",
    "    protocol = splitted_url[0]\n",
    "\n",
    "    basesite = splitted_url[2]\n",
    "\n",
    "\n",
    "    soup = BeautifulSoup(response.text,\"lxml\")\n",
    "\n",
    "    urls = []\n",
    "\n",
    "    for link in soup.find_all('a', href=True):\n",
    "               \n",
    "        url = link['href']\n",
    "\n",
    "        if 'http' in url:\n",
    "            if not basesite in url:\n",
    "                continue\n",
    "\n",
    "        url = url.split(basesite)[-1]\n",
    "        \n",
    "        if url == '':\n",
    "            continue\n",
    "\n",
    "        if url[0] == '#':\n",
    "            continue\n",
    "\n",
    "        url = url.split('#')[0]\n",
    "        url = url.split('?')[0]\n",
    "\n",
    "        if ':' in url:\n",
    "            continue\n",
    "\n",
    "        if url[0] != '/':\n",
    "            url = '/' + url\n",
    "\n",
    "        full_url = protocol + '//' + basesite + url\n",
    "\n",
    "        if full_url not in urls:\n",
    "            urls.append(full_url)\n",
    "\n",
    "    return urls"
   ]
  },
  {
   "cell_type": "code",
   "execution_count": 124,
   "id": "763be270",
   "metadata": {},
   "outputs": [],
   "source": [
    "#test_utl='https://www.cpm.coop/mapa-de-sitio'\n",
    "#test_utl = 'https://www.hsbc.com.mx/mapa-de-sitio/'\n",
    "test_utl = 'https://www.bbva.mx/personas/mapa-del-sitio.html'\n",
    "#test_utl = 'https://www.banamex.com/es/mapa-del-sitio.html'"
   ]
  },
  {
   "cell_type": "code",
   "execution_count": 125,
   "id": "fe4d6d5c",
   "metadata": {},
   "outputs": [
    {
     "data": {
      "text/plain": [
       "['https://www.bbva.mx/',\n",
       " 'https://www.bbva.mx/empresas.html',\n",
       " 'https://www.bbva.mx/pyme.html',\n",
       " 'https://www.bbva.mx/personas/hazte-cliente.html',\n",
       " 'https://www.bbva.mx/personas.html',\n",
       " 'https://www.bbva.mx/personas/productos/tarjetas-de-credito.html',\n",
       " 'https://www.bbva.mx/personas/productos/tarjetas-de-credito/tarjeta-de-credito-azul.html',\n",
       " 'https://www.bbva.mx/personas/productos/tarjetas-de-credito/tarjeta-de-credito-oro.html',\n",
       " 'https://www.bbva.mx/personas/productos/tarjetas-de-credito/tarjeta-de-credito-platinum.html',\n",
       " 'https://www.bbva.mx/personas/productos/tarjetas-de-credito/tarjeta-de-credito-vive.html',\n",
       " 'https://www.bbva.mx/personas/productos/tarjetas-de-credito/tarjeta-de-credito-rayados.html',\n",
       " 'https://www.bbva.mx/personas/productos/tarjetas-de-credito/tarjeta-de-credito-educacion.html',\n",
       " 'https://www.bbva.mx/personas/productos/tarjetas-de-credito/tarjeta-de-credito-ipn.html',\n",
       " 'https://www.bbva.mx/personas/productos/tarjetas-de-credito/tarjeta-de-credito-afinidad-unam.html',\n",
       " 'https://www.bbva.mx/personas/productos/tarjetas-de-credito/tarjeta-de-credito-crea.html',\n",
       " 'https://www.bbva.mx/personas/productos/tarjetas-de-credito/mi-primera-tarjeta-de-credito.html',\n",
       " 'https://www.bbva.mx/personas/productos/tarjetas-de-credito/tarjeta-de-credito-congelada.html',\n",
       " 'https://www.bbva.mx/personas/productos/tarjetas-de-credito/caracteristicas-beneficios-tarjeta-de-credito.html',\n",
       " 'https://www.bbva.mx/personas/productos/tarjetas-de-credito/solicitar-tarjeta-de-credito.html',\n",
       " 'https://www.bbva.mx/personas/productos/tarjetas-de-credito/como-sacar-una-tarjeta-de-credito.html',\n",
       " 'https://www.bbva.mx/personas/productos/tarjetas-de-credito/promociones.html',\n",
       " 'https://www.bbva.mx/personas/productos/tarjetas-de-credito/incremento-linea-de-credito.html',\n",
       " 'https://www.bbva.mx/personas/productos/tarjetas-de-credito/efectivo-inmediato.html',\n",
       " 'https://www.bbva.mx/personas/productos/tarjetas-de-credito/difiere-tus-compras-a-meses.html',\n",
       " 'https://www.bbva.mx/personas/productos/creditos.html',\n",
       " 'https://www.bbva.mx/personas/productos/creditos/credito-hipotecario.html',\n",
       " 'https://www.bbva.mx/personas/productos/creditos/credito-auto.html',\n",
       " 'https://www.bbva.mx/personas/productos/creditos/credito-moto.html',\n",
       " 'https://www.bbva.mx/personas/productos/creditos/prestamos-personales.html',\n",
       " 'https://www.bbva.mx/personas/productos/creditos/prestamos-personales/prestamo-nomina.html',\n",
       " 'https://www.bbva.mx/personas/productos/creditos/prestamos-personales/prestamo-personal-inmediato.html',\n",
       " 'https://www.bbva.mx/personas/productos/cuentas.html',\n",
       " 'https://www.bbva.mx/personas/productos/cuentas/cuenta-bancaria.html',\n",
       " 'https://www.bbva.mx/personas/productos/cuentas/link-card.html',\n",
       " 'https://www.bbva.mx/personas/productos/cuentas/cuenta-libreton-basico.html',\n",
       " 'https://www.bbva.mx/personas/productos/cuentas/libreton-premium.html',\n",
       " 'https://www.bbva.mx/personas/productos/cuentas/cuenta-libreton-dolares.html',\n",
       " 'https://www.bbva.mx/personas/productos/cuentas/tarjeta-de-viajes.html',\n",
       " 'https://www.bbva.mx/personas/productos/cuentas/basica.html',\n",
       " 'https://www.bbva.mx/personas/productos/cuentas/tarjeta-nomina-basica.html',\n",
       " 'https://www.bbva.mx/personas/productos/cuentas/express.html',\n",
       " 'https://www.bbva.mx/personas/productos/cuentas/envios-de-dinero.html',\n",
       " 'https://www.bbva.mx/personas/productos/cuentas/programas-de-apoyo.html',\n",
       " 'https://www.bbva.mx/personas/productos/cuentas/libreton-2-0.html',\n",
       " 'https://www.bbva.mx/personas/productos/cuentas/libreton.html',\n",
       " 'https://www.bbva.mx/personas/productos/cuentas/libreton-dolares-frontera.html',\n",
       " 'https://www.bbva.mx/personas/productos/cuentas/maestra-dolares-frontera.html',\n",
       " 'https://www.bbva.mx/personas/productos/cuentas/maestra-particulares.html',\n",
       " 'https://www.bbva.mx/personas/productos/cuentas/solucion-personal.html',\n",
       " 'https://www.bbva.mx/personas/productos/cuentas/proteccion-de-cheques.html',\n",
       " 'https://www.bbva.mx/personas/productos/cuentas/debito-socio-conductor-uber.html',\n",
       " 'https://www.bbva.mx/personas/productos/cuentas/plan.html',\n",
       " 'https://www.bbva.mx/personas/productos/cuentas/link-card1.html',\n",
       " 'https://www.bbva.mx/personas/productos/cuentas/apartados.html',\n",
       " 'https://www.bbva.mx/personas/productos/ahorro.html',\n",
       " 'https://www.bbva.mx/personas/productos/ahorro/meta-ahorro.html',\n",
       " 'https://www.bbva.mx/personas/productos/ahorro/bbva-plan.html',\n",
       " 'https://www.bbva.mx/personas/productos/inversion.html',\n",
       " 'https://www.bbva.mx/personas/productos/inversion/inversion-a-plazo.html',\n",
       " 'https://www.bbva.mx/personas/productos/inversion/BBVAINVEST.html',\n",
       " 'https://www.bbva.mx/personas/productos/inversion/fondos-de-inversion.html',\n",
       " 'https://www.bbva.mx/personas/productos/inversion/fondos-de-inversion/deuda-avanzada.html',\n",
       " 'https://www.bbva.mx/personas/productos/inversion/fondos-de-inversion/renta-variable.html',\n",
       " 'https://www.bbva.mx/personas/productos/inversion/fondos-de-inversion/multiestrategia.html',\n",
       " 'https://www.bbva.mx/personas/productos/inversion/fondos-de-inversion/multiactivos.html',\n",
       " 'https://www.bbva.mx/personas/productos/inversion/bbva-trader.html',\n",
       " 'https://www.bbva.mx/personas/productos/inversion/asset-management.html',\n",
       " 'https://www.bbva.mx/personas/productos/inversion/normativa-de-fondos.html',\n",
       " 'https://www.bbva.mx/personas/productos/nomina.html',\n",
       " 'https://www.bbva.mx/personas/productos/nomina/nomina-bbva.html',\n",
       " 'https://www.bbva.mx/personas/productos/nomina/portabilidad-de-nomina.html',\n",
       " 'https://www.bbva.mx/personas/productos/pensiones.html',\n",
       " 'https://www.bbva.mx/personas/productos/pensiones/prestamos-pensiones.html',\n",
       " 'https://www.bbva.mx/personas/productos/pensiones/invalidez-y-vida-pensiones.html',\n",
       " 'https://www.bbva.mx/personas/productos/pensiones/riesgo-de-trabajo-pensiones.html',\n",
       " 'https://www.bbva.mx/personas/productos/pensiones/retiro-cesantia-y-vejez.html',\n",
       " 'https://www.bbva.mx/personas/productos/pensiones/riesgo-trabajo-imss.html',\n",
       " 'https://www.bbva.mx/personas/productos/pensiones/invalidez-vida-imss.html',\n",
       " 'https://www.bbva.mx/personas/productos/pensiones/retiro-cesantia-en-edad-avanzada-y-vejez-imss.html',\n",
       " 'https://www.bbva.mx/personas/productos/inmuebles.html',\n",
       " 'https://www.bbva.mx/personas/productos/seguros.html',\n",
       " 'https://www.bbva.mx/personas/productos/seguros/auto-y-moto.html',\n",
       " 'https://www.bbva.mx/personas/productos/seguros/auto-y-moto/cotizar-seguro-auto1.html',\n",
       " 'https://www.bbva.mx/personas/productos/seguros/auto-y-moto/cotizar-seguro-moto.html',\n",
       " 'https://www.bbva.mx/personas/productos/seguros/hogar.html',\n",
       " 'https://www.bbva.mx/personas/productos/seguros/objetos-personales.html',\n",
       " 'https://www.bbva.mx/personas/productos/seguros/objetos-personales/seguro-de-retiro-en-efectivo.html',\n",
       " 'https://www.bbva.mx/personas/productos/seguros/vida.html',\n",
       " 'https://www.bbva.mx/personas/productos/seguros/vida/seguro-de-viaje.html',\n",
       " 'https://www.bbva.mx/personas/productos/seguros/ahorro.html',\n",
       " 'https://www.bbva.mx/personas/productos/seguros/accidentes-y-enfermedades.html',\n",
       " 'https://www.bbva.mx/personas/productos/seguros/salud.html',\n",
       " 'https://www.bbva.mx/personas/productos/seguros/salud/seguro-de-salud-tu-medico-particular.html',\n",
       " 'https://www.bbva.mx/personas/productos/seguros/seguro-para-mascotas.html',\n",
       " 'https://www.bbva.mx/personas/productos/patrimonial-y-privada.html',\n",
       " 'https://www.bbva.mx/personas/productos/patrimonial-y-privada/inversiones.html',\n",
       " 'https://www.bbva.mx/personas/productos/patrimonial-y-privada/cuentas-y-tarjetas-de-credito.html',\n",
       " 'https://www.bbva.mx/personas/productos/patrimonial-y-privada/seguros-patrimonial.html',\n",
       " 'https://www.bbva.mx/personas/productos/patrimonial-y-privada/financiamiento-especializado.html',\n",
       " 'https://www.bbva.mx/personas/productos/patrimonial-y-privada/fideicomiso.html',\n",
       " 'https://www.bbva.mx/personas/productos/patrimonial-y-privada/experiencias.html',\n",
       " 'https://www.bbva.mx/personas/productos/medios-de-cobro.html',\n",
       " 'https://www.bbva.mx/personas/productos/medios-de-cobro/zona-de-cobro.html',\n",
       " 'https://www.bbva.mx/personas/productos/sostenibilidad.html',\n",
       " 'https://www.bbva.mx/saludfinanciera.html',\n",
       " 'https://www.bbva.mx/personas/servicios-digitales.html',\n",
       " 'https://www.bbva.mx/personas/apps.html',\n",
       " 'https://www.bbva.mx/personas/centro-de-ayuda/ayuda-urgente.html',\n",
       " 'https://www.bbva.mx/educacion-financiera.html',\n",
       " 'https://www.bbva.mx/personas/oportunidades/comienza-con-bbva.html',\n",
       " 'https://www.bbva.mx/personas/oportunidades/vive-tranquilo-en-tu-hogar.html',\n",
       " 'https://www.bbva.mx/personas/oportunidades/un-vehiculo-para-tu-estilo-de-vida.html',\n",
       " 'https://www.bbva.mx/personas/oportunidades/dinero-para-cualquier-imprevisto.html',\n",
       " 'https://www.bbva.mx/personas/oportunidades/planifica-tu-futuro.html',\n",
       " 'https://www.bbva.mx/personas/oportunidades/desarrolla-tu-negocio.html',\n",
       " 'https://www.bbva.mx/personas/productos/tarjetas-de-credito/en-linea.html',\n",
       " 'https://www.bbva.mx/personas/productos/tarjetas-de-credito/tdc-online.html',\n",
       " 'https://www.bbva.mx/personas/productos/tarjetas-de-credito/promociones-bbva-b.html',\n",
       " 'https://www.bbva.mx/personas/productos/tarjetas-de-credito/tarjeta-de-credito-sin-anualidad-borrar.html',\n",
       " 'https://www.bbva.mx/personas/productos/tarjetas-de-credito/platinum.html',\n",
       " 'https://www.bbva.mx/personas/productos/tarjetas-de-credito/vive.html',\n",
       " 'https://www.bbva.mx/personas/productos/tarjetas-de-credito/congelada.html',\n",
       " 'https://www.bbva.mx/personas/productos/tarjetas-de-credito/oro.html',\n",
       " 'https://www.bbva.mx/personas/productos/tarjetas-de-credito/ipn.html',\n",
       " 'https://www.bbva.mx/personas/productos/tarjetas-de-credito/educacion.html',\n",
       " 'https://www.bbva.mx/personas/productos/tarjetas-de-credito/mi-primera-tarjeta.html',\n",
       " 'https://www.bbva.mx/personas/productos/tarjetas-de-credito/afinidad-unam.html',\n",
       " 'https://www.bbva.mx/personas/productos/tarjetas-de-credito/rayados.html',\n",
       " 'https://www.bbva.mx/personas/productos/tarjetas-de-credito/azul.html',\n",
       " 'https://www.bbva.mx/personas/productos/tarjetas-de-credito/crea.html',\n",
       " 'https://www.bbva.mx/personas/productos/cuentas/ipab.html',\n",
       " 'https://www.bbva.mx/personas/productos/cuentas/tarjeta-socio-conductor-uber.html',\n",
       " 'https://www.bbva.mx/personas/productos/cuentas/cuenta-digital-b.html',\n",
       " 'https://www.bbva.mx/personas/productos/nomina/apartados.html',\n",
       " 'https://www.bbva.mx/personas/productos/patrimonial-y-privada/atencion-personalizada.html',\n",
       " 'https://www.bbva.mx/personas/productos/patrimonial-y-privada/enrolamiento-de-voz.html',\n",
       " 'https://www.bbva.mx/personas/productos/patrimonial-y-privada/linea-bancomer.html',\n",
       " 'https://www.bbva.mx/personas/productos/inversion/fondos-de-inversion-de-renta-variable.html',\n",
       " 'https://www.bbva.mx/personas/productos/inversion/fondos-de-inversion-de-deuda-basica.html',\n",
       " 'https://www.bbva.mx/personas/productos/inversion/fondos-de-inversion-de-deuda-avanzada.html',\n",
       " 'https://www.bbva.mx/personas/productos/pensiones/simulador-pensiones.html',\n",
       " 'https://www.bbva.mx/personas/productos/pensiones/directorio-de-agencias.html',\n",
       " 'https://www.bbva.mx/personas/servicios-digitales/comprobante-fiscal-digital.html',\n",
       " 'https://www.bbva.mx/personas/servicios-digitales/transferencias-bancarias.html',\n",
       " 'https://www.bbva.mx/personas/servicios-digitales/cajeros-automaticos.html',\n",
       " 'https://www.bbva.mx/personas/servicios-digitales/retiro-sin-tarjeta.html',\n",
       " 'https://www.bbva.mx/personas/servicios-digitales/linea-bbva.html',\n",
       " 'https://www.bbva.mx/personas/servicios-digitales/cheque-en-linea.html',\n",
       " 'https://www.bbva.mx/personas/servicios-digitales/zona-bbva.html',\n",
       " 'https://www.bbva.mx/personas/servicios-digitales/notificaciones.html',\n",
       " 'https://www.bbva.mx/personas/servicios-digitales/domiciliacion-de-pagos.html',\n",
       " 'https://www.bbva.mx/personas/servicios-digitales/practicajas.html',\n",
       " 'https://www.bbva.mx/personas/servicios-digitales/banca-por-internet.html',\n",
       " 'https://www.bbva.mx/personas/servicios-digitales/soluciones-de-pago-para-particulares.html',\n",
       " 'https://www.bbva.mx/personas/servicios-digitales/consulta-estado-de-cuenta.html',\n",
       " 'https://www.bbva.mx/personas/servicios-digitales/asistente-virtual.html',\n",
       " 'https://www.bbva.mx/personas/servicios-digitales/comprobantes-fiscales-seguros.html',\n",
       " 'https://www.bbva.mx/personas/servicios-digitales/comprobantes-fiscales-seguros-salud.html',\n",
       " 'https://www.bbva.mx/personas/servicios-digitales/terminos-y-condiciones-de-uso-del-servicio-de-pagos.html',\n",
       " 'https://www.bbva.mx/personas/servicios-digitales/codi-cobro-digital.html',\n",
       " 'https://www.bbva.mx/personas/servicios-digitales/alertas-bancomer.html',\n",
       " 'https://www.bbva.mx/personas/servicios-digitales/caja-bbva-bancomer-express.html',\n",
       " 'https://www.bbva.mx/personas/servicios-digitales/caja-express.html',\n",
       " 'https://www.bbva.mx/personas/servicios-digitales/tarjeta-digital.html',\n",
       " 'https://www.bbva.mx/personas/servicios-digitales/dimo.html',\n",
       " 'https://www.bbva.mx/personas/apps/bbva-wallet-compras-por-internet.html',\n",
       " 'https://www.bbva.mx/personas/apps/bbva-plan.html',\n",
       " 'https://www.bbva.mx/personas/apps/app-linea-bbva-movil.html',\n",
       " 'https://www.bbva.mx/personas/apps/bbva-sos.html',\n",
       " 'https://www.bbva.mx/personas/apps/bbva.html',\n",
       " 'https://www.bbva.mx/personas/apps/bancomer-seguros-sos.html',\n",
       " 'https://www.bbva.mx/personas/apps/estratega-life.html',\n",
       " 'https://www.bbva.mx/personas/apps/bbva-wallet.html',\n",
       " 'https://www.bbva.mx/personas/apps/app-linea-bbva.html',\n",
       " 'https://www.bbva.mx/empresas/productos/cobros-y-pagos.html',\n",
       " 'https://www.bbva.mx/empresas/productos/cobros-y-pagos/codi.html',\n",
       " 'https://www.bbva.mx/empresas/productos/cobros-y-pagos/cobranza-especializada.html',\n",
       " 'https://www.bbva.mx/empresas/productos/cobros-y-pagos/domiciliacion.html',\n",
       " 'https://www.bbva.mx/empresas/productos/cobros-y-pagos/depositos-con-referencia-cie.html',\n",
       " 'https://www.bbva.mx/empresas/productos/cobros-y-pagos/tesoreria-integral.html',\n",
       " 'https://www.bbva.mx/empresas/productos/cobros-y-pagos/recaudacion-y-pagos-oro.html',\n",
       " 'https://www.bbva.mx/empresas/productos/cobros-y-pagos/recaudacion-y-pagos-plata.html',\n",
       " 'https://www.bbva.mx/empresas/productos/cobros-y-pagos/recaudacion-y-pagos-bronce.html',\n",
       " 'https://www.bbva.mx/empresas/productos/cobros-y-pagos/nomina-para-empresas.html',\n",
       " 'https://www.bbva.mx/empresas/productos/cobros-y-pagos/pago-a-proveedores.html',\n",
       " 'https://www.bbva.mx/empresas/productos/cobros-y-pagos/concentracion-y-cobranza.html',\n",
       " 'https://www.bbva.mx/empresas/productos/cobros-y-pagos/apertura-y-administracion-de-cuentas1.html',\n",
       " 'https://www.bbva.mx/empresas/productos/cobros-y-pagos/pagos-con-tarjetas.html',\n",
       " 'https://www.bbva.mx/empresas/productos/cobros-y-pagos/solicitud-de-pagos-bbva.html',\n",
       " 'https://www.bbva.mx/empresas/productos/cobros-y-pagos/programas-sociales.html',\n",
       " 'https://www.bbva.mx/empresas/productos/coberturas-y-derivados.html',\n",
       " 'https://www.bbva.mx/empresas/productos/coberturas-y-derivados/divisas.html',\n",
       " 'https://www.bbva.mx/empresas/productos/coberturas-y-derivados/derivados.html',\n",
       " 'https://www.bbva.mx/empresas/productos/coberturas-y-derivados/bbva-emarkets.html',\n",
       " 'https://www.bbva.mx/empresas/productos/cuentas.html',\n",
       " 'https://www.bbva.mx/empresas/productos/cuentas/bbva-business-connection.html',\n",
       " 'https://www.bbva.mx/empresas/productos/cuentas/cuenta-negocios-internacionales-pesos.html',\n",
       " 'https://www.bbva.mx/empresas/productos/cuentas/cuenta-negocios-internacionales-dolares.html',\n",
       " 'https://www.bbva.mx/empresas/productos/cuentas/maestra-pyme.html',\n",
       " 'https://www.bbva.mx/empresas/productos/cuentas/maestra-dolares-pyme.html',\n",
       " 'https://www.bbva.mx/empresas/productos/cuentas/moneda-nacional.html',\n",
       " 'https://www.bbva.mx/empresas/productos/cuentas/cuentas-euros.html',\n",
       " 'https://www.bbva.mx/empresas/productos/cuentas/cuenta-de-cheques-en-dolares.html',\n",
       " 'https://www.bbva.mx/empresas/productos/cuentas/proteccion-de-cheques.html',\n",
       " 'https://www.bbva.mx/empresas/productos/cuentas/tarjeta-de-debito-empresarial.html',\n",
       " 'https://www.bbva.mx/empresas/productos/cuentas/cuentas-de-cheques-.html',\n",
       " 'https://www.bbva.mx/empresas/productos/comercio-internacional.html',\n",
       " 'https://www.bbva.mx/empresas/productos/comercio-internacional/importacion.html',\n",
       " 'https://www.bbva.mx/empresas/productos/comercio-internacional/exportacion.html',\n",
       " 'https://www.bbva.mx/empresas/productos/comercio-internacional/domesticos.html',\n",
       " 'https://www.bbva.mx/empresas/productos/comercio-internacional/servicios-al-comercio-exterior.html',\n",
       " 'https://www.bbva.mx/empresas/productos/inversiones.html',\n",
       " 'https://www.bbva.mx/empresas/productos/inversiones/fondos-de-inversion.html',\n",
       " 'https://www.bbva.mx/empresas/productos/inversiones/prevision-social.html',\n",
       " 'https://www.bbva.mx/empresas/productos/inversiones/gestion-de-portafolios.html',\n",
       " 'https://www.bbva.mx/empresas/productos/inversiones/pagare.html',\n",
       " 'https://www.bbva.mx/empresas/productos/inversiones/notas-estructuradas.html',\n",
       " 'https://www.bbva.mx/empresas/productos/inversiones/etfs.html',\n",
       " 'https://www.bbva.mx/empresas/productos/inversiones/monedas-de-oro-y-plata.html',\n",
       " 'https://www.bbva.mx/empresas/productos/inversiones/como-invertir-en-una-empresa.html',\n",
       " 'https://www.bbva.mx/empresas/productos/inversiones/tipos-de-inversion-en-una-empresa.html',\n",
       " 'https://www.bbva.mx/empresas/productos/inversiones/como-definir-un-objetivo-de-inversion.html',\n",
       " 'https://www.bbva.mx/empresas/productos/financiamiento.html',\n",
       " 'https://www.bbva.mx/empresas/productos/financiamiento/creditos-a-corto-y-largo-plazo.html',\n",
       " 'https://www.bbva.mx/empresas/productos/financiamiento/servicios-especializados.html',\n",
       " 'https://www.bbva.mx/empresas/productos/financiamiento/tarjetas-empresariales.html',\n",
       " 'https://www.bbva.mx/empresas/productos/financiamiento/financiamiento-hipotecario-promotor.html',\n",
       " 'https://www.bbva.mx/empresas/productos/financiamiento/Arrendamiento.html',\n",
       " 'https://www.bbva.mx/empresas/productos/financiamiento/banca-de-inversion.html',\n",
       " 'https://www.bbva.mx/empresas/productos/financiamiento/factoraje.html',\n",
       " 'https://www.bbva.mx/empresas/productos/financiamiento/credito-agropecuario.html',\n",
       " 'https://www.bbva.mx/empresas/servicios-digitales.html',\n",
       " 'https://www.bbva.mx/empresas/servicios-digitales/servicios-de-nomina.html',\n",
       " 'https://www.bbva.mx/empresas/servicios-digitales/contact-center-cash-management.html',\n",
       " 'https://www.bbva.mx/empresas/servicios-digitales/pago-de-impuestos-empresas.html',\n",
       " 'https://www.bbva.mx/empresas/servicios-digitales/linea-bbva.html',\n",
       " 'https://www.bbva.mx/empresas/servicios-digitales/yo-soy-pyme.html',\n",
       " 'https://www.bbva.mx/empresas/servicios-digitales/bbva-tv.html',\n",
       " 'https://www.bbva.mx/empresas/servicios-digitales/comunidades-privadas.html',\n",
       " 'https://www.bbva.mx/empresas/servicios-digitales/codi-cobro-digital-para-empresas.html',\n",
       " 'https://www.bbva.mx/empresas/servicios-digitales/factura-electronica.html',\n",
       " 'https://www.bbva.mx/empresas/servicios-digitales/tu-pagina-en-internet.html',\n",
       " 'https://www.bbva.mx/empresas/servicios-digitales/mail-personalizado.html',\n",
       " 'https://www.bbva.mx/empresas/servicios-digitales/tu-tienda-virtual.html',\n",
       " 'https://www.bbva.mx/empresas/servicios-digitales/alianzas-comerciales.html',\n",
       " 'https://www.bbva.mx/empresas/servicios-digitales/comercio-electronico.html',\n",
       " 'https://www.bbva.mx/empresas/servicios-digitales/bancomer-com.html',\n",
       " 'https://www.bbva.mx/empresas/servicios-digitales/bancomer-net-cash.html',\n",
       " 'https://www.bbva.mx/empresas/servicios-digitales/bnegocios.html',\n",
       " 'https://www.bbva.mx/empresas/servicios-digitales/migracion-pago-de-servicios-cie.html',\n",
       " 'https://www.bbva.mx/empresas/servicios-digitales/transferencias-en-tiempo-real.html',\n",
       " 'https://www.bbva.mx/empresas/servicios-digitales/nomina-en-tiempo-real.html',\n",
       " 'https://www.bbva.mx/content/dam/public-web/mexico/documents/Aviso_de_Cambios.pdf',\n",
       " 'https://www.bbva.mx/personas/centro-de-ayuda/aclaraciones.html',\n",
       " 'https://www.bbva.mx/personas/consideraciones-tecnicas.html',\n",
       " 'https://www.bbva.mx/personas/centro-de-ayuda/consejos-de-seguridad.html',\n",
       " 'https://www.bbva.mx/personas/centro-de-ayuda/quejas-y-reclamos.html',\n",
       " 'https://www.bbva.mx/personas/centro-de-ayuda/buro-de-entidades-financieras.html',\n",
       " 'https://www.bbva.mx/personas/derechos-arco.html',\n",
       " 'https://www.bbva.mx/personas/centro-de-ayuda/disposiciones-legales-vigentes.html',\n",
       " 'https://www.bbva.mx/personas/centro-de-ayuda/alta-de-beneficiarios-por-fallecimiento.html',\n",
       " 'https://www.bbva.mx/personas/centro-de-ayuda/guia-para-tramites-de-fallecidos.html',\n",
       " 'https://www.bbva.mx/personas/conocenos.html',\n",
       " 'https://www.bbva.mx/personas/informacion-financiera-al-dia.html',\n",
       " 'https://www.bbva.mx/personas/noticias-inversiones.html',\n",
       " 'https://www.bbva.mx/glosario.html',\n",
       " 'https://www.bbva.mx/personas/casa-de-bolsa.html',\n",
       " 'https://www.bbva.mx/fomento-cultural.html',\n",
       " 'https://www.bbva.mx/content/dam/public-web/mexico/documents/Accesibilidad_Ilunion.pdf',\n",
       " 'https://www.bbva.mx/personas/aviso-legal.html',\n",
       " 'https://www.bbva.mx/personas/mapa-del-sitio.html',\n",
       " 'https://www.bbva.mx/personas/aviso-de-privacidad.html',\n",
       " 'https://www.bbva.mx/content/dam/public-web/mexico/documents/tarifario-general/Tarifario.pdf']"
      ]
     },
     "execution_count": 125,
     "metadata": {},
     "output_type": "execute_result"
    }
   ],
   "source": [
    "a = get_all_links(test_utl)\n",
    "a"
   ]
  },
  {
   "cell_type": "code",
   "execution_count": null,
   "id": "5e1e0977",
   "metadata": {},
   "outputs": [],
   "source": [
    "from mcp import ClientSession, StdioServerParameters, types\n",
    "from mcp.client.stdio import stdio_client\n",
    "import asyncio"
   ]
  },
  {
   "cell_type": "code",
   "execution_count": null,
   "id": "0d159216",
   "metadata": {},
   "outputs": [],
   "source": []
  },
  {
   "cell_type": "code",
   "execution_count": 9,
   "id": "1a410a99",
   "metadata": {},
   "outputs": [],
   "source": [
    "params = StdioServerParameters(\n",
    "    command='python',\n",
    "    args=[\"-m\", \"mcp_server_time\", \"--local-timezone=America/New_York\"],\n",
    "    env=None\n",
    ")"
   ]
  },
  {
   "cell_type": "code",
   "execution_count": 26,
   "id": "c31811fb",
   "metadata": {},
   "outputs": [],
   "source": [
    "async with stdio_client(params) as (read, write):\n",
    "    async with ClientSession(read, write) as session:\n",
    "        await session.initialize()\n",
    "\n",
    "        response = await session.list_tools()"
   ]
  },
  {
   "cell_type": "code",
   "execution_count": null,
   "id": "f00eb927",
   "metadata": {},
   "outputs": [
    {
     "data": {
      "text/plain": [
       "[Tool(name='get_current_time', description='Get current time in a specific timezones', inputSchema={'type': 'object', 'properties': {'timezone': {'type': 'string', 'description': \"IANA timezone name (e.g., 'America/New_York', 'Europe/London'). Use 'America/New_York' as local timezone if no timezone provided by the user.\"}}, 'required': ['timezone']}, annotations=None),\n",
       " Tool(name='convert_time', description='Convert time between timezones', inputSchema={'type': 'object', 'properties': {'source_timezone': {'type': 'string', 'description': \"Source IANA timezone name (e.g., 'America/New_York', 'Europe/London'). Use 'America/New_York' as local timezone if no source timezone provided by the user.\"}, 'time': {'type': 'string', 'description': 'Time to convert in 24-hour format (HH:MM)'}, 'target_timezone': {'type': 'string', 'description': \"Target IANA timezone name (e.g., 'Asia/Tokyo', 'America/San_Francisco'). Use 'America/New_York' as local timezone if no target timezone provided by the user.\"}}, 'required': ['source_timezone', 'time', 'target_timezone']}, annotations=None)]"
      ]
     },
     "execution_count": 63,
     "metadata": {},
     "output_type": "execute_result"
    }
   ],
   "source": [
    "response.tools"
   ]
  },
  {
   "cell_type": "code",
   "execution_count": 65,
   "id": "2a587030",
   "metadata": {},
   "outputs": [
    {
     "data": {
      "text/plain": [
       "[{'name': 'get_current_time',\n",
       "  'description': 'Get current time in a specific timezones',\n",
       "  'inputSchema': {'type': 'object',\n",
       "   'properties': {'timezone': {'type': 'string',\n",
       "     'description': \"IANA timezone name (e.g., 'America/New_York', 'Europe/London'). Use 'America/New_York' as local timezone if no timezone provided by the user.\"}},\n",
       "   'required': ['timezone']},\n",
       "  'annotations': None},\n",
       " {'name': 'convert_time',\n",
       "  'description': 'Convert time between timezones',\n",
       "  'inputSchema': {'type': 'object',\n",
       "   'properties': {'source_timezone': {'type': 'string',\n",
       "     'description': \"Source IANA timezone name (e.g., 'America/New_York', 'Europe/London'). Use 'America/New_York' as local timezone if no source timezone provided by the user.\"},\n",
       "    'time': {'type': 'string',\n",
       "     'description': 'Time to convert in 24-hour format (HH:MM)'},\n",
       "    'target_timezone': {'type': 'string',\n",
       "     'description': \"Target IANA timezone name (e.g., 'Asia/Tokyo', 'America/San_Francisco'). Use 'America/New_York' as local timezone if no target timezone provided by the user.\"}},\n",
       "   'required': ['source_timezone', 'time', 'target_timezone']},\n",
       "  'annotations': None}]"
      ]
     },
     "execution_count": 65,
     "metadata": {},
     "output_type": "execute_result"
    }
   ],
   "source": [
    "formated_tools = [dict(t) for t in response.tools]\n",
    "formated_tools"
   ]
  },
  {
   "cell_type": "code",
   "execution_count": 75,
   "id": "9c0bd274",
   "metadata": {},
   "outputs": [],
   "source": [
    "from langchain_ollama import ChatOllama\n",
    "import os\n",
    "\n",
    "ollama_url = os.getenv('OLLAMA_URL')\n",
    "\n",
    "llm = ChatOllama(model='qwen3:14b', base_url=ollama_url)"
   ]
  },
  {
   "cell_type": "code",
   "execution_count": 76,
   "id": "307f7d71",
   "metadata": {},
   "outputs": [
    {
     "data": {
      "text/plain": [
       "AIMessage(content='<think>\\nOkay, the user said \"Hi\". I need to respond appropriately. Since it\\'s a greeting, I should reply with a friendly greeting. Maybe \"Hello! How can I assist you today?\" That sounds good. It\\'s polite and opens the door for them to ask for help. I don\\'t see any other context, so keeping it simple and welcoming is best. Let me make sure there are no typos and that the tone is friendly. Yep, that should work.\\n</think>\\n\\nHello! How can I assist you today? 😊', additional_kwargs={}, response_metadata={'model': 'qwen3:14b', 'created_at': '2025-06-26T18:46:51.875537169Z', 'done': True, 'done_reason': 'stop', 'total_duration': 62183410180, 'load_duration': 56466558984, 'prompt_eval_count': 9, 'prompt_eval_duration': 344185359, 'eval_count': 112, 'eval_duration': 5371846839, 'model_name': 'qwen3:14b'}, id='run--084af2ce-3c18-411d-8f2e-2728a275f421-0', usage_metadata={'input_tokens': 9, 'output_tokens': 112, 'total_tokens': 121})"
      ]
     },
     "execution_count": 76,
     "metadata": {},
     "output_type": "execute_result"
    }
   ],
   "source": [
    "llm.invoke('Hi')"
   ]
  },
  {
   "cell_type": "code",
   "execution_count": 77,
   "id": "f1c1015b",
   "metadata": {},
   "outputs": [],
   "source": [
    "tool_llm = llm.bind(tools=formated_tools)"
   ]
  },
  {
   "cell_type": "code",
   "execution_count": 87,
   "id": "6b7b50e4",
   "metadata": {},
   "outputs": [],
   "source": [
    "tr = tool_llm.invoke('What time is on Europe/Madrid?')"
   ]
  },
  {
   "cell_type": "code",
   "execution_count": 88,
   "id": "4e29a482",
   "metadata": {},
   "outputs": [
    {
     "data": {
      "text/plain": [
       "[{'name': 'get_current_time',\n",
       "  'args': {'timezone': 'Europe/Madrid'},\n",
       "  'id': '87e2c2f5-9578-4aec-b43f-f6052af89008',\n",
       "  'type': 'tool_call'}]"
      ]
     },
     "execution_count": 88,
     "metadata": {},
     "output_type": "execute_result"
    }
   ],
   "source": [
    "tr.tool_calls"
   ]
  },
  {
   "cell_type": "code",
   "execution_count": 95,
   "id": "92b4fbda",
   "metadata": {},
   "outputs": [],
   "source": [
    "tc_name = tr.tool_calls[0]['name']\n",
    "tc_args = tr.tool_calls[0]['args']"
   ]
  },
  {
   "cell_type": "code",
   "execution_count": 96,
   "id": "4e53a1e7",
   "metadata": {},
   "outputs": [],
   "source": [
    "async with stdio_client(params) as (read, write):\n",
    "    async with ClientSession(read, write) as session:\n",
    "        await session.initialize()\n",
    "\n",
    "        response = await session.call_tool(tc_name,tc_args)"
   ]
  },
  {
   "cell_type": "code",
   "execution_count": 97,
   "id": "1ccb3ec7",
   "metadata": {},
   "outputs": [
    {
     "data": {
      "text/plain": [
       "CallToolResult(meta=None, content=[TextContent(type='text', text='{\\n  \"timezone\": \"Europe/Madrid\",\\n  \"datetime\": \"2025-06-26T21:08:18+02:00\",\\n  \"is_dst\": true\\n}', annotations=None)], isError=False)"
      ]
     },
     "execution_count": 97,
     "metadata": {},
     "output_type": "execute_result"
    }
   ],
   "source": [
    "response"
   ]
  }
 ],
 "metadata": {
  "kernelspec": {
   "display_name": "Python 3 (ipykernel)",
   "language": "python",
   "name": "python3"
  }
 },
 "nbformat": 4,
 "nbformat_minor": 5
}
