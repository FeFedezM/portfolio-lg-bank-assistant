{
 "cells": [
  {
   "cell_type": "code",
   "execution_count": 1,
   "id": "3b80ff6e",
   "metadata": {},
   "outputs": [],
   "source": [
    "%load_ext autoreload\n",
    "%autoreload 2"
   ]
  },
  {
   "cell_type": "code",
   "execution_count": 13,
   "id": "35490372",
   "metadata": {},
   "outputs": [],
   "source": [
    "import os\n",
    "\n",
    "from langchain_ollama import OllamaLLM"
   ]
  },
  {
   "cell_type": "code",
   "execution_count": 10,
   "id": "78c679a1",
   "metadata": {},
   "outputs": [
    {
     "data": {
      "text/plain": [
       "'http://ollama:11434'"
      ]
     },
     "execution_count": 10,
     "metadata": {},
     "output_type": "execute_result"
    }
   ],
   "source": [
    "ollama_url = os.getenv('OLLAMA_URL')\n",
    "ollama_url"
   ]
  },
  {
   "cell_type": "code",
   "execution_count": 11,
   "id": "82b1b84b",
   "metadata": {},
   "outputs": [],
   "source": [
    "model = 'llama3.2'"
   ]
  },
  {
   "cell_type": "code",
   "execution_count": 14,
   "id": "0585eb17",
   "metadata": {},
   "outputs": [],
   "source": [
    "llm = OllamaLLM(model=model, base_url=ollama_url)"
   ]
  },
  {
   "cell_type": "code",
   "execution_count": 15,
   "id": "35a69cc6",
   "metadata": {},
   "outputs": [
    {
     "data": {
      "text/plain": [
       "'How can I assist you today?'"
      ]
     },
     "execution_count": 15,
     "metadata": {},
     "output_type": "execute_result"
    }
   ],
   "source": [
    "llm.invoke('Hi')"
   ]
  }
 ],
 "metadata": {
  "kernelspec": {
   "display_name": "Python 3 (ipykernel)",
   "language": "python",
   "name": "python3"
  },
  "language_info": {
   "codemirror_mode": {
    "name": "ipython",
    "version": 3
   },
   "file_extension": ".py",
   "mimetype": "text/x-python",
   "name": "python",
   "nbconvert_exporter": "python",
   "pygments_lexer": "ipython3",
   "version": "3.11.13"
  }
 },
 "nbformat": 4,
 "nbformat_minor": 5
}
