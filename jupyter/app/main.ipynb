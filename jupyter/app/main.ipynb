{
 "cells": [
  {
   "cell_type": "code",
   "execution_count": 1,
   "id": "3b80ff6e",
   "metadata": {},
   "outputs": [],
   "source": [
    "%load_ext autoreload\n",
    "%autoreload 2"
   ]
  },
  {
   "cell_type": "code",
   "execution_count": 133,
   "id": "9fc102df",
   "metadata": {},
   "outputs": [],
   "source": [
    "from langgraph.graph import START, END, StateGraph, MessagesState\n",
    "from langgraph.checkpoint.memory import InMemorySaver\n",
    "from typing import TypedDict, Literal\n",
    "import requests\n",
    "import os\n",
    "from langchain_core.messages import HumanMessage, SystemMessage, ToolMessage, ToolCall\n",
    "from pydantic import BaseModel\n"
   ]
  },
  {
   "cell_type": "code",
   "execution_count": null,
   "id": "3faf73a7",
   "metadata": {},
   "outputs": [],
   "source": [
    "def get_tools(server_name:str , transport:str='stdio', hub_url:str | None = None, timeout:float = 5.0) -> list:\n",
    "    \n",
    "    if hub_url is None:\n",
    "        hub_url = os.getenv('HUB_URL')\n",
    "\n",
    "    url = f\"{hub_url.rstrip('/')}/{transport}/list/tools/{server_name}\"\n",
    "\n",
    "    res = requests.get(url=url, timeout=timeout)\n",
    "\n",
    "    if res.status_code != 200:\n",
    "        raise Exception(f\"Error status code: {res.status_code} detail: {res.text})\")\n",
    "\n",
    "    responses = []\n",
    "\n",
    "    for i,tool_response in enumerate(res.json()):\n",
    "\n",
    "        if tool_response['Content']['type']=='text':\n",
    "\n",
    "            content = tool_response['Content']['text']\n",
    "\n",
    "        ######## TO ADD HOW TO PROCESS OTHER DATA TYPE\n",
    "\n",
    "    return parsed_tools\n",
    "\n"
   ]
  },
  {
   "cell_type": "code",
   "execution_count": 4,
   "id": "168485ea",
   "metadata": {},
   "outputs": [
    {
     "data": {
      "text/plain": [
       "[{'name': 'get_current_time',\n",
       "  'description': 'Get current time in a specific timezones',\n",
       "  'inputSchema': {'type': 'object',\n",
       "   'properties': {'timezone': {'type': 'string',\n",
       "     'description': \"IANA timezone name (e.g., 'America/New_York', 'Europe/London'). Use 'UTC' as local timezone if no timezone provided by the user.\"}},\n",
       "   'required': ['timezone']}},\n",
       " {'name': 'convert_time',\n",
       "  'description': 'Convert time between timezones',\n",
       "  'inputSchema': {'type': 'object',\n",
       "   'properties': {'source_timezone': {'type': 'string',\n",
       "     'description': \"Source IANA timezone name (e.g., 'America/New_York', 'Europe/London'). Use 'UTC' as local timezone if no source timezone provided by the user.\"},\n",
       "    'time': {'type': 'string',\n",
       "     'description': 'Time to convert in 24-hour format (HH:MM)'},\n",
       "    'target_timezone': {'type': 'string',\n",
       "     'description': \"Target IANA timezone name (e.g., 'Asia/Tokyo', 'America/San_Francisco'). Use 'UTC' as local timezone if no target timezone provided by the user.\"}},\n",
       "   'required': ['source_timezone', 'time', 'target_timezone']}}]"
      ]
     },
     "execution_count": 4,
     "metadata": {},
     "output_type": "execute_result"
    }
   ],
   "source": [
    "server = 'time'\n",
    " \n",
    "tools = get_tools(server)\n",
    "tools"
   ]
  },
  {
   "cell_type": "code",
   "execution_count": 5,
   "id": "9c0bd274",
   "metadata": {},
   "outputs": [],
   "source": [
    "from langchain_ollama import ChatOllama\n",
    "import os\n",
    "\n",
    "ollama_url = os.getenv('OLLAMA_URL')\n",
    "\n",
    "llm = ChatOllama(model='qwen3:14b', base_url=ollama_url)"
   ]
  },
  {
   "cell_type": "code",
   "execution_count": 6,
   "id": "d3d8eebf",
   "metadata": {},
   "outputs": [],
   "source": [
    "llm_w_tools = llm.bind_tools(tools)"
   ]
  },
  {
   "cell_type": "code",
   "execution_count": 36,
   "id": "5d05c053",
   "metadata": {},
   "outputs": [],
   "source": [
    "template = \"What time is on 'Europe/London' and on Asia/Tokyo\""
   ]
  },
  {
   "cell_type": "code",
   "execution_count": 37,
   "id": "9966611e",
   "metadata": {},
   "outputs": [],
   "source": [
    "prompt = template.format(template)"
   ]
  },
  {
   "cell_type": "code",
   "execution_count": 38,
   "id": "41ad7f45",
   "metadata": {},
   "outputs": [
    {
     "data": {
      "text/plain": [
       "HumanMessage(content=\"What time is on 'Europe/London' and on Asia/Tokyo\", additional_kwargs={}, response_metadata={})"
      ]
     },
     "execution_count": 38,
     "metadata": {},
     "output_type": "execute_result"
    }
   ],
   "source": [
    "HumanMessage(prompt)"
   ]
  },
  {
   "cell_type": "code",
   "execution_count": 39,
   "id": "d64bbeb8",
   "metadata": {},
   "outputs": [],
   "source": [
    "example_tool = llm_w_tools.invoke(prompt)"
   ]
  },
  {
   "cell_type": "code",
   "execution_count": 47,
   "id": "36cfca12",
   "metadata": {},
   "outputs": [],
   "source": [
    "added_error = [{'name': 'get_current_time',\n",
    "  'args': {'timezone': 'Europe'},\n",
    "  'id': 'test-id',\n",
    "  'type': 'tool_call'}]"
   ]
  },
  {
   "cell_type": "code",
   "execution_count": 48,
   "id": "39e7bd19",
   "metadata": {},
   "outputs": [],
   "source": [
    "example_tool.tool_calls = example_tool.tool_calls + added_error"
   ]
  },
  {
   "cell_type": "code",
   "execution_count": 49,
   "id": "64848d8c",
   "metadata": {},
   "outputs": [
    {
     "data": {
      "text/plain": [
       "AIMessage(content='', additional_kwargs={}, response_metadata={'model': 'qwen3:14b', 'created_at': '2025-06-28T21:09:27.327534078Z', 'done': True, 'done_reason': 'stop', 'total_duration': 51492285071, 'load_duration': 46903596070, 'prompt_eval_count': 181, 'prompt_eval_duration': 516419367, 'eval_count': 212, 'eval_duration': 4069845984, 'model_name': 'qwen3:14b'}, id='run--3de39570-fc92-441b-92b9-5b5e022840ab-0', tool_calls=[{'name': 'get_current_time', 'args': {'timezone': 'Europe/London'}, 'id': '7b4bd188-1bdc-4478-9bc8-dca325c673c8', 'type': 'tool_call'}, {'name': 'get_current_time', 'args': {'timezone': 'Asia/Tokyo'}, 'id': '80394b86-2b92-46c7-bf51-2d5a1b38fcf8', 'type': 'tool_call'}, {'name': 'get_current_time', 'args': {'timezone': 'Europe'}, 'id': 'test-id', 'type': 'tool_call'}], usage_metadata={'input_tokens': 181, 'output_tokens': 212, 'total_tokens': 393})"
      ]
     },
     "execution_count": 49,
     "metadata": {},
     "output_type": "execute_result"
    }
   ],
   "source": [
    "example_tool"
   ]
  },
  {
   "cell_type": "code",
   "execution_count": 50,
   "id": "f80ef80f",
   "metadata": {},
   "outputs": [],
   "source": [
    "test_state = MessagesState(message=[example_tool])"
   ]
  },
  {
   "cell_type": "code",
   "execution_count": 95,
   "id": "873505c6",
   "metadata": {},
   "outputs": [
    {
     "data": {
      "text/plain": [
       "dict_keys(['message'])"
      ]
     },
     "execution_count": 95,
     "metadata": {},
     "output_type": "execute_result"
    }
   ],
   "source": [
    "test_state.keys()"
   ]
  },
  {
   "cell_type": "code",
   "execution_count": 52,
   "id": "3afc4406",
   "metadata": {},
   "outputs": [
    {
     "data": {
      "text/plain": [
       "[{'name': 'get_current_time',\n",
       "  'args': {'timezone': 'Europe/London'},\n",
       "  'id': '7b4bd188-1bdc-4478-9bc8-dca325c673c8',\n",
       "  'type': 'tool_call'},\n",
       " {'name': 'get_current_time',\n",
       "  'args': {'timezone': 'Asia/Tokyo'},\n",
       "  'id': '80394b86-2b92-46c7-bf51-2d5a1b38fcf8',\n",
       "  'type': 'tool_call'},\n",
       " {'name': 'get_current_time',\n",
       "  'args': {'timezone': 'Europe'},\n",
       "  'id': 'test-id',\n",
       "  'type': 'tool_call'}]"
      ]
     },
     "execution_count": 52,
     "metadata": {},
     "output_type": "execute_result"
    }
   ],
   "source": [
    "test_state['message'][0].tool_calls"
   ]
  },
  {
   "cell_type": "code",
   "execution_count": 14,
   "id": "ee8da785",
   "metadata": {},
   "outputs": [],
   "source": [
    "def MCP_TOOL_NODE(server_name:str , transport:str='stdio', hub_url = None):\n",
    "    if hub_url is None:\n",
    "        hub_url = os.getenv('HUB_URL')\n",
    "\n",
    "    url = f\"{hub_url.rstrip('/')}/{transport}/call/tools/{server_name}\"\n",
    "    def decorator(func):\n",
    "        def wrapper(*args, **kwargs):\n",
    "            kwargs['url'] = url\n",
    "            response = func(*args, **kwargs)\n",
    "            return response\n",
    "        return wrapper\n",
    "    return decorator"
   ]
  },
  {
   "cell_type": "code",
   "execution_count": null,
   "id": "93bf66ad",
   "metadata": {},
   "outputs": [],
   "source": [
    "@MCP_TOOL_NODE('time')\n",
    "def TIME_NODE(state: MessagesState, url: int) -> list:\n",
    "\n",
    "    tool_calls = state['messages'][-1].tool_calls\n",
    "\n",
    "    parsed_tools_calls = [{'name':t['name'], 'arguments':t['args']} for t in tool_calls]\n",
    "\n",
    "    res =  requests.post(url, json=parsed_tools_calls)\n",
    "\n",
    "    if res.status_code != 200:\n",
    "        raise Exception(f\"Error status code: {res.status_code} detail: {res.text})\")\n",
    "    \n",
    "    parsed_tool_responses = []\n",
    "\n",
    "    for i,  tool_respons in enumerate(res.json()):\n",
    "        \n",
    "        id = tool_calls[i]['id']\n",
    "        content = ''\n",
    "        name = tool_respons['name']\n",
    "\n",
    "        if tool_respons['content'][0]['type'] == 'text':\n",
    "            content  = tool_respons['content'][0]['text']\n",
    "    \n",
    "        Tmessage = ToolMessage(content=content, name=name, tool_call_id=id)\n",
    "\n",
    "        if tool_respons['isError']:\n",
    "            Tmessage.error = 'error'\n",
    "\n",
    "        parsed_tool_responses.append(Tmessage)\n",
    "\n",
    "    return {'messages': parsed_tool_responses}   \n"
   ]
  },
  {
   "cell_type": "code",
   "execution_count": 154,
   "id": "c3b21c95",
   "metadata": {},
   "outputs": [],
   "source": [
    "def MAIN_NODE(state: MessagesState):\n",
    "\n",
    "    \n",
    "    response = llm_w_tools.invoke(state['messages'])\n",
    "    response.content = response.content.split(\"</think>\\n\\n\")[-1]\n",
    "\n",
    "    return {'messages': response}  \n"
   ]
  },
  {
   "cell_type": "code",
   "execution_count": 165,
   "id": "6de46a0d",
   "metadata": {},
   "outputs": [],
   "source": [
    "def MCP_TOOL_EDGE(state: MessagesState) -> Literal[END, \"TIME_NODE\"]:\n",
    "\n",
    "    if state['messages'][-1].tool_calls:\n",
    "        return \"TIME_NODE\"\n",
    "    \n",
    "    return END"
   ]
  },
  {
   "cell_type": "code",
   "execution_count": 166,
   "id": "572609bb",
   "metadata": {},
   "outputs": [
    {
     "data": {
      "image/png": "[encoded data removed]",
      "text/plain": [
       "<IPython.core.display.Image object>"
      ]
     },
     "metadata": {},
     "output_type": "display_data"
    }
   ],
   "source": [
    "from IPython.display import Image, display\n",
    "\n",
    "builder = StateGraph(MessagesState)\n",
    "\n",
    "builder.add_node('MAIN_NODE',MAIN_NODE)\n",
    "builder.add_node('TIME_NODE',TIME_NODE)\n",
    "\n",
    "builder.add_edge(START, 'MAIN_NODE')\n",
    "builder.add_conditional_edges('MAIN_NODE', MCP_TOOL_EDGE)\n",
    "\n",
    "checkpointer = InMemorySaver()\n",
    "\n",
    "grah = builder.compile(checkpointer=checkpointer)\n",
    "\n",
    "display(Image(grah.get_graph().draw_mermaid_png()))"
   ]
  },
  {
   "cell_type": "code",
   "execution_count": 168,
   "id": "ab43f962",
   "metadata": {},
   "outputs": [],
   "source": [
    "config = {\"configurable\": {\"thread_id\": \"1\"}}"
   ]
  },
  {
   "cell_type": "code",
   "execution_count": null,
   "id": "34b89eef",
   "metadata": {},
   "outputs": [
    {
     "name": "stdout",
     "output_type": "stream",
     "text": [
      "{'MAIN_NODE': {'messages': AIMessage(content=\"The current time in **Europe/London** is **12:46 AM (BST, with Daylight Saving Time active)**, and in **Asia/Tokyo**, it's **8:46 AM (JST, without Daylight Saving Time)**. \\n\\nLet me know if you need help converting times or anything else! 😊\", additional_kwargs={}, response_metadata={'model': 'qwen3:14b', 'created_at': '2025-06-28T23:49:26.448834119Z', 'done': True, 'done_reason': 'stop', 'total_duration': 8999925193, 'load_duration': 96105405, 'prompt_eval_count': 379, 'prompt_eval_duration': 331640803, 'eval_count': 409, 'eval_duration': 8540072974, 'model_name': 'qwen3:14b'}, id='run--686c31d7-9b71-4ce8-b91c-d94dbdfe4fe8-0', usage_metadata={'input_tokens': 379, 'output_tokens': 409, 'total_tokens': 788})}}\n"
     ]
    }
   ],
   "source": [
    "for state in grah.stream({template},config=config, stream_mode=\"updates\"):\n",
    "    print(state)"
   ]
  },
  {
   "cell_type": "code",
   "execution_count": 173,
   "id": "4cf8cb44",
   "metadata": {},
   "outputs": [
    {
     "name": "stdout",
     "output_type": "stream",
     "text": [
      "================================\u001b[1m Human Message \u001b[0m=================================\n",
      "\n",
      "How are you today?\n",
      "==================================\u001b[1m Ai Message \u001b[0m==================================\n",
      "\n",
      "I'm just a humble AI assistant, but I'm here and ready to help you with whatever you need! How can I assist you today? 😊\n",
      "================================\u001b[1m Human Message \u001b[0m=================================\n",
      "\n",
      "What time is on 'Europe/London' and on Asia/Tokyo\n",
      "==================================\u001b[1m Ai Message \u001b[0m==================================\n",
      "Tool Calls:\n",
      "  get_current_time (0d91d68f-ed9d-478c-9aac-f1e9b00b1036)\n",
      " Call ID: 0d91d68f-ed9d-478c-9aac-f1e9b00b1036\n",
      "  Args:\n",
      "    timezone: Europe/London\n",
      "  get_current_time (d3b99c8d-7017-4d0b-9af8-067ce5b4be5d)\n",
      " Call ID: d3b99c8d-7017-4d0b-9af8-067ce5b4be5d\n",
      "  Args:\n",
      "    timezone: Asia/Tokyo\n",
      "=================================\u001b[1m Tool Message \u001b[0m=================================\n",
      "Name: get_current_time\n",
      "\n",
      "{\n",
      "  \"timezone\": \"Europe/London\",\n",
      "  \"datetime\": \"2025-06-29T00:46:43+01:00\",\n",
      "  \"is_dst\": true\n",
      "}\n",
      "=================================\u001b[1m Tool Message \u001b[0m=================================\n",
      "Name: get_current_time\n",
      "\n",
      "{\n",
      "  \"timezone\": \"Asia/Tokyo\",\n",
      "  \"datetime\": \"2025-06-29T08:46:43+09:00\",\n",
      "  \"is_dst\": false\n",
      "}\n",
      "==================================\u001b[1m Ai Message \u001b[0m==================================\n",
      "\n",
      "The current time in **Europe/London** is **12:46 AM (BST, with Daylight Saving Time active)**, and in **Asia/Tokyo**, it's **8:46 AM (JST, without Daylight Saving Time)**. \n",
      "\n",
      "Let me know if you need help converting times or anything else! 😊\n"
     ]
    }
   ],
   "source": [
    "ss = grah.get_state(config=config)\n",
    "\n",
    "for msg in ss.values['messages']:\n",
    "    msg.pretty_print()"
   ]
  },
  {
   "cell_type": "code",
   "execution_count": 167,
   "id": "3a950bf1",
   "metadata": {},
   "outputs": [],
   "source": [
    "checkpointer.delete_thread(\"1\")"
   ]
  },
  {
   "cell_type": "code",
   "execution_count": null,
   "id": "841aca38",
   "metadata": {},
   "outputs": [],
   "source": [
    "HumanMessage.pretty_print"
   ]
  },
  {
   "cell_type": "code",
   "execution_count": null,
   "id": "0f5f7c27",
   "metadata": {},
   "outputs": [],
   "source": []
  },
  {
   "cell_type": "code",
   "execution_count": 118,
   "id": "1e3711cc",
   "metadata": {},
   "outputs": [],
   "source": [
    "def get_all_links(url:str, timeout:float = 5.0) -> list[str] | None:\n",
    "    \"\"\"\n",
    "    Fetch all the html links from a provided url\n",
    "\n",
    "    Args:\n",
    "        url: The url from were all links are extracted\n",
    "    \"\"\"\n",
    "\n",
    "    response = requests.get(url, timeout=timeout)\n",
    "\n",
    "    if response.status_code != 200:\n",
    "        print(f'got code: {response.status_code}')\n",
    "        return None\n",
    "\n",
    "    splitted_url = test_utl.split('/')\n",
    "\n",
    "    protocol = splitted_url[0]\n",
    "\n",
    "    basesite = splitted_url[2]\n",
    "\n",
    "\n",
    "    soup = BeautifulSoup(response.text,\"lxml\")\n",
    "\n",
    "    urls = []\n",
    "\n",
    "    for link in soup.find_all('a', href=True):\n",
    "               \n",
    "        url = link['href']\n",
    "\n",
    "        if 'http' in url:\n",
    "            if not basesite in url:\n",
    "                continue\n",
    "\n",
    "        url = url.split(basesite)[-1]\n",
    "        \n",
    "        if url == '':\n",
    "            continue\n",
    "\n",
    "        if url[0] == '#':\n",
    "            continue\n",
    "\n",
    "        url = url.split('#')[0]\n",
    "        url = url.split('?')[0]\n",
    "\n",
    "        if ':' in url:\n",
    "            continue\n",
    "\n",
    "        if url[0] != '/':\n",
    "            url = '/' + url\n",
    "\n",
    "        full_url = protocol + '//' + basesite + url\n",
    "\n",
    "        if full_url not in urls:\n",
    "            urls.append(full_url)\n",
    "\n",
    "    return urls"
   ]
  },
  {
   "cell_type": "code",
   "execution_count": 124,
   "id": "763be270",
   "metadata": {},
   "outputs": [],
   "source": [
    "#test_utl='https://www.cpm.coop/mapa-de-sitio'\n",
    "#test_utl = 'https://www.hsbc.com.mx/mapa-de-sitio/'\n",
    "test_utl = 'https://www.bbva.mx/personas/mapa-del-sitio.html'\n",
    "#test_utl = 'https://www.banamex.com/es/mapa-del-sitio.html'"
   ]
  },
  {
   "cell_type": "code",
   "execution_count": 125,
   "id": "fe4d6d5c",
   "metadata": {},
   "outputs": [
    {
     "data": {
      "text/plain": [
       "['https://www.bbva.mx/',\n",
       " 'https://www.bbva.mx/empresas.html',\n",
       " 'https://www.bbva.mx/pyme.html',\n",
       " 'https://www.bbva.mx/personas/hazte-cliente.html',\n",
       " 'https://www.bbva.mx/personas.html',\n",
       " 'https://www.bbva.mx/personas/productos/tarjetas-de-credito.html',\n",
       " 'https://www.bbva.mx/personas/productos/tarjetas-de-credito/tarjeta-de-credito-azul.html',\n",
       " 'https://www.bbva.mx/personas/productos/tarjetas-de-credito/tarjeta-de-credito-oro.html',\n",
       " 'https://www.bbva.mx/personas/productos/tarjetas-de-credito/tarjeta-de-credito-platinum.html',\n",
       " 'https://www.bbva.mx/personas/productos/tarjetas-de-credito/tarjeta-de-credito-vive.html',\n",
       " 'https://www.bbva.mx/personas/productos/tarjetas-de-credito/tarjeta-de-credito-rayados.html',\n",
       " 'https://www.bbva.mx/personas/productos/tarjetas-de-credito/tarjeta-de-credito-educacion.html',\n",
       " 'https://www.bbva.mx/personas/productos/tarjetas-de-credito/tarjeta-de-credito-ipn.html',\n",
       " 'https://www.bbva.mx/personas/productos/tarjetas-de-credito/tarjeta-de-credito-afinidad-unam.html',\n",
       " 'https://www.bbva.mx/personas/productos/tarjetas-de-credito/tarjeta-de-credito-crea.html',\n",
       " 'https://www.bbva.mx/personas/productos/tarjetas-de-credito/mi-primera-tarjeta-de-credito.html',\n",
       " 'https://www.bbva.mx/personas/productos/tarjetas-de-credito/tarjeta-de-credito-congelada.html',\n",
       " 'https://www.bbva.mx/personas/productos/tarjetas-de-credito/caracteristicas-beneficios-tarjeta-de-credito.html',\n",
       " 'https://www.bbva.mx/personas/productos/tarjetas-de-credito/solicitar-tarjeta-de-credito.html',\n",
       " 'https://www.bbva.mx/personas/productos/tarjetas-de-credito/como-sacar-una-tarjeta-de-credito.html',\n",
       " 'https://www.bbva.mx/personas/productos/tarjetas-de-credito/promociones.html',\n",
       " 'https://www.bbva.mx/personas/productos/tarjetas-de-credito/incremento-linea-de-credito.html',\n",
       " 'https://www.bbva.mx/personas/productos/tarjetas-de-credito/efectivo-inmediato.html',\n",
       " 'https://www.bbva.mx/personas/productos/tarjetas-de-credito/difiere-tus-compras-a-meses.html',\n",
       " 'https://www.bbva.mx/personas/productos/creditos.html',\n",
       " 'https://www.bbva.mx/personas/productos/creditos/credito-hipotecario.html',\n",
       " 'https://www.bbva.mx/personas/productos/creditos/credito-auto.html',\n",
       " 'https://www.bbva.mx/personas/productos/creditos/credito-moto.html',\n",
       " 'https://www.bbva.mx/personas/productos/creditos/prestamos-personales.html',\n",
       " 'https://www.bbva.mx/personas/productos/creditos/prestamos-personales/prestamo-nomina.html',\n",
       " 'https://www.bbva.mx/personas/productos/creditos/prestamos-personales/prestamo-personal-inmediato.html',\n",
       " 'https://www.bbva.mx/personas/productos/cuentas.html',\n",
       " 'https://www.bbva.mx/personas/productos/cuentas/cuenta-bancaria.html',\n",
       " 'https://www.bbva.mx/personas/productos/cuentas/link-card.html',\n",
       " 'https://www.bbva.mx/personas/productos/cuentas/cuenta-libreton-basico.html',\n",
       " 'https://www.bbva.mx/personas/productos/cuentas/libreton-premium.html',\n",
       " 'https://www.bbva.mx/personas/productos/cuentas/cuenta-libreton-dolares.html',\n",
       " 'https://www.bbva.mx/personas/productos/cuentas/tarjeta-de-viajes.html',\n",
       " 'https://www.bbva.mx/personas/productos/cuentas/basica.html',\n",
       " 'https://www.bbva.mx/personas/productos/cuentas/tarjeta-nomina-basica.html',\n",
       " 'https://www.bbva.mx/personas/productos/cuentas/express.html',\n",
       " 'https://www.bbva.mx/personas/productos/cuentas/envios-de-dinero.html',\n",
       " 'https://www.bbva.mx/personas/productos/cuentas/programas-de-apoyo.html',\n",
       " 'https://www.bbva.mx/personas/productos/cuentas/libreton-2-0.html',\n",
       " 'https://www.bbva.mx/personas/productos/cuentas/libreton.html',\n",
       " 'https://www.bbva.mx/personas/productos/cuentas/libreton-dolares-frontera.html',\n",
       " 'https://www.bbva.mx/personas/productos/cuentas/maestra-dolares-frontera.html',\n",
       " 'https://www.bbva.mx/personas/productos/cuentas/maestra-particulares.html',\n",
       " 'https://www.bbva.mx/personas/productos/cuentas/solucion-personal.html',\n",
       " 'https://www.bbva.mx/personas/productos/cuentas/proteccion-de-cheques.html',\n",
       " 'https://www.bbva.mx/personas/productos/cuentas/debito-socio-conductor-uber.html',\n",
       " 'https://www.bbva.mx/personas/productos/cuentas/plan.html',\n",
       " 'https://www.bbva.mx/personas/productos/cuentas/link-card1.html',\n",
       " 'https://www.bbva.mx/personas/productos/cuentas/apartados.html',\n",
       " 'https://www.bbva.mx/personas/productos/ahorro.html',\n",
       " 'https://www.bbva.mx/personas/productos/ahorro/meta-ahorro.html',\n",
       " 'https://www.bbva.mx/personas/productos/ahorro/bbva-plan.html',\n",
       " 'https://www.bbva.mx/personas/productos/inversion.html',\n",
       " 'https://www.bbva.mx/personas/productos/inversion/inversion-a-plazo.html',\n",
       " 'https://www.bbva.mx/personas/productos/inversion/BBVAINVEST.html',\n",
       " 'https://www.bbva.mx/personas/productos/inversion/fondos-de-inversion.html',\n",
       " 'https://www.bbva.mx/personas/productos/inversion/fondos-de-inversion/deuda-avanzada.html',\n",
       " 'https://www.bbva.mx/personas/productos/inversion/fondos-de-inversion/renta-variable.html',\n",
       " 'https://www.bbva.mx/personas/productos/inversion/fondos-de-inversion/multiestrategia.html',\n",
       " 'https://www.bbva.mx/personas/productos/inversion/fondos-de-inversion/multiactivos.html',\n",
       " 'https://www.bbva.mx/personas/productos/inversion/bbva-trader.html',\n",
       " 'https://www.bbva.mx/personas/productos/inversion/asset-management.html',\n",
       " 'https://www.bbva.mx/personas/productos/inversion/normativa-de-fondos.html',\n",
       " 'https://www.bbva.mx/personas/productos/nomina.html',\n",
       " 'https://www.bbva.mx/personas/productos/nomina/nomina-bbva.html',\n",
       " 'https://www.bbva.mx/personas/productos/nomina/portabilidad-de-nomina.html',\n",
       " 'https://www.bbva.mx/personas/productos/pensiones.html',\n",
       " 'https://www.bbva.mx/personas/productos/pensiones/prestamos-pensiones.html',\n",
       " 'https://www.bbva.mx/personas/productos/pensiones/invalidez-y-vida-pensiones.html',\n",
       " 'https://www.bbva.mx/personas/productos/pensiones/riesgo-de-trabajo-pensiones.html',\n",
       " 'https://www.bbva.mx/personas/productos/pensiones/retiro-cesantia-y-vejez.html',\n",
       " 'https://www.bbva.mx/personas/productos/pensiones/riesgo-trabajo-imss.html',\n",
       " 'https://www.bbva.mx/personas/productos/pensiones/invalidez-vida-imss.html',\n",
       " 'https://www.bbva.mx/personas/productos/pensiones/retiro-cesantia-en-edad-avanzada-y-vejez-imss.html',\n",
       " 'https://www.bbva.mx/personas/productos/inmuebles.html',\n",
       " 'https://www.bbva.mx/personas/productos/seguros.html',\n",
       " 'https://www.bbva.mx/personas/productos/seguros/auto-y-moto.html',\n",
       " 'https://www.bbva.mx/personas/productos/seguros/auto-y-moto/cotizar-seguro-auto1.html',\n",
       " 'https://www.bbva.mx/personas/productos/seguros/auto-y-moto/cotizar-seguro-moto.html',\n",
       " 'https://www.bbva.mx/personas/productos/seguros/hogar.html',\n",
       " 'https://www.bbva.mx/personas/productos/seguros/objetos-personales.html',\n",
       " 'https://www.bbva.mx/personas/productos/seguros/objetos-personales/seguro-de-retiro-en-efectivo.html',\n",
       " 'https://www.bbva.mx/personas/productos/seguros/vida.html',\n",
       " 'https://www.bbva.mx/personas/productos/seguros/vida/seguro-de-viaje.html',\n",
       " 'https://www.bbva.mx/personas/productos/seguros/ahorro.html',\n",
       " 'https://www.bbva.mx/personas/productos/seguros/accidentes-y-enfermedades.html',\n",
       " 'https://www.bbva.mx/personas/productos/seguros/salud.html',\n",
       " 'https://www.bbva.mx/personas/productos/seguros/salud/seguro-de-salud-tu-medico-particular.html',\n",
       " 'https://www.bbva.mx/personas/productos/seguros/seguro-para-mascotas.html',\n",
       " 'https://www.bbva.mx/personas/productos/patrimonial-y-privada.html',\n",
       " 'https://www.bbva.mx/personas/productos/patrimonial-y-privada/inversiones.html',\n",
       " 'https://www.bbva.mx/personas/productos/patrimonial-y-privada/cuentas-y-tarjetas-de-credito.html',\n",
       " 'https://www.bbva.mx/personas/productos/patrimonial-y-privada/seguros-patrimonial.html',\n",
       " 'https://www.bbva.mx/personas/productos/patrimonial-y-privada/financiamiento-especializado.html',\n",
       " 'https://www.bbva.mx/personas/productos/patrimonial-y-privada/fideicomiso.html',\n",
       " 'https://www.bbva.mx/personas/productos/patrimonial-y-privada/experiencias.html',\n",
       " 'https://www.bbva.mx/personas/productos/medios-de-cobro.html',\n",
       " 'https://www.bbva.mx/personas/productos/medios-de-cobro/zona-de-cobro.html',\n",
       " 'https://www.bbva.mx/personas/productos/sostenibilidad.html',\n",
       " 'https://www.bbva.mx/saludfinanciera.html',\n",
       " 'https://www.bbva.mx/personas/servicios-digitales.html',\n",
       " 'https://www.bbva.mx/personas/apps.html',\n",
       " 'https://www.bbva.mx/personas/centro-de-ayuda/ayuda-urgente.html',\n",
       " 'https://www.bbva.mx/educacion-financiera.html',\n",
       " 'https://www.bbva.mx/personas/oportunidades/comienza-con-bbva.html',\n",
       " 'https://www.bbva.mx/personas/oportunidades/vive-tranquilo-en-tu-hogar.html',\n",
       " 'https://www.bbva.mx/personas/oportunidades/un-vehiculo-para-tu-estilo-de-vida.html',\n",
       " 'https://www.bbva.mx/personas/oportunidades/dinero-para-cualquier-imprevisto.html',\n",
       " 'https://www.bbva.mx/personas/oportunidades/planifica-tu-futuro.html',\n",
       " 'https://www.bbva.mx/personas/oportunidades/desarrolla-tu-negocio.html',\n",
       " 'https://www.bbva.mx/personas/productos/tarjetas-de-credito/en-linea.html',\n",
       " 'https://www.bbva.mx/personas/productos/tarjetas-de-credito/tdc-online.html',\n",
       " 'https://www.bbva.mx/personas/productos/tarjetas-de-credito/promociones-bbva-b.html',\n",
       " 'https://www.bbva.mx/personas/productos/tarjetas-de-credito/tarjeta-de-credito-sin-anualidad-borrar.html',\n",
       " 'https://www.bbva.mx/personas/productos/tarjetas-de-credito/platinum.html',\n",
       " 'https://www.bbva.mx/personas/productos/tarjetas-de-credito/vive.html',\n",
       " 'https://www.bbva.mx/personas/productos/tarjetas-de-credito/congelada.html',\n",
       " 'https://www.bbva.mx/personas/productos/tarjetas-de-credito/oro.html',\n",
       " 'https://www.bbva.mx/personas/productos/tarjetas-de-credito/ipn.html',\n",
       " 'https://www.bbva.mx/personas/productos/tarjetas-de-credito/educacion.html',\n",
       " 'https://www.bbva.mx/personas/productos/tarjetas-de-credito/mi-primera-tarjeta.html',\n",
       " 'https://www.bbva.mx/personas/productos/tarjetas-de-credito/afinidad-unam.html',\n",
       " 'https://www.bbva.mx/personas/productos/tarjetas-de-credito/rayados.html',\n",
       " 'https://www.bbva.mx/personas/productos/tarjetas-de-credito/azul.html',\n",
       " 'https://www.bbva.mx/personas/productos/tarjetas-de-credito/crea.html',\n",
       " 'https://www.bbva.mx/personas/productos/cuentas/ipab.html',\n",
       " 'https://www.bbva.mx/personas/productos/cuentas/tarjeta-socio-conductor-uber.html',\n",
       " 'https://www.bbva.mx/personas/productos/cuentas/cuenta-digital-b.html',\n",
       " 'https://www.bbva.mx/personas/productos/nomina/apartados.html',\n",
       " 'https://www.bbva.mx/personas/productos/patrimonial-y-privada/atencion-personalizada.html',\n",
       " 'https://www.bbva.mx/personas/productos/patrimonial-y-privada/enrolamiento-de-voz.html',\n",
       " 'https://www.bbva.mx/personas/productos/patrimonial-y-privada/linea-bancomer.html',\n",
       " 'https://www.bbva.mx/personas/productos/inversion/fondos-de-inversion-de-renta-variable.html',\n",
       " 'https://www.bbva.mx/personas/productos/inversion/fondos-de-inversion-de-deuda-basica.html',\n",
       " 'https://www.bbva.mx/personas/productos/inversion/fondos-de-inversion-de-deuda-avanzada.html',\n",
       " 'https://www.bbva.mx/personas/productos/pensiones/simulador-pensiones.html',\n",
       " 'https://www.bbva.mx/personas/productos/pensiones/directorio-de-agencias.html',\n",
       " 'https://www.bbva.mx/personas/servicios-digitales/comprobante-fiscal-digital.html',\n",
       " 'https://www.bbva.mx/personas/servicios-digitales/transferencias-bancarias.html',\n",
       " 'https://www.bbva.mx/personas/servicios-digitales/cajeros-automaticos.html',\n",
       " 'https://www.bbva.mx/personas/servicios-digitales/retiro-sin-tarjeta.html',\n",
       " 'https://www.bbva.mx/personas/servicios-digitales/linea-bbva.html',\n",
       " 'https://www.bbva.mx/personas/servicios-digitales/cheque-en-linea.html',\n",
       " 'https://www.bbva.mx/personas/servicios-digitales/zona-bbva.html',\n",
       " 'https://www.bbva.mx/personas/servicios-digitales/notificaciones.html',\n",
       " 'https://www.bbva.mx/personas/servicios-digitales/domiciliacion-de-pagos.html',\n",
       " 'https://www.bbva.mx/personas/servicios-digitales/practicajas.html',\n",
       " 'https://www.bbva.mx/personas/servicios-digitales/banca-por-internet.html',\n",
       " 'https://www.bbva.mx/personas/servicios-digitales/soluciones-de-pago-para-particulares.html',\n",
       " 'https://www.bbva.mx/personas/servicios-digitales/consulta-estado-de-cuenta.html',\n",
       " 'https://www.bbva.mx/personas/servicios-digitales/asistente-virtual.html',\n",
       " 'https://www.bbva.mx/personas/servicios-digitales/comprobantes-fiscales-seguros.html',\n",
       " 'https://www.bbva.mx/personas/servicios-digitales/comprobantes-fiscales-seguros-salud.html',\n",
       " 'https://www.bbva.mx/personas/servicios-digitales/terminos-y-condiciones-de-uso-del-servicio-de-pagos.html',\n",
       " 'https://www.bbva.mx/personas/servicios-digitales/codi-cobro-digital.html',\n",
       " 'https://www.bbva.mx/personas/servicios-digitales/alertas-bancomer.html',\n",
       " 'https://www.bbva.mx/personas/servicios-digitales/caja-bbva-bancomer-express.html',\n",
       " 'https://www.bbva.mx/personas/servicios-digitales/caja-express.html',\n",
       " 'https://www.bbva.mx/personas/servicios-digitales/tarjeta-digital.html',\n",
       " 'https://www.bbva.mx/personas/servicios-digitales/dimo.html',\n",
       " 'https://www.bbva.mx/personas/apps/bbva-wallet-compras-por-internet.html',\n",
       " 'https://www.bbva.mx/personas/apps/bbva-plan.html',\n",
       " 'https://www.bbva.mx/personas/apps/app-linea-bbva-movil.html',\n",
       " 'https://www.bbva.mx/personas/apps/bbva-sos.html',\n",
       " 'https://www.bbva.mx/personas/apps/bbva.html',\n",
       " 'https://www.bbva.mx/personas/apps/bancomer-seguros-sos.html',\n",
       " 'https://www.bbva.mx/personas/apps/estratega-life.html',\n",
       " 'https://www.bbva.mx/personas/apps/bbva-wallet.html',\n",
       " 'https://www.bbva.mx/personas/apps/app-linea-bbva.html',\n",
       " 'https://www.bbva.mx/empresas/productos/cobros-y-pagos.html',\n",
       " 'https://www.bbva.mx/empresas/productos/cobros-y-pagos/codi.html',\n",
       " 'https://www.bbva.mx/empresas/productos/cobros-y-pagos/cobranza-especializada.html',\n",
       " 'https://www.bbva.mx/empresas/productos/cobros-y-pagos/domiciliacion.html',\n",
       " 'https://www.bbva.mx/empresas/productos/cobros-y-pagos/depositos-con-referencia-cie.html',\n",
       " 'https://www.bbva.mx/empresas/productos/cobros-y-pagos/tesoreria-integral.html',\n",
       " 'https://www.bbva.mx/empresas/productos/cobros-y-pagos/recaudacion-y-pagos-oro.html',\n",
       " 'https://www.bbva.mx/empresas/productos/cobros-y-pagos/recaudacion-y-pagos-plata.html',\n",
       " 'https://www.bbva.mx/empresas/productos/cobros-y-pagos/recaudacion-y-pagos-bronce.html',\n",
       " 'https://www.bbva.mx/empresas/productos/cobros-y-pagos/nomina-para-empresas.html',\n",
       " 'https://www.bbva.mx/empresas/productos/cobros-y-pagos/pago-a-proveedores.html',\n",
       " 'https://www.bbva.mx/empresas/productos/cobros-y-pagos/concentracion-y-cobranza.html',\n",
       " 'https://www.bbva.mx/empresas/productos/cobros-y-pagos/apertura-y-administracion-de-cuentas1.html',\n",
       " 'https://www.bbva.mx/empresas/productos/cobros-y-pagos/pagos-con-tarjetas.html',\n",
       " 'https://www.bbva.mx/empresas/productos/cobros-y-pagos/solicitud-de-pagos-bbva.html',\n",
       " 'https://www.bbva.mx/empresas/productos/cobros-y-pagos/programas-sociales.html',\n",
       " 'https://www.bbva.mx/empresas/productos/coberturas-y-derivados.html',\n",
       " 'https://www.bbva.mx/empresas/productos/coberturas-y-derivados/divisas.html',\n",
       " 'https://www.bbva.mx/empresas/productos/coberturas-y-derivados/derivados.html',\n",
       " 'https://www.bbva.mx/empresas/productos/coberturas-y-derivados/bbva-emarkets.html',\n",
       " 'https://www.bbva.mx/empresas/productos/cuentas.html',\n",
       " 'https://www.bbva.mx/empresas/productos/cuentas/bbva-business-connection.html',\n",
       " 'https://www.bbva.mx/empresas/productos/cuentas/cuenta-negocios-internacionales-pesos.html',\n",
       " 'https://www.bbva.mx/empresas/productos/cuentas/cuenta-negocios-internacionales-dolares.html',\n",
       " 'https://www.bbva.mx/empresas/productos/cuentas/maestra-pyme.html',\n",
       " 'https://www.bbva.mx/empresas/productos/cuentas/maestra-dolares-pyme.html',\n",
       " 'https://www.bbva.mx/empresas/productos/cuentas/moneda-nacional.html',\n",
       " 'https://www.bbva.mx/empresas/productos/cuentas/cuentas-euros.html',\n",
       " 'https://www.bbva.mx/empresas/productos/cuentas/cuenta-de-cheques-en-dolares.html',\n",
       " 'https://www.bbva.mx/empresas/productos/cuentas/proteccion-de-cheques.html',\n",
       " 'https://www.bbva.mx/empresas/productos/cuentas/tarjeta-de-debito-empresarial.html',\n",
       " 'https://www.bbva.mx/empresas/productos/cuentas/cuentas-de-cheques-.html',\n",
       " 'https://www.bbva.mx/empresas/productos/comercio-internacional.html',\n",
       " 'https://www.bbva.mx/empresas/productos/comercio-internacional/importacion.html',\n",
       " 'https://www.bbva.mx/empresas/productos/comercio-internacional/exportacion.html',\n",
       " 'https://www.bbva.mx/empresas/productos/comercio-internacional/domesticos.html',\n",
       " 'https://www.bbva.mx/empresas/productos/comercio-internacional/servicios-al-comercio-exterior.html',\n",
       " 'https://www.bbva.mx/empresas/productos/inversiones.html',\n",
       " 'https://www.bbva.mx/empresas/productos/inversiones/fondos-de-inversion.html',\n",
       " 'https://www.bbva.mx/empresas/productos/inversiones/prevision-social.html',\n",
       " 'https://www.bbva.mx/empresas/productos/inversiones/gestion-de-portafolios.html',\n",
       " 'https://www.bbva.mx/empresas/productos/inversiones/pagare.html',\n",
       " 'https://www.bbva.mx/empresas/productos/inversiones/notas-estructuradas.html',\n",
       " 'https://www.bbva.mx/empresas/productos/inversiones/etfs.html',\n",
       " 'https://www.bbva.mx/empresas/productos/inversiones/monedas-de-oro-y-plata.html',\n",
       " 'https://www.bbva.mx/empresas/productos/inversiones/como-invertir-en-una-empresa.html',\n",
       " 'https://www.bbva.mx/empresas/productos/inversiones/tipos-de-inversion-en-una-empresa.html',\n",
       " 'https://www.bbva.mx/empresas/productos/inversiones/como-definir-un-objetivo-de-inversion.html',\n",
       " 'https://www.bbva.mx/empresas/productos/financiamiento.html',\n",
       " 'https://www.bbva.mx/empresas/productos/financiamiento/creditos-a-corto-y-largo-plazo.html',\n",
       " 'https://www.bbva.mx/empresas/productos/financiamiento/servicios-especializados.html',\n",
       " 'https://www.bbva.mx/empresas/productos/financiamiento/tarjetas-empresariales.html',\n",
       " 'https://www.bbva.mx/empresas/productos/financiamiento/financiamiento-hipotecario-promotor.html',\n",
       " 'https://www.bbva.mx/empresas/productos/financiamiento/Arrendamiento.html',\n",
       " 'https://www.bbva.mx/empresas/productos/financiamiento/banca-de-inversion.html',\n",
       " 'https://www.bbva.mx/empresas/productos/financiamiento/factoraje.html',\n",
       " 'https://www.bbva.mx/empresas/productos/financiamiento/credito-agropecuario.html',\n",
       " 'https://www.bbva.mx/empresas/servicios-digitales.html',\n",
       " 'https://www.bbva.mx/empresas/servicios-digitales/servicios-de-nomina.html',\n",
       " 'https://www.bbva.mx/empresas/servicios-digitales/contact-center-cash-management.html',\n",
       " 'https://www.bbva.mx/empresas/servicios-digitales/pago-de-impuestos-empresas.html',\n",
       " 'https://www.bbva.mx/empresas/servicios-digitales/linea-bbva.html',\n",
       " 'https://www.bbva.mx/empresas/servicios-digitales/yo-soy-pyme.html',\n",
       " 'https://www.bbva.mx/empresas/servicios-digitales/bbva-tv.html',\n",
       " 'https://www.bbva.mx/empresas/servicios-digitales/comunidades-privadas.html',\n",
       " 'https://www.bbva.mx/empresas/servicios-digitales/codi-cobro-digital-para-empresas.html',\n",
       " 'https://www.bbva.mx/empresas/servicios-digitales/factura-electronica.html',\n",
       " 'https://www.bbva.mx/empresas/servicios-digitales/tu-pagina-en-internet.html',\n",
       " 'https://www.bbva.mx/empresas/servicios-digitales/mail-personalizado.html',\n",
       " 'https://www.bbva.mx/empresas/servicios-digitales/tu-tienda-virtual.html',\n",
       " 'https://www.bbva.mx/empresas/servicios-digitales/alianzas-comerciales.html',\n",
       " 'https://www.bbva.mx/empresas/servicios-digitales/comercio-electronico.html',\n",
       " 'https://www.bbva.mx/empresas/servicios-digitales/bancomer-com.html',\n",
       " 'https://www.bbva.mx/empresas/servicios-digitales/bancomer-net-cash.html',\n",
       " 'https://www.bbva.mx/empresas/servicios-digitales/bnegocios.html',\n",
       " 'https://www.bbva.mx/empresas/servicios-digitales/migracion-pago-de-servicios-cie.html',\n",
       " 'https://www.bbva.mx/empresas/servicios-digitales/transferencias-en-tiempo-real.html',\n",
       " 'https://www.bbva.mx/empresas/servicios-digitales/nomina-en-tiempo-real.html',\n",
       " 'https://www.bbva.mx/content/dam/public-web/mexico/documents/Aviso_de_Cambios.pdf',\n",
       " 'https://www.bbva.mx/personas/centro-de-ayuda/aclaraciones.html',\n",
       " 'https://www.bbva.mx/personas/consideraciones-tecnicas.html',\n",
       " 'https://www.bbva.mx/personas/centro-de-ayuda/consejos-de-seguridad.html',\n",
       " 'https://www.bbva.mx/personas/centro-de-ayuda/quejas-y-reclamos.html',\n",
       " 'https://www.bbva.mx/personas/centro-de-ayuda/buro-de-entidades-financieras.html',\n",
       " 'https://www.bbva.mx/personas/derechos-arco.html',\n",
       " 'https://www.bbva.mx/personas/centro-de-ayuda/disposiciones-legales-vigentes.html',\n",
       " 'https://www.bbva.mx/personas/centro-de-ayuda/alta-de-beneficiarios-por-fallecimiento.html',\n",
       " 'https://www.bbva.mx/personas/centro-de-ayuda/guia-para-tramites-de-fallecidos.html',\n",
       " 'https://www.bbva.mx/personas/conocenos.html',\n",
       " 'https://www.bbva.mx/personas/informacion-financiera-al-dia.html',\n",
       " 'https://www.bbva.mx/personas/noticias-inversiones.html',\n",
       " 'https://www.bbva.mx/glosario.html',\n",
       " 'https://www.bbva.mx/personas/casa-de-bolsa.html',\n",
       " 'https://www.bbva.mx/fomento-cultural.html',\n",
       " 'https://www.bbva.mx/content/dam/public-web/mexico/documents/Accesibilidad_Ilunion.pdf',\n",
       " 'https://www.bbva.mx/personas/aviso-legal.html',\n",
       " 'https://www.bbva.mx/personas/mapa-del-sitio.html',\n",
       " 'https://www.bbva.mx/personas/aviso-de-privacidad.html',\n",
       " 'https://www.bbva.mx/content/dam/public-web/mexico/documents/tarifario-general/Tarifario.pdf']"
      ]
     },
     "execution_count": 125,
     "metadata": {},
     "output_type": "execute_result"
    }
   ],
   "source": [
    "a = get_all_links(test_utl)\n",
    "a"
   ]
  }
 ],
 "metadata": {
  "kernelspec": {
   "display_name": "Python 3 (ipykernel)",
   "language": "python",
   "name": "python3"
  }
 },
 "nbformat": 4,
 "nbformat_minor": 5
}
