{
 "cells": [
  {
   "cell_type": "code",
   "execution_count": 1,
   "id": "3b80ff6e",
   "metadata": {},
   "outputs": [],
   "source": [
    "%load_ext autoreload\n",
    "%autoreload 2"
   ]
  },
  {
   "cell_type": "code",
   "execution_count": 5,
   "id": "9fc102df",
   "metadata": {},
   "outputs": [],
   "source": [
    "from langgraph.graph import START, END, StateGraph, MessagesState\n",
    "from langgraph.checkpoint.memory import InMemorySaver\n",
    "\n",
    "import requests\n",
    "import os\n",
    "from langchain_core.messages import HumanMessage, SystemMessage, ToolMessage, ToolCall\n",
    "from pydantic import BaseModel\n",
    "from graphs.COMPONENTS import MCP_LLM_NODE_GENERATOR, MCP_TOOL_NODE_GENERATOR, MCP_EDGE_GENERATOR, get_tools\n"
   ]
  },
  {
   "cell_type": "code",
   "execution_count": 19,
   "id": "9c0bd274",
   "metadata": {},
   "outputs": [],
   "source": [
    "from langchain_ollama import ChatOllama\n",
    "import os\n",
    "\n",
    "ollama_url = os.getenv('OLLAMA_URL')\n",
    "\n",
    "llm = ChatOllama(model='qwen3:14b', base_url=ollama_url)"
   ]
  },
  {
   "cell_type": "code",
   "execution_count": 11,
   "id": "667a212c",
   "metadata": {},
   "outputs": [],
   "source": [
    "from pymongo import MongoClient"
   ]
  },
  {
   "cell_type": "code",
   "execution_count": 12,
   "id": "6ae9e3be",
   "metadata": {},
   "outputs": [],
   "source": [
    "mongo_uri = os.getenv('ME_CONFIG_MONGODB_URL')\n",
    "client = MongoClient(mongo_uri)"
   ]
  },
  {
   "cell_type": "code",
   "execution_count": 14,
   "id": "c3ec42c5",
   "metadata": {},
   "outputs": [],
   "source": [
    "db = client['test_db']"
   ]
  },
  {
   "cell_type": "code",
   "execution_count": 15,
   "id": "547f46f7",
   "metadata": {},
   "outputs": [],
   "source": [
    "col = db['test_col']"
   ]
  },
  {
   "cell_type": "code",
   "execution_count": 17,
   "id": "55d6f021",
   "metadata": {},
   "outputs": [
    {
     "data": {
      "text/plain": [
       "InsertOneResult(ObjectId('68620aeb22563a98fe326758'), acknowledged=True)"
      ]
     },
     "execution_count": 17,
     "metadata": {},
     "output_type": "execute_result"
    }
   ],
   "source": [
    "col.insert_one({'Hi': 'World'})"
   ]
  },
  {
   "cell_type": "markdown",
   "id": "2e796f6b",
   "metadata": {},
   "source": [
    "## FETCH SERVER"
   ]
  },
  {
   "cell_type": "code",
   "execution_count": 21,
   "id": "b0af3a8d",
   "metadata": {},
   "outputs": [],
   "source": [
    "server = 'fetch'\n",
    "\n",
    "tools = get_tools(server)"
   ]
  },
  {
   "cell_type": "code",
   "execution_count": 22,
   "id": "bc202f03",
   "metadata": {},
   "outputs": [],
   "source": [
    "fetch_template = \"\"\"\n",
    "You are a specialized web‐content extraction agent.\n",
    "\n",
    "Fetch the page: `{page_url}`, call the tool with a max_length of 2000 characters\n",
    "\"\"\""
   ]
  },
  {
   "cell_type": "code",
   "execution_count": 23,
   "id": "3a9913ba",
   "metadata": {},
   "outputs": [],
   "source": [
    "fetch_prompt = fetch_template.format(page_url = 'www.bbva.mx/personas/productos/creditos/credito-hipotecario/cuenta-infonavit-credito-bancario.html')"
   ]
  },
  {
   "cell_type": "code",
   "execution_count": 14,
   "id": "37c0a4bc",
   "metadata": {},
   "outputs": [],
   "source": [
    "FETCH_LLM_NODE = MCP_LLM_NODE_GENERATOR(server)"
   ]
  },
  {
   "cell_type": "code",
   "execution_count": 15,
   "id": "8403fd25",
   "metadata": {},
   "outputs": [],
   "source": [
    "FETCH_TOOL_NODE = MCP_TOOL_NODE_GENERATOR(server)"
   ]
  },
  {
   "cell_type": "code",
   "execution_count": 16,
   "id": "8e755946",
   "metadata": {},
   "outputs": [],
   "source": [
    "FETCH_EDGE = MCP_EDGE_GENERATOR(server)"
   ]
  },
  {
   "cell_type": "code",
   "execution_count": 17,
   "id": "ad1cfcf2",
   "metadata": {},
   "outputs": [
    {
     "data": {
      "image/png": "[encoded data removed]",
      "text/plain": [
       "<IPython.core.display.Image object>"
      ]
     },
     "metadata": {},
     "output_type": "display_data"
    }
   ],
   "source": [
    "from IPython.display import Image, display\n",
    "\n",
    "fetch_builder = StateGraph(MessagesState)\n",
    "\n",
    "fetch_builder.add_node('FETCH_LLM_NODE', FETCH_LLM_NODE)\n",
    "fetch_builder.add_node('FETCH_TOOL_NODE', FETCH_TOOL_NODE)\n",
    "\n",
    "fetch_builder.add_edge(START, 'FETCH_LLM_NODE')\n",
    "fetch_builder.add_conditional_edges('FETCH_LLM_NODE', FETCH_EDGE)\n",
    "\n",
    "fetch_checkpointer = InMemorySaver()\n",
    "\n",
    "fecth_graph = fetch_builder.compile(checkpointer=fetch_checkpointer)\n",
    "\n",
    "display(Image(fecth_graph.get_graph().draw_mermaid_png()))"
   ]
  },
  {
   "cell_type": "code",
   "execution_count": 24,
   "id": "fb964222",
   "metadata": {},
   "outputs": [],
   "source": [
    "fetch_config = {\"configurable\": {\"thread_id\": \"1\", 'llm': llm}}"
   ]
  },
  {
   "cell_type": "code",
   "execution_count": 25,
   "id": "a716a523",
   "metadata": {},
   "outputs": [],
   "source": [
    "fetch_checkpointer.delete_thread(\"1\")"
   ]
  },
  {
   "cell_type": "code",
   "execution_count": 27,
   "id": "469bc36c",
   "metadata": {},
   "outputs": [
    {
     "name": "stdout",
     "output_type": "stream",
     "text": [
      "{'FETCH_LLM_NODE': {'messages': AIMessage(content='', additional_kwargs={}, response_metadata={'model': 'qwen3:14b', 'created_at': '2025-06-29T16:17:36.099751067Z', 'done': True, 'done_reason': 'stop', 'total_duration': 59367003064, 'load_duration': 52968177151, 'prompt_eval_count': 242, 'prompt_eval_duration': 539438027, 'eval_count': 325, 'eval_duration': 5858069252, 'model_name': 'qwen3:14b'}, id='run--cbb89ab8-2b5f-4a33-bb80-626b0021932e-0', tool_calls=[{'name': 'fetch', 'args': {'max_length': 2000, 'url': 'www.bbva.mx/personas/productos/creditos/credito-hipotecario/cuenta-infonavit-credito-bancario.html'}, 'id': 'bf7ce4e8-fd44-4da9-89b0-2b012a2f50c4', 'type': 'tool_call'}], usage_metadata={'input_tokens': 242, 'output_tokens': 325, 'total_tokens': 567})}}\n",
      "{'FETCH_TOOL_NODE': {'messages': [ToolMessage(content=\"1 validation error for Fetch\\nurl\\n  Input should be a valid URL, relative URL without a base [type=url_parsing, input_value='www.bbva.mx/personas/pro...t-credito-bancario.html', input_type=str]\\n    For further information visit https://errors.pydantic.dev/2.11/v/url_parsing\", name='fetch', id='0569a973-2f52-4f8a-91e4-35c34cec7ca7', tool_call_id='bf7ce4e8-fd44-4da9-89b0-2b012a2f50c4', error='error')]}}\n"
     ]
    }
   ],
   "source": [
    "for state in fecth_graph.stream({'messages':fetch_prompt},config=fetch_config, stream_mode=\"updates\"):\n",
    "    print(state)"
   ]
  },
  {
   "cell_type": "code",
   "execution_count": 28,
   "id": "7a33ab42",
   "metadata": {},
   "outputs": [
    {
     "data": {
      "text/markdown": [
       "1 validation error for Fetch\n",
       "url\n",
       "  Input should be a valid URL, relative URL without a base [type=url_parsing, input_value='www.bbva.mx/personas/pro...t-credito-bancario.html', input_type=str]\n",
       "    For further information visit https://errors.pydantic.dev/2.11/v/url_parsing"
      ],
      "text/plain": [
       "<IPython.core.display.Markdown object>"
      ]
     },
     "metadata": {},
     "output_type": "display_data"
    }
   ],
   "source": [
    "from IPython.display import Markdown, display\n",
    "\n",
    "ss2 = fecth_graph.get_state(fetch_config)\n",
    "\n",
    "display(Markdown(ss2.values['messages'][-1].content))"
   ]
  },
  {
   "cell_type": "code",
   "execution_count": 40,
   "id": "266020f4",
   "metadata": {},
   "outputs": [],
   "source": [
    "SYSTEM_INSTRUCTIONS = \"\"\"You are an expert assistant in technical documentation and structured writing. You will receive an input text in Markdown format that lacks clear structure—it may include poorly defined headers, disorganized paragraphs, unformatted lists, and inconsistent hierarchy.\n",
    "\n",
    "Your task is to rewrite this Markdown by applying the following rules:\n",
    "\n",
    "1. Identify and correct headers, assigning appropriate levels (`#`, `##`, etc.) based on content hierarchy.\n",
    "2. Organize text into logical sections with descriptive titles.\n",
    "3. Convert textual elements that resemble lists or steps into proper bullet points (`-`, `*`) or numbered lists.\n",
    "4. Apply consistent formatting to code snippets, links, and annotations.\n",
    "5. Do not remove any information, but you may reorganize it for better clarity and flow.\n",
    "6. Do not invent content—only restructure what’s already provided.\n",
    "7. The output should be a clean, professional Markdown file ready for presentation or publication.\n",
    "\"\"\""
   ]
  },
  {
   "cell_type": "code",
   "execution_count": 43,
   "id": "5a959366",
   "metadata": {},
   "outputs": [],
   "source": [
    "system = SystemMessage(content=SYSTEM_INSTRUCTIONS)"
   ]
  },
  {
   "cell_type": "code",
   "execution_count": 33,
   "id": "2dbb4675",
   "metadata": {},
   "outputs": [],
   "source": [
    "text = \"\"\"![BBVA México | Tarjetas, Créditos, Hipotecas, Cuentas, Seguros, Nóminas, Portabilidad](/content/dam/library/logos/logo-bbva.svg)\\n![](/content/dam/library/icons/leaf.svg)\\n![](/content/dam/library/icons/5_006_wellness.svg)\\n![](/content/dam/library/icons/2_042_nearme.svg)\\n![](/content/dam/library/icons/3_026_mobile.svg)\\n![](/content/dam/library/icons/2_027_place.svg)\\n![](/content/dam/library/icons/4_003_help.svg)\\n![](/content/dam/library/icons/1_028_international.svg)\\n![](/content/dam/library/icons/5_007_education.svg)\\n\\nOportunidades\\n\\n![Comienza con BBVA](/content/dam/library/micros/products-bancomer-opportunity-menu-glass.im1746789950017im.png?imwidth=1176)\\n\\nComienza con BBVA\\n\\nDisfruta los beneficios que tenemos para ti\\n\\n![Vive tranquilo en tu hogar](/content/dam/library/micros/home-loan-opportunity-menu-glass.im1746467373358im.png?imwidth=1176)\\n\\nVive tranquilo en tu hogar\\n\\nElige tu casa y protégela\\n\\n![Un vehículo para tu estilo de vida](/content/dam/library/micros/car-opportunity-menu-glass.im1746463651672im.png?imwidth=1176)\\n\\nUn vehículo para tu estilo de vida\\n\\nElige tu vehículo o moto y disfruta de la mejor protección.\\n\\n![Dinero para cualquier imprevisto](/content/dam/library/micros/money-loan-fast-opportunity-menu-glass.im1746467373982im.png?imwidth=1176)\\n\\nDinero para cualquier imprevisto\\n\\nApoyo inmediato en el momento indicado\\n\\n![Invierte y planifica tu futuro](/content/dam/library/micros/future-investment-opportunity-menu-glass.im1746467373002im.png?imwidth=1176)\\n\\nInvierte y planifica tu futuro\\n\\nConoce cómo ahorrar o invertir tu dinero.\\n\\n![Desarrolla tu negocio](/content/dam/library/micros/bussiness-opportunity-menu-glass.im0im.png?imwidth=80)\\n\\nDesarrolla tu negocio\\n\\nComienza o impulsa tu empresa.\\n\\n![Contrata en minutos tu tarjeta de crédito BBVA](/content/dam/public-web/mexico/images/tc-azul-conf-2.im1747937438745im.png?imwidth=1176)\\n\\n¡Contrata en 5 min tu tarjeta de crédito!\\n\\n![](/content/dam/library/icons/leaf.svg)\\n![](/content/dam/library/icons/5_006_wellness.svg)\\n![](/content/dam/library/icons/2_042_nearme.svg)\\n![](/content/dam/library/icons/3_026_mobile.svg)\\n![](/content/dam/library/icons/2_027_place.svg)\\n![](/content/dam/library/icons/4_003_help.svg)\\n![](/content/dam/library/icons/1_028_international.svg)\\n![](/content/dam/library/icons/5_007_education.svg)\\n![](/content/dam/library/logos/logo_bbva_print.svg)\\n![](/content/dam/public-web/mexico/photos/familia-en-casa-viendo-laptop-marquee.im1747932714982im.jpg?imwidth=3200)\\n\\n# Cuenta Infonavit + Crédito Bancario\\n\\n## Compra una vivienda nueva o usada\\n\\nTasa desde\\n\\n**9.50%**\\n\\nhasta **11.70%**\\n\\n**14.9%**\\n\\nConoce las ventajas de este crédito\\n\\n![](/content/dam/library/icons/1_027_mortaje.svg)\\n![](/content/dam/library/icons/2_024_correct.svg)\\n![](/content/dam/library/icons/1_002_dollar.svg)\\n![](/content/dam/library/icons/3_004_calendar.svg)\\n![](/content/dam/library/icons/1_023_loan.svg)\\n![](/content/dam/library/icons/1_051_taxes.svg)\\n![](/content/dam/library/icons/1_031_contract.svg)\\n\\n### ¿Qué te ofrece este crédito?\\n\\n### Sin penalización\\n\\n### Tasa desde 9.40% hasta 11.70%\\n\\n![](/content/dam/library/icons/1_024_insurance.svg)\\n\\n### Paquete integral de seguros\\n\\nAl contratar tu crédito, te ofrecemos estos seguros para proteger lo que ya es tuyo.\\n\\nLa contratación de los seguros es opcional con Seguros BBVA.\\n\\n### $0.600\\n\\n#### Por cada $1,000 de suma asegurada\\n\\n### $0.1593\\n\\n#### Por cada $1,000 de suma asegurada + $30.76 + IVA\\n\\nAdemás, cuentas con:\\n\\n- Seguros de Contenidos del Hogar\\n\\n- Seguro de Responsabilidad Civil\\n\\n![](/content/dam/library/icons/3_021_document.svg)\\n\\n### ¿Qué necesitas para tramitar?\\n\\nConsulta [aquí](#documentacion) los requisitos que debe cumplir tu vivienda para servir como garantía del crédito que solicitas.\\n\\nPresenta los documentos anteriores en la sucursal más cercana.\\n\\nConsulta [aquí](#documentacion) la lista completa de documentos que requerirás a lo largo del proceso de contratación. \\n\\n![](/content/dam/library/icons/1_002_dollar.svg)\\n\\n### ¿Cuáles son los costos?\\n\\n### CAT promedio de 14.9% sin IVA\\n\\n### 0.50%\\n\\n#### Comisión por Contratación - crédito\\\\*\\n\\nComisión por contratación - crédito: Esta comisión es pagadera en moneda nacional y exigible por única ocasión a la fecha de formalización del crédito hipotecario, su cobro es calculado sobre el monto financiado y se genera por la formalización y trámites administrativos de la apertura del crédito.\\n\\nLas comisiones están exentas del pago de impuesto al valor agregado (IVA).\\n\\n\\\\*Por única vez de la contratación.\\n\\n### 0.025%\\n\\n#### Sobre el monto financiado\\n\\n### Avalúo Bancario\\n\\n### Requisitos del solicitante\\n\\n**Si cumples con lo siguiente, eres candidato para recibir un crédito:**\\n\\n### Requisitos de la vivienda\\n\\n**Tu vivienda debe cumplir con estas características para poder servir como garantía de tu crédito:**\\n\\n### Documentación\\n\\n**1. Para iniciar tu trámite:**\\n\\n**2. Para valuar tu inmueble:**\\n\\n**3. Para formalizar tu trámite:**\\n\\n### Base de cobro de Gastos de Preoriginación - avalúo hipotecario\\n\\nBase de cobro Gastos de Preoriginación - avalúo hipotecario: Por única ocasión, en razón del valor de la vivienda que el cliente manifieste en su solicitud de crédito, exigible al momento de solicitar los servicios de valuación inmobiliaria.\\n\\nComisión por Gastos de Preoriginación - avalúo hipotecario; costos de medición: $1,134 (no incluye IVA) cuando la vivienda no cuenta con planos arquitectónicos del inmueble, se cobrará adicional los Gastos de Preoriginación - avalúo hipotecario; costos de medición, por única ocasión.\\n\\nA continuación la tabla detallada de tarifas de avalúo:\\n\\n| **Rango de valor** | **Costo total del servicio (incluye IVA)** | **+  Gastos de Preoriginación - avalúo hipotecario; costos de medición (no incluye IVA)** |\\n| --- | --- | --- |\\n| $0 a   $500,000 | $2,500 | $1,134 |\\n| $500,000.01 a  $1,000,000 | $3,700 | $1,134 |\\n| $1,000,000.01   a $1,500,000 | $5,000 | $1,134 |\\n| $1,500,000.01   a $2,000,000 | $6,600 | $1,134 |\\n| $2,000,000.01   a $3,000,000 | $8,500 | $1,134 |\\n| $3,000,000.01   a $4,000,000 | $11,200 | $1,134 |\\n| $4,000,000.01   a $6,000,000 | $14,500 | $1,134 |\\n| $6,000,000.01   a $10,000,000 | $20,000 | $1,134 |\\n| $10,000,000.01   a $15,000,000 | $30,000 | $1,134 |\\n| De $15,000,000.01   en adelante | $45,000 | $1,134 |\\n\\n**Costo total del servicio (incluye IVA)**\\n\\n**+  Gastos de Preoriginación - avalúo hipotecario; costos de medición (no incluye IVA)**\\n\\n$0 a   \\n $500,000\\n\\n$2,500\\n\\n$500,000.01 a  \\n $1,000,000\\n\\n$3,700\\n\\n$1,000,000.01  \\n  a $1,500,000\\n\\n$5,000\\n\\n$1,500,000.01  \\n  a $2,000,000\\n\\n$6,600\\n\\n$2,000,000.01  \\n  a $3,000,000\\n\\n$8,500\\n\\n$3,000,000.01  \\n  a $4,000,000\\n\\n$11,200\\n\\n$4,000,000.01  \\n  a $6,000,000\\n\\n$14,500\\n\\n$6,000,000.01  \\n  a $10,000,000\\n\\n$20,000\\n\\n$10,000,000.01  \\n  a $15,000,000\\n\\n$30,000\\n\\nDe $15,000,000.01  \\n  en adelante\\n\\n$45,000\\n\\n### Advertencia\\n\\n### Preguntas Frecuentes\\n\\n## ¿Tienes dudas?\\n\\n### Preguntas Frecuentes\\n\\n## ¿A partir de que día puedo pagar la mensualidad de mi crédito hipotecario?\\n\\n## ¿Cuál es la fecha límite de pago?\\n\\n## ¿Qué pasa si no pago mi mensualidad completa y a tiempo (último día hábil del mes)?\\n\\nNo estar al corriente con tus pagos te traerá algunas desventajas que afectarán tu economía, historial crediticio y la seguridad de tu patrimonio:\\n\\n## ¿Cómo puedo realizar el pago de mi crédito TOM?\\n\\nPara mayor información comunícate al 55-1102-0015 desde Ciudad de México.\\n\\n## ¿Cómo realizo el trámite para que carguen la mensualidad del crédito hipotecario a mi cuenta?\\n\\nEn qué consiste:\\n\\nEs la domiciliación de una cuenta para el cobro de la mensualidad de forma automática. El cobro automático se realiza el día último hábil de cada mes, no se pueden domiciliar tarjetas de crédito o cuentas de inversión a plazo. También es posible domiciliar cuentas de otras Instituciones Financieras.\\n\\nRequisitos:\\n\\nAutorización del titular de la cuenta que debe contener el número de la cuenta a domiciliar, una identificación oficial con fotografía y firma del titular. El cliente deberá tener saldo suficiente en el día que se efectúa el cargo (último día hábil del mes). Las comisiones de la cuenta se aplican con base a los términos estipulados en el contrato de la cuenta.\\n\\n## ¿Dónde se tramita?\\n\\n## ¿Cómo pago mi crédito si resido en el extranjero?\\n\\nSi resides en el extranjero, estas son las opciones de pago para tu crédito \\\"Tu Opción en México\\\":\\n\\nVincula el pago de tu mensualidad a tu cuenta BBVA\\\\*, llamando al [011-52-55-1102 0015](tel:011525511020015) agregando (011-52-55) desde Estados Unidos (es necesario que tengas una cuenta activa con BBVA).\\n\\nMoney Order Consulta como llenarlo.\\n\\nCheque Consulta como llenarlo.\\n\\n\\\\*La cuenta deberá estar a nombre del titular del crédito.\\n\\nNota: Para los pagos con Money Order o Cheque, deberás tomar en cuenta el tiempo de envío, por lo que te sugerimos realizar tu pago del día 15 al 20 de cada mes, así, evitarás contratiempos.\\n\\n## ¿Cómo tramito mi Adhesión al Programa de Apoyo Infonavit?\\n\\nEn que consiste:\\n\\nSi ya tienes tu crédito Hipotecario lo puedes inscribir al programa de apoyo INFONAVIT, en el cual las aportaciones del 5% que realiza tu patrón se aplican al pago de tu crédito (pagos a capital), teniendo grandes beneficios.\\n\\nBeneficios\\n\\nDisminución del plazo o mensualidades vencidas del crédito según escritura.\\n\\nAhorro en el cobro de intereses.\\n\\nEn caso de perder tu empleo el saldo acumulado en la subcuenta de vivienda se aplica a las mensualidades del crédito y se interrumpe cuando recuperes tu relación laboral, aunque sigas teniendo saldo en la subcuenta.\\n\\nRequisitos\\n\\nHaber Formalizado el crédito a partir del 2002 (no aplica años anteriores).\\n\\nSer derechohabiente del Infonavit con relación laboral vigente.\\n\\nNo tener un crédito vigente del Infonavit.\\n\\nFirmar convenio modificatorio ante Notario Público.\\n\\nFirmar Carta de Instrucción Irrevocable 43BIS.\\n\\nQue el crédito otorgado por el Banco haya sido destinado para comprar una casa nueva o usada.\\n\\nDocumentos Requeridos.\\n\\n Copia del último testimonio Firmado.\\n\\nCopia de Identificación Oficial.\\n\\nCopia Predial al corriente.\\n\\n## Documentos de interés\\n\\n### \\n\\n### \\n\\n### \\n\\n### ¿Quieres hacernos algún comentario?\\n\\n### Unidad Especializada en Atención a Clientes (UNE)\\n\\nTe invitamos a contactarnos.\\n\\nPara consultas, reclamaciones y aclaraciones:\\n\\nEstamos a tus órdenes en nuestras oficinas en Lago Alberto 320 (entrada por Mariano Escobedo 303), colonia Granada, código postal 11320, alcaldía Miguel Hidalgo, Ciudad de México; Business Center planta baja. Entre Laguna de Mayrán y Lago Alberto, de lunes a viernes de 09:00 a 14:00 horas.\\n\\nTambién puedes llamarnos al [55 1998 8039](tel:5519988039 \\\"Abre en nueva ventana\\\") de lunes a viernes de 08:30 a 17:30 horas, desde cualquier parte de la República Mexicana.\\n\\nO envíanos por correo electrónico a [une.mx@bbva.com](mailto:une.mx@bbva.com \\\"Abre en nueva ventana\\\"), una carta firmada donde nos cuentes lo que sucedió; si tienes evidencia de lo sucedido inclúyela en el correo, además de una imagen, en formato .JPG o .PDF, de tu identificación oficial (INE, pasaporte, cédula profesional menor a diez años de antigüedad).\\n\\n### Condusef\\n\\nLa Comisión Nacional para la Protección y Defensa de los Usuarios de los Servicios Financieros (Condusef) está a tu disposición en su domicilio:\\n\\nInsurgentes Sur 762, Colonia del Valle, alcaldía Benito Juárez, código postal 03100, Ciudad de México.\\n\\nComunícate a los teléfonos:\\n\\nSi lo prefieres, escribe un correo electrónico a:\\n\\n[asesoria@condusef.gob.mx](mailto:asesoria@condusef.gob.mx \\\"Open in a new browser\\\"),\\n\\no visita el sitio\\n\\nAtención al cliente\\n\\nContáctanos\\n\\nCAT promedio 14.9% sin IVA\\n\\nEl cálculo del CAT para este producto se efectuó considerando los valores de vivienda promedios establecidos por la Sociedad Hipotecaria Federal, S.N.C., I.B.D., (económica $732,901.73 pesos, moneda nacional; media $1’738,012.61 pesos, moneda nacional; residencial $3’811,053.80 pesos, moneda nacional y residencial plus $7’999,015.80 pesos, moneda nacional), con un aforo al 80% y un plazo a 15 años.\\n\\nPara fines informativos y de comparación. \\n\\nFecha de cálculo: 03 de febrero de 2025. Vigencia de la oferta hasta el 31 de agosto de 2025.\\n\\nPara conocer el CAT específico del producto, así como los términos y requisitos de contratación, condiciones financieras, monto y conceptos de las comisiones aplicables llama al Centro de Atención Hipotecario a través del [55 1102 0015](tel:55%201102%200015) o bien acude a una sucursal.\\n\\nCentro de Ayuda\\n\\nInformación Corporativa\\n\\nOtros sitios BBVA\\n\\nEn BBVA vivimos la igualdad de oportunidades\\n\\nNos ponemos en el lugar de los demás siendo conscientes de nuestras diferencias; por ello, promovemos nuestros valores y contamos con lineamientos que promueven la igualdad, el respeto y la no discriminación para que todas las personas reciban un trato digno y equitativo.\\n\\n[**Trabajando por un sitio accesible para todos.**](/content/dam/public-web/mexico/documents/Accesibilidad_Ilunion.pdf \\\"Open in a new browser\\\")\\n\\n![BBVA México | Tarjetas, Créditos, Hipotecas, Cuentas, Seguros, Nóminas, Portabilidad](/content/dam/library/logos/logo-bbva.svg)\\n\\n© 2025 BBVA México, S.A., Institución de Banca Múltiple, Grupo Financiero BBVA México. Avenida Paseo de la Reforma 510, colonia Juárez, código postal 06600, alcaldía Cuauhtémoc, Ciudad de México.\"\"\""
   ]
  },
  {
   "cell_type": "code",
   "execution_count": 44,
   "id": "3f1e0201",
   "metadata": {},
   "outputs": [],
   "source": [
    "input_text = HumanMessage(F\"Structure the text:\\n\\n{text}\")"
   ]
  },
  {
   "cell_type": "code",
   "execution_count": 45,
   "id": "3c594249",
   "metadata": {},
   "outputs": [
    {
     "data": {
      "text/plain": [
       "ChatPromptTemplate(input_variables=[], input_types={}, partial_variables={}, messages=[SystemMessage(content='You are an expert assistant in technical documentation and structured writing. You will receive an input text in Markdown format that lacks clear structure—it may include poorly defined headers, disorganized paragraphs, unformatted lists, and inconsistent hierarchy.\\n\\nYour task is to rewrite this Markdown by applying the following rules:\\n\\n1. Identify and correct headers, assigning appropriate levels (`#`, `##`, etc.) based on content hierarchy.\\n2. Organize text into logical sections with descriptive titles.\\n3. Convert textual elements that resemble lists or steps into proper bullet points (`-`, `*`) or numbered lists.\\n4. Apply consistent formatting to code snippets, links, and annotations.\\n5. Do not remove any information, but you may reorganize it for better clarity and flow.\\n6. Do not invent content—only restructure what’s already provided.\\n7. The output should be a clean, professional Markdown file ready for presentation or publication.\\n', additional_kwargs={}, response_metadata={}), HumanMessage(content='Structure the text:\\n\\n![BBVA México | Tarjetas, Créditos, Hipotecas, Cuentas, Seguros, Nóminas, Portabilidad](/content/dam/library/logos/logo-bbva.svg)\\n![](/content/dam/library/icons/leaf.svg)\\n![](/content/dam/library/icons/5_006_wellness.svg)\\n![](/content/dam/library/icons/2_042_nearme.svg)\\n![](/content/dam/library/icons/3_026_mobile.svg)\\n![](/content/dam/library/icons/2_027_place.svg)\\n![](/content/dam/library/icons/4_003_help.svg)\\n![](/content/dam/library/icons/1_028_international.svg)\\n![](/content/dam/library/icons/5_007_education.svg)\\n\\nOportunidades\\n\\n![Comienza con BBVA](/content/dam/library/micros/products-bancomer-opportunity-menu-glass.im1746789950017im.png?imwidth=1176)\\n\\nComienza con BBVA\\n\\nDisfruta los beneficios que tenemos para ti\\n\\n![Vive tranquilo en tu hogar](/content/dam/library/micros/home-loan-opportunity-menu-glass.im1746467373358im.png?imwidth=1176)\\n\\nVive tranquilo en tu hogar\\n\\nElige tu casa y protégela\\n\\n![Un vehículo para tu estilo de vida](/content/dam/library/micros/car-opportunity-menu-glass.im1746463651672im.png?imwidth=1176)\\n\\nUn vehículo para tu estilo de vida\\n\\nElige tu vehículo o moto y disfruta de la mejor protección.\\n\\n![Dinero para cualquier imprevisto](/content/dam/library/micros/money-loan-fast-opportunity-menu-glass.im1746467373982im.png?imwidth=1176)\\n\\nDinero para cualquier imprevisto\\n\\nApoyo inmediato en el momento indicado\\n\\n![Invierte y planifica tu futuro](/content/dam/library/micros/future-investment-opportunity-menu-glass.im1746467373002im.png?imwidth=1176)\\n\\nInvierte y planifica tu futuro\\n\\nConoce cómo ahorrar o invertir tu dinero.\\n\\n![Desarrolla tu negocio](/content/dam/library/micros/bussiness-opportunity-menu-glass.im0im.png?imwidth=80)\\n\\nDesarrolla tu negocio\\n\\nComienza o impulsa tu empresa.\\n\\n![Contrata en minutos tu tarjeta de crédito BBVA](/content/dam/public-web/mexico/images/tc-azul-conf-2.im1747937438745im.png?imwidth=1176)\\n\\n¡Contrata en 5 min tu tarjeta de crédito!\\n\\n![](/content/dam/library/icons/leaf.svg)\\n![](/content/dam/library/icons/5_006_wellness.svg)\\n![](/content/dam/library/icons/2_042_nearme.svg)\\n![](/content/dam/library/icons/3_026_mobile.svg)\\n![](/content/dam/library/icons/2_027_place.svg)\\n![](/content/dam/library/icons/4_003_help.svg)\\n![](/content/dam/library/icons/1_028_international.svg)\\n![](/content/dam/library/icons/5_007_education.svg)\\n![](/content/dam/library/logos/logo_bbva_print.svg)\\n![](/content/dam/public-web/mexico/photos/familia-en-casa-viendo-laptop-marquee.im1747932714982im.jpg?imwidth=3200)\\n\\n# Cuenta Infonavit + Crédito Bancario\\n\\n## Compra una vivienda nueva o usada\\n\\nTasa desde\\n\\n**9.50%**\\n\\nhasta **11.70%**\\n\\n**14.9%**\\n\\nConoce las ventajas de este crédito\\n\\n![](/content/dam/library/icons/1_027_mortaje.svg)\\n![](/content/dam/library/icons/2_024_correct.svg)\\n![](/content/dam/library/icons/1_002_dollar.svg)\\n![](/content/dam/library/icons/3_004_calendar.svg)\\n![](/content/dam/library/icons/1_023_loan.svg)\\n![](/content/dam/library/icons/1_051_taxes.svg)\\n![](/content/dam/library/icons/1_031_contract.svg)\\n\\n### ¿Qué te ofrece este crédito?\\n\\n### Sin penalización\\n\\n### Tasa desde 9.40% hasta 11.70%\\n\\n![](/content/dam/library/icons/1_024_insurance.svg)\\n\\n### Paquete integral de seguros\\n\\nAl contratar tu crédito, te ofrecemos estos seguros para proteger lo que ya es tuyo.\\n\\nLa contratación de los seguros es opcional con Seguros BBVA.\\n\\n### $0.600\\n\\n#### Por cada $1,000 de suma asegurada\\n\\n### $0.1593\\n\\n#### Por cada $1,000 de suma asegurada + $30.76 + IVA\\n\\nAdemás, cuentas con:\\n\\n- Seguros de Contenidos del Hogar\\n\\n- Seguro de Responsabilidad Civil\\n\\n![](/content/dam/library/icons/3_021_document.svg)\\n\\n### ¿Qué necesitas para tramitar?\\n\\nConsulta\\xa0[aquí](#documentacion)\\xa0los requisitos que debe cumplir tu vivienda para servir como garantía del crédito que solicitas.\\n\\nPresenta los documentos anteriores en la sucursal más cercana.\\n\\nConsulta [aquí](#documentacion) la lista completa de documentos que requerirás a lo largo del proceso de contratación.\\xa0\\n\\n![](/content/dam/library/icons/1_002_dollar.svg)\\n\\n### ¿Cuáles son los costos?\\n\\n### CAT promedio de 14.9% sin IVA\\n\\n### 0.50%\\n\\n#### Comisión por Contratación - crédito\\\\*\\n\\nComisión por contratación - crédito:\\xa0Esta comisión es pagadera en moneda nacional y exigible por única ocasión a la fecha de formalización del crédito hipotecario, su cobro es calculado sobre el monto financiado y se genera por la formalización y trámites administrativos de la apertura del crédito.\\n\\nLas comisiones están exentas del pago de impuesto al valor agregado (IVA).\\n\\n\\\\*Por única vez de la contratación.\\n\\n### 0.025%\\n\\n#### Sobre el monto financiado\\n\\n### Avalúo Bancario\\n\\n### Requisitos del solicitante\\n\\n**Si cumples con lo siguiente, eres candidato para recibir un crédito:**\\n\\n### Requisitos de la vivienda\\n\\n**Tu vivienda debe cumplir con estas características para poder servir como garantía de tu crédito:**\\n\\n### Documentación\\n\\n**1.\\xa0Para iniciar tu trámite:**\\n\\n**2. Para valuar tu inmueble:**\\n\\n**3. Para formalizar tu trámite:**\\n\\n### Base de cobro de Gastos de Preoriginación - avalúo hipotecario\\n\\nBase de cobro Gastos de Preoriginación - avalúo hipotecario:\\xa0Por única ocasión, en razón del valor de la vivienda que el cliente manifieste en su solicitud de crédito, exigible al momento de solicitar los servicios de valuación inmobiliaria.\\n\\nComisión por Gastos de Preoriginación - avalúo hipotecario; costos de medición:\\xa0$1,134 (no incluye IVA) cuando la vivienda no cuenta con planos arquitectónicos del inmueble, se cobrará adicional\\xa0los Gastos de Preoriginación - avalúo hipotecario; costos de medición, por única ocasión.\\n\\nA continuación la tabla detallada de tarifas de avalúo:\\n\\n| **Rango de valor** | **Costo total del servicio\\xa0(incluye IVA)** | **+\\xa0\\xa0Gastos de Preoriginación - avalúo hipotecario; costos de medición (no incluye IVA)** |\\n| --- | --- | --- |\\n| $0 a\\xa0  $500,000 | $2,500 | $1,134 |\\n| $500,000.01 a  $1,000,000 | $3,700 | $1,134 |\\n| $1,000,000.01  \\xa0a $1,500,000 | $5,000 | $1,134 |\\n| $1,500,000.01  \\xa0a $2,000,000 | $6,600 | $1,134 |\\n| $2,000,000.01  \\xa0a $3,000,000 | $8,500 | $1,134 |\\n| $3,000,000.01  \\xa0a $4,000,000 | $11,200 | $1,134 |\\n| $4,000,000.01  \\xa0a $6,000,000 | $14,500 | $1,134 |\\n| $6,000,000.01  \\xa0a $10,000,000 | $20,000 | $1,134 |\\n| $10,000,000.01  \\xa0a $15,000,000 | $30,000 | $1,134 |\\n| De $15,000,000.01  \\xa0en adelante | $45,000 | $1,134 |\\n\\n**Costo total del servicio\\xa0(incluye IVA)**\\n\\n**+\\xa0\\xa0Gastos de Preoriginación - avalúo hipotecario; costos de medición (no incluye IVA)**\\n\\n$0 a\\xa0  \\n $500,000\\n\\n$2,500\\n\\n$500,000.01 a  \\n $1,000,000\\n\\n$3,700\\n\\n$1,000,000.01  \\n \\xa0a $1,500,000\\n\\n$5,000\\n\\n$1,500,000.01  \\n \\xa0a $2,000,000\\n\\n$6,600\\n\\n$2,000,000.01  \\n \\xa0a $3,000,000\\n\\n$8,500\\n\\n$3,000,000.01  \\n \\xa0a $4,000,000\\n\\n$11,200\\n\\n$4,000,000.01  \\n \\xa0a $6,000,000\\n\\n$14,500\\n\\n$6,000,000.01  \\n \\xa0a $10,000,000\\n\\n$20,000\\n\\n$10,000,000.01  \\n \\xa0a $15,000,000\\n\\n$30,000\\n\\nDe $15,000,000.01  \\n \\xa0en adelante\\n\\n$45,000\\n\\n### Advertencia\\n\\n### Preguntas Frecuentes\\n\\n## ¿Tienes dudas?\\n\\n### Preguntas Frecuentes\\n\\n## ¿A partir de que día puedo pagar la mensualidad de mi crédito hipotecario?\\n\\n## ¿Cuál es la fecha límite de pago?\\n\\n## ¿Qué pasa si no pago mi mensualidad completa y a tiempo (último día hábil del mes)?\\n\\nNo estar al corriente con tus pagos te traerá algunas desventajas que afectarán tu economía, historial crediticio y la seguridad de tu patrimonio:\\n\\n## ¿Cómo puedo realizar el pago de mi crédito TOM?\\n\\nPara mayor información comunícate al 55-1102-0015 desde Ciudad de México.\\n\\n## ¿Cómo realizo el trámite para que carguen la mensualidad del crédito hipotecario a mi cuenta?\\n\\nEn qué consiste:\\n\\nEs la domiciliación de una cuenta para el cobro de la mensualidad de forma automática. El cobro automático se realiza el día último hábil de cada mes, no se pueden domiciliar tarjetas de crédito o cuentas de inversión a plazo. También es posible domiciliar cuentas de otras Instituciones Financieras.\\n\\nRequisitos:\\n\\nAutorización del titular de la cuenta que debe contener el número de la cuenta a domiciliar, una identificación oficial con fotografía y firma del titular. El cliente deberá tener saldo suficiente en el día que se efectúa el cargo (último día hábil del mes). Las comisiones de la cuenta se aplican con base a los términos estipulados en el contrato de la cuenta.\\n\\n## ¿Dónde se tramita?\\n\\n## ¿Cómo pago mi crédito si resido en el extranjero?\\n\\nSi resides en el extranjero, estas son las opciones de pago para tu crédito \"Tu Opción en México\":\\n\\nVincula el pago de tu mensualidad a tu cuenta BBVA\\\\*, llamando al [011-52-55-1102 0015](tel:011525511020015) agregando (011-52-55) desde Estados Unidos (es necesario que tengas una cuenta activa con BBVA).\\n\\nMoney Order Consulta como llenarlo.\\n\\nCheque Consulta como llenarlo.\\n\\n\\\\*La cuenta deberá estar a nombre del titular del crédito.\\n\\nNota: Para los pagos con Money Order o Cheque, deberás tomar en cuenta el tiempo de envío, por lo que te sugerimos realizar tu pago del día 15 al 20 de cada mes, así, evitarás contratiempos.\\n\\n## ¿Cómo tramito mi Adhesión al Programa de Apoyo Infonavit?\\n\\nEn que consiste:\\n\\nSi ya tienes tu crédito Hipotecario lo puedes inscribir al programa de apoyo INFONAVIT, en el cual las aportaciones del 5% que realiza tu patrón se aplican al pago de tu crédito (pagos a capital), teniendo grandes beneficios.\\n\\nBeneficios\\n\\nDisminución del plazo o mensualidades vencidas del crédito según escritura.\\n\\nAhorro en el cobro de intereses.\\n\\nEn caso de perder tu empleo el saldo acumulado en la subcuenta de vivienda se aplica a las mensualidades del crédito y se interrumpe cuando recuperes tu relación laboral, aunque sigas teniendo saldo en la subcuenta.\\n\\nRequisitos\\n\\nHaber Formalizado el crédito a partir del 2002 (no aplica años anteriores).\\n\\nSer derechohabiente del Infonavit con relación laboral vigente.\\n\\nNo tener un crédito vigente del Infonavit.\\n\\nFirmar convenio modificatorio ante Notario Público.\\n\\nFirmar Carta de Instrucción Irrevocable 43BIS.\\n\\nQue el crédito otorgado por el Banco haya sido destinado para comprar una casa nueva o usada.\\n\\nDocumentos Requeridos.\\n\\n\\xa0Copia del último testimonio Firmado.\\n\\nCopia de Identificación Oficial.\\n\\nCopia Predial al corriente.\\n\\n## Documentos de interés\\n\\n### \\n\\n### \\n\\n### \\n\\n### ¿Quieres hacernos algún comentario?\\n\\n### Unidad Especializada en Atención a Clientes (UNE)\\n\\nTe invitamos a contactarnos.\\n\\nPara consultas, reclamaciones y aclaraciones:\\n\\nEstamos a tus órdenes en nuestras oficinas en Lago Alberto 320 (entrada por Mariano Escobedo 303), colonia Granada, código postal 11320, alcaldía Miguel Hidalgo, Ciudad de México; Business Center planta baja. Entre Laguna de Mayrán y Lago Alberto, de lunes a viernes de 09:00 a 14:00 horas.\\n\\nTambién puedes llamarnos al [55 1998 8039](tel:5519988039 \"Abre en nueva ventana\") de lunes a viernes de 08:30 a 17:30 horas, desde cualquier parte de la República Mexicana.\\n\\nO envíanos por correo electrónico a [une.mx@bbva.com](mailto:une.mx@bbva.com \"Abre en nueva ventana\"), una carta firmada donde nos cuentes lo que sucedió; si tienes evidencia de lo sucedido inclúyela en el correo, además de una imagen, en formato .JPG o .PDF, de tu identificación oficial (INE, pasaporte, cédula profesional menor a diez años de antigüedad).\\n\\n### Condusef\\n\\nLa Comisión Nacional para la Protección y Defensa de los Usuarios de los Servicios Financieros (Condusef) está a tu disposición en su domicilio:\\n\\nInsurgentes Sur 762, Colonia del Valle, alcaldía Benito Juárez, código postal 03100, Ciudad de México.\\n\\nComunícate a los teléfonos:\\n\\nSi lo prefieres, escribe un correo electrónico a:\\n\\n[asesoria@condusef.gob.mx](mailto:asesoria@condusef.gob.mx \"Open in a new browser\"),\\n\\no visita el sitio\\n\\nAtención al cliente\\n\\nContáctanos\\n\\nCAT promedio 14.9% sin IVA\\n\\nEl cálculo del CAT para este producto se efectuó considerando los valores de vivienda promedios establecidos por la Sociedad Hipotecaria Federal, S.N.C., I.B.D., (económica $732,901.73 pesos, moneda nacional; media $1’738,012.61 pesos, moneda nacional; residencial $3’811,053.80 pesos, moneda nacional y residencial plus $7’999,015.80 pesos, moneda nacional), con un aforo al 80% y un plazo a 15 años.\\n\\nPara fines informativos y de comparación.\\xa0\\n\\nFecha de cálculo:\\xa003 de febrero de 2025. Vigencia de la oferta hasta el 31 de agosto de 2025.\\n\\nPara conocer el\\xa0CAT\\xa0específico del producto, así como los términos y requisitos de contratación, condiciones financieras, monto y conceptos de las comisiones aplicables llama al\\xa0Centro de Atención Hipotecario\\xa0a través del [55 1102 0015](tel:55%201102%200015) o bien\\xa0acude a una sucursal.\\n\\nCentro de Ayuda\\n\\nInformación Corporativa\\n\\nOtros sitios BBVA\\n\\nEn BBVA vivimos la igualdad de oportunidades\\n\\nNos ponemos en el lugar de los demás siendo conscientes de nuestras diferencias; por ello, promovemos nuestros valores y contamos con lineamientos que promueven la igualdad, el respeto y la no discriminación para que todas las personas reciban un trato digno y equitativo.\\n\\n[**Trabajando por un sitio accesible para todos.**](/content/dam/public-web/mexico/documents/Accesibilidad_Ilunion.pdf \"Open in a new browser\")\\n\\n![BBVA México | Tarjetas, Créditos, Hipotecas, Cuentas, Seguros, Nóminas, Portabilidad](/content/dam/library/logos/logo-bbva.svg)\\n\\n© 2025 BBVA México, S.A., Institución de Banca Múltiple, Grupo Financiero BBVA México. Avenida Paseo de la Reforma 510, colonia Juárez, código postal 06600, alcaldía Cuauhtémoc, Ciudad de México.', additional_kwargs={}, response_metadata={})])"
      ]
     },
     "execution_count": 45,
     "metadata": {},
     "output_type": "execute_result"
    }
   ],
   "source": [
    "system+input_text"
   ]
  },
  {
   "cell_type": "code",
   "execution_count": 48,
   "id": "6c66ef34",
   "metadata": {},
   "outputs": [],
   "source": [
    "strctured = llm.invoke([system,input_text])"
   ]
  },
  {
   "cell_type": "code",
   "execution_count": 60,
   "id": "28553e77",
   "metadata": {},
   "outputs": [
    {
     "data": {
      "text/plain": [
       "'### **Resumen del Programa de Crédito Hipotecario BBVA México**\\n\\n---\\n\\n#### **1. Información General del Crédito**\\n- **CAT (Costo Anual Total):**  \\n  - **Promedio:** 14.9% sin IVA.  \\n  - **Cálculo:** Basado en promedios de vivienda establecidos por la Sociedad Hipotecaria Federal (valores de $732,901.73 a $7,999,015.80).  \\n  - **Vigencia:** Hasta el 31 de agosto de 2025.  \\n\\n- **Plazo y Aforo:**  \\n  - Plazo máximo: 15 años.  \\n  - Aforo máximo: 80% del valor de la vivienda.  \\n\\n---\\n\\n#### **2. Opciones de Pago**\\n- **Pago en México:**  \\n  - **Domiciliación automática:** Cobro el último día hábil del mes en una cuenta BBVA (no se aceptan tarjetas de crédito o cuentas de inversión).  \\n  - **Canal de pago:** Llamada a **55-1102-0015** desde CDMX.  \\n\\n- **Pago desde el extranjero (Programa \"Tu Opción en México\"):**  \\n  - **Opciones:**  \\n    - Vincular pago a cuenta BBVA (llamar a **011-52-55-1102-0015**).  \\n    - **Money Order** o **Cheque** (con recomendación de pagar entre el día 15 y 20 del mes).  \\n\\n---\\n\\n#### **3. Preguntas Frecuentes**\\n- **¿Qué pasa si no pago a tiempo?**  \\n  - Consecuencias: Afecta el historial crediticio, incrementa intereses, y puede llevar a la pérdida del patrimonio.  \\n\\n- **¿Cómo adherir al Programa de Apoyo Infonavit?**  \\n  - **Requisitos:**  \\n    - Crédito hipotecario formalizado a partir de 2002.  \\n    - Ser derechohabiente Infonavit con relación laboral vigente.  \\n    - No tener otro crédito Infonavit.  \\n  - **Beneficios:**  \\n    - Aplicación de aportaciones del 5% del patrón al pago del capital.  \\n    - Reducción de plazo o mensualidades.  \\n\\n---\\n\\n#### **4. Contacto y Atención al Cliente**\\n- **Unidad Especializada en Atención a Clientes (UNE):**  \\n  - **Dirección:** Lago Alberto 320, colonia Granada, CDMX.  \\n  - **Teléfono:** **55 1998 8039** (lunes a viernes, 08:30-17:30).  \\n  - **Correo:** **une.mx@bbva.com** (adjuntar identificación oficial y evidencia).  \\n\\n- **Condusef:**  \\n  - **Dirección:** Insurgentes Sur 762, CDMX.  \\n  - **Correo:** **asesoria@condusef.gob.mx**.  \\n\\n---\\n\\n#### **5. Advertencias y Legal**\\n- **Consecuencias de mora:**  \\n  - Multas, incremento de intereses, y posibilidad de ejecución hipotecaria.  \\n\\n- **Documentos Requeridos para Adhesión al Infonavit:**  \\n  - Copia del último testimonio firmado.  \\n  - Identificación oficial.  \\n  - Copia del predial al corriente.  \\n\\n---\\n\\n#### **6. Políticas Corporativas**\\n- **Igualdad de oportunidades:** BBVA promueve un trato equitativo y sin discriminación.  \\n- **Accesibilidad:** Disponibilidad de información en formatos accesibles (ver [enlace](/content/dam/public-web/mexico/documents/Accesibilidad_Ilunion.pdf)).  \\n\\n---\\n\\n#### **7. Información Corporativa**\\n- **Propiedad:** BBVA México, S.A., Grupo Financiero BBVA México.  \\n- **Dirección:** Avenida Paseo de la Reforma 510, colonia Juárez, CDMX.  \\n\\n---\\n\\n**Nota:** Para obtener el CAT específico, términos de contratación o asesoría personalizada, contactar al **Centro de Atención Hipotecario** al **55 1102 0015** o acudir a una sucursal.'"
      ]
     },
     "execution_count": 60,
     "metadata": {},
     "output_type": "execute_result"
    }
   ],
   "source": [
    "strctured.content.split(\"</think>\\n\\n\")[-1]"
   ]
  },
  {
   "cell_type": "code",
   "execution_count": 61,
   "id": "9d3a7d2b",
   "metadata": {},
   "outputs": [
    {
     "data": {
      "text/markdown": [
       "### **Resumen del Programa de Crédito Hipotecario BBVA México**\n",
       "\n",
       "---\n",
       "\n",
       "#### **1. Información General del Crédito**\n",
       "- **CAT (Costo Anual Total):**  \n",
       "  - **Promedio:** 14.9% sin IVA.  \n",
       "  - **Cálculo:** Basado en promedios de vivienda establecidos por la Sociedad Hipotecaria Federal (valores de $732,901.73 a $7,999,015.80).  \n",
       "  - **Vigencia:** Hasta el 31 de agosto de 2025.  \n",
       "\n",
       "- **Plazo y Aforo:**  \n",
       "  - Plazo máximo: 15 años.  \n",
       "  - Aforo máximo: 80% del valor de la vivienda.  \n",
       "\n",
       "---\n",
       "\n",
       "#### **2. Opciones de Pago**\n",
       "- **Pago en México:**  \n",
       "  - **Domiciliación automática:** Cobro el último día hábil del mes en una cuenta BBVA (no se aceptan tarjetas de crédito o cuentas de inversión).  \n",
       "  - **Canal de pago:** Llamada a **55-1102-0015** desde CDMX.  \n",
       "\n",
       "- **Pago desde el extranjero (Programa \"Tu Opción en México\"):**  \n",
       "  - **Opciones:**  \n",
       "    - Vincular pago a cuenta BBVA (llamar a **011-52-55-1102-0015**).  \n",
       "    - **Money Order** o **Cheque** (con recomendación de pagar entre el día 15 y 20 del mes).  \n",
       "\n",
       "---\n",
       "\n",
       "#### **3. Preguntas Frecuentes**\n",
       "- **¿Qué pasa si no pago a tiempo?**  \n",
       "  - Consecuencias: Afecta el historial crediticio, incrementa intereses, y puede llevar a la pérdida del patrimonio.  \n",
       "\n",
       "- **¿Cómo adherir al Programa de Apoyo Infonavit?**  \n",
       "  - **Requisitos:**  \n",
       "    - Crédito hipotecario formalizado a partir de 2002.  \n",
       "    - Ser derechohabiente Infonavit con relación laboral vigente.  \n",
       "    - No tener otro crédito Infonavit.  \n",
       "  - **Beneficios:**  \n",
       "    - Aplicación de aportaciones del 5% del patrón al pago del capital.  \n",
       "    - Reducción de plazo o mensualidades.  \n",
       "\n",
       "---\n",
       "\n",
       "#### **4. Contacto y Atención al Cliente**\n",
       "- **Unidad Especializada en Atención a Clientes (UNE):**  \n",
       "  - **Dirección:** Lago Alberto 320, colonia Granada, CDMX.  \n",
       "  - **Teléfono:** **55 1998 8039** (lunes a viernes, 08:30-17:30).  \n",
       "  - **Correo:** **une.mx@bbva.com** (adjuntar identificación oficial y evidencia).  \n",
       "\n",
       "- **Condusef:**  \n",
       "  - **Dirección:** Insurgentes Sur 762, CDMX.  \n",
       "  - **Correo:** **asesoria@condusef.gob.mx**.  \n",
       "\n",
       "---\n",
       "\n",
       "#### **5. Advertencias y Legal**\n",
       "- **Consecuencias de mora:**  \n",
       "  - Multas, incremento de intereses, y posibilidad de ejecución hipotecaria.  \n",
       "\n",
       "- **Documentos Requeridos para Adhesión al Infonavit:**  \n",
       "  - Copia del último testimonio firmado.  \n",
       "  - Identificación oficial.  \n",
       "  - Copia del predial al corriente.  \n",
       "\n",
       "---\n",
       "\n",
       "#### **6. Políticas Corporativas**\n",
       "- **Igualdad de oportunidades:** BBVA promueve un trato equitativo y sin discriminación.  \n",
       "- **Accesibilidad:** Disponibilidad de información en formatos accesibles (ver [enlace](/content/dam/public-web/mexico/documents/Accesibilidad_Ilunion.pdf)).  \n",
       "\n",
       "---\n",
       "\n",
       "#### **7. Información Corporativa**\n",
       "- **Propiedad:** BBVA México, S.A., Grupo Financiero BBVA México.  \n",
       "- **Dirección:** Avenida Paseo de la Reforma 510, colonia Juárez, CDMX.  \n",
       "\n",
       "---\n",
       "\n",
       "**Nota:** Para obtener el CAT específico, términos de contratación o asesoría personalizada, contactar al **Centro de Atención Hipotecario** al **55 1102 0015** o acudir a una sucursal."
      ],
      "text/plain": [
       "<IPython.core.display.Markdown object>"
      ]
     },
     "metadata": {},
     "output_type": "display_data"
    }
   ],
   "source": [
    "from IPython.display import Markdown, display\n",
    "\n",
    "display(Markdown(strctured.content.split(\"</think>\\n\\n\")[-1]))"
   ]
  },
  {
   "cell_type": "code",
   "execution_count": 63,
   "id": "fe6e8d03",
   "metadata": {},
   "outputs": [
    {
     "data": {
      "text/plain": [
       "3012"
      ]
     },
     "execution_count": 63,
     "metadata": {},
     "output_type": "execute_result"
    }
   ],
   "source": [
    "len(strctured.content.split(\"</think>\\n\\n\")[-1])"
   ]
  },
  {
   "cell_type": "markdown",
   "id": "520f3d3d",
   "metadata": {},
   "source": [
    "## DEVELOP OF FOR GRAPH"
   ]
  },
  {
   "cell_type": "code",
   "execution_count": null,
   "id": "ab7b3232",
   "metadata": {},
   "outputs": [],
   "source": [
    "from langgraph.graph import START, END, StateGraph\n",
    "\n",
    "#FOR DATA STRUCTURES\n",
    "from typing import TypedDict, Literal, Optional\n",
    "\n",
    "#FOR PARSING XML\n",
    "from bs4 import BeautifulSoup\n",
    "\n",
    "from IPython.display import Image, display"
   ]
  },
  {
   "cell_type": "code",
   "execution_count": 86,
   "id": "88137150",
   "metadata": {},
   "outputs": [],
   "source": [
    "class Input_Crawler_State(BaseModel):\n",
    "\n",
    "    basesite: str\n",
    "    mapsite: Optional[str] = None\n",
    "\n",
    "\n",
    "class Crawler_State(Input_Crawler_State):\n",
    "\n",
    "    links: list[str]\n",
    "    "
   ]
  },
  {
   "cell_type": "code",
   "execution_count": null,
   "id": "d366fcd0",
   "metadata": {},
   "outputs": [],
   "source": [
    "#test_state = Input_Crawler_State(basesite='https://www.bbva.mx/')\n",
    "test_state = Input_Crawler_State(basesite='https://www.cpm.coop/')"
   ]
  },
  {
   "cell_type": "code",
   "execution_count": null,
   "id": "1618ce14",
   "metadata": {},
   "outputs": [],
   "source": [
    "def GET_LINKS_NODE(state: Input_Crawler_State) -> Crawler_State:\n",
    "    \"\"\"Get all the links from a sitemap\"\"\"\n",
    "\n",
    "    #Set Mapsite or valdiate that is an XML\n",
    "    mapsite = state.mapsite\n",
    "    if mapsite is None:\n",
    "        mapsite = state.basesite + 'sitemap.xml'\n",
    "    elif not mapsite.lower().endswith('.xml'):\n",
    "        raise ValueError(f\"Invalid sitemap: does not end with '.xml'\")\n",
    "\n",
    "    # Fetch sitemap content\n",
    "    res = requests.get(mapsite, timeout=5.0)\n",
    "    res.raise_for_status()\n",
    "\n",
    "    #Parsing the XMLS\n",
    "    soup =  BeautifulSoup(res.text, 'xml')\n",
    "\n",
    "    #Filter all the links\n",
    "    links = []\n",
    "    for url in soup.find_all('url'):\n",
    "        \n",
    "        #Get the full link and the route\n",
    "        link = url.find('loc').text\n",
    "        route = link.split(state.basesite)[-1]\n",
    "\n",
    "        #In case the link doesn't have ending\n",
    "        if len(route.split('.')) == 1:\n",
    "            links.append(link)\n",
    "\n",
    "        #Get only the htmls\n",
    "        if route.endswith('.html'):\n",
    "            links.append(link)\n",
    "     \n",
    "    #Remove duplcates\n",
    "    links = list(set(links))\n",
    "\n",
    "    "
   ]
  },
  {
   "cell_type": "code",
   "execution_count": null,
   "id": "81a1a1e1",
   "metadata": {},
   "outputs": [],
   "source": [
    "def FILTER_LINKS_NODE(state: Crawler_State):\n",
    "    \"\"\"Filter links from html already present on the database\"\"\"\n",
    "\n",
    "    links = state.links\n",
    "\n",
    "    ####### TO ADD FILTER FROM DATABASE\n",
    "\n",
    "    return {\"links\": links[:5]} "
   ]
  },
  {
   "cell_type": "code",
   "execution_count": 270,
   "id": "5c700efc",
   "metadata": {},
   "outputs": [],
   "source": [
    "crawler_builder = StateGraph(Crawler_State, input = Input_Crawler_State)\n",
    "\n",
    "crawler_builder.add_node('GET_LINKS_NODE',GET_LINKS_NODE)\n",
    "crawler_builder.add_node('FILTER_LINKS_NODE',FILTER_LINKS_NODE)\n",
    "\n",
    "crawler_builder.add_edge(START, 'GET_LINKS_NODE')\n",
    "crawler_builder.add_edge('GET_LINKS_NODE', 'FILTER_LINKS_NODE')\n",
    "crawler_builder.add_edge('FILTER_LINKS_NODE', END)\n",
    "\n",
    "crawler_graph = crawler_builder.compile()"
   ]
  },
  {
   "cell_type": "code",
   "execution_count": 272,
   "id": "045ec743",
   "metadata": {},
   "outputs": [
    {
     "name": "stdout",
     "output_type": "stream",
     "text": [
      "{'GET_LINKS_NODE': {'links': ['https://www.cpm.coop/credito-inmediato-cpm', 'https://www.cpm.coop/aviso-de-privacidad-credito-y-cobranza', 'https://www.cpm.coop/como-ser-socio-cumplidor', 'https://www.cpm.coop/credito-automotriz-cpm', 'https://www.cpm.coop/', 'https://www.cpm.coop/despacho-de-cobranza', 'https://www.cpm.coop/credito-personal-plus-cpm', 'https://www.cpm.coop/consulta-los-costos-y-comisiones-de-nuestros-productos', 'https://www.cpm.coop/preguntas-frecuentes-sei', 'https://www.cpm.coop/enlacecooperativo', 'https://www.cpm.coop/tarjeta-de-debito', 'https://www.cpm.coop/rendicuenta', 'https://www.cpm.coop/necesitas-un-seguro', 'https://www.cpm.coop/cpm-movil', 'https://www.cpm.coop/ubica-tu-sucursal', 'https://www.cpm.coop/credito-credinamico-cpm', 'https://www.cpm.coop/facecoop', 'https://www.cpm.coop/inmuebles/', 'https://www.cpm.coop/corresponsalias', 'https://www.cpm.coop/consejo-de-seguridad-sei', 'https://www.cpm.coop/credito-productivo-cpm', 'https://www.cpm.coop/quieres-saber-las-tasas-de-rendimiento', 'https://www.cpm.coop/educacion/', 'https://www.cpm.coop/index', 'https://www.cpm.coop/criterios-contables-especiales', 'https://www.cpm.coop/cuenta-mexicana', 'https://www.cpm.coop/miseguro-prybe', 'https://www.cpm.coop/soy-menor-de-edad', 'https://www.cpm.coop/ahorro-e-inversion', 'https://www.cpm.coop/servicuenta', 'https://www.cpm.coop/ser-socio', 'https://www.cpm.coop/miautoseguro-prybe', 'https://www.cpm.coop/mapa-de-sitio', 'https://www.cpm.coop/terminos-de-uso-para-redes-sociales', 'https://www.cpm.coop/linea-de-tiempo', 'https://www.cpm.coop/aviso-de-privacidad-en-redes-sociales', 'https://www.cpm.coop/conocenos', 'https://www.cpm.coop/assets/img/secciones/corresponsalias/JULIO-2020-CORRESPONSALIAS.html', 'https://www.cpm.coop/operaciones-disponibles-sei', 'https://www.cpm.coop/necesitas-credito', 'https://www.cpm.coop/politicas-de-uso', 'https://www.cpm.coop/credito-hipotecario-cpm', 'https://www.cpm.coop/consideraciones-tecnicas-sei', 'https://www.cpm.coop/comportamiento-de-sociedades-cooperativas-de-ahorro-y-prestamo', 'https://www.cpm.coop/terminos-y-condiciones-sei', 'https://www.cpm.coop/mi-nomina-mexicana', 'https://www.cpm.coop/asambleas', 'https://www.cpm.coop/aviso-de-privacidad', 'https://www.cpm.coop/mi-alcancia', 'https://www.cpm.coop/buro-de-entidades-financieras', 'https://www.cpm.coop/cpm-en-linea', 'https://www.cpm.coop/mi-alcancia-junior', 'https://www.cpm.coop/aviso-de-privacidad-postulantes', 'https://www.cpm.coop/serviciosdigitales', 'https://www.cpm.coop/solidez-empresarial', 'https://www.cpm.coop/cuentamiga']}}\n",
      "{'FILTER_LINKS_NODE': {'links': ['https://www.cpm.coop/credito-inmediato-cpm', 'https://www.cpm.coop/aviso-de-privacidad-credito-y-cobranza', 'https://www.cpm.coop/como-ser-socio-cumplidor', 'https://www.cpm.coop/credito-automotriz-cpm', 'https://www.cpm.coop/']}}\n"
     ]
    }
   ],
   "source": [
    "for chunk in crawler_graph.stream({'basesite': 'https://www.cpm.coop/'}):\n",
    "    print(chunk)"
   ]
  }
 ],
 "metadata": {
  "kernelspec": {
   "display_name": "Python 3 (ipykernel)",
   "language": "python",
   "name": "python3"
  },
  "language_info": {
   "codemirror_mode": {
    "name": "ipython",
    "version": 3
   },
   "file_extension": ".py",
   "mimetype": "text/x-python",
   "name": "python",
   "nbconvert_exporter": "python",
   "pygments_lexer": "ipython3",
   "version": "3.11.13"
  }
 },
 "nbformat": 4,
 "nbformat_minor": 5
}
